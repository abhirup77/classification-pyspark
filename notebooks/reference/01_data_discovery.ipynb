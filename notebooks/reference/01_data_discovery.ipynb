{
 "cells": [
  {
   "cell_type": "code",
   "execution_count": 1,
   "metadata": {},
   "outputs": [],
   "source": [
    "%load_ext autoreload\n",
    "%autoreload 2"
   ]
  },
  {
   "cell_type": "markdown",
   "metadata": {},
   "source": [
    "# Purpose\n",
    "This notebook describes the typical activities carried out at the beginning to a project / thread when customer shares new data. We will be trying to understand the tables, columns and information flow. Typically we also look for data issues and confirm with respective owners for resolution. At the end of this activity, the data sources and their treatment is finalized. Code in this notebook will not be part of the production code.\n",
    "\n",
    "This data is stored currently in the tiger databricks storage. This data is stored currently in the tiger databricks storage. The notebooks are configured to connect directly to the Databricks fielstore and pull/save relevant files, therefore it is not required to download the files. \n",
    "\n",
    "Contact [code templates support](code-templates-support@tigeranalytics.com) for access to databricks"
   ]
  },
  {
   "cell_type": "markdown",
   "metadata": {},
   "source": [
    "# Imports"
   ]
  },
  {
   "cell_type": "code",
   "execution_count": 2,
   "metadata": {},
   "outputs": [
    {
     "name": "stderr",
     "output_type": "stream",
     "text": [
      "WARNING:param.panel_extension: bokeh extension not recognized and will be skipped.\n"
     ]
    },
    {
     "data": {
      "application/javascript": [
       "\n",
       "(function(root) {\n",
       "  function now() {\n",
       "    return new Date();\n",
       "  }\n",
       "\n",
       "  var force = true;\n",
       "\n",
       "  if (typeof root._bokeh_onload_callbacks === \"undefined\" || force === true) {\n",
       "    root._bokeh_onload_callbacks = [];\n",
       "    root._bokeh_is_loading = undefined;\n",
       "  }\n",
       "\n",
       "  if (typeof (root._bokeh_timeout) === \"undefined\" || force === true) {\n",
       "    root._bokeh_timeout = Date.now() + 5000;\n",
       "    root._bokeh_failed_load = false;\n",
       "  }\n",
       "\n",
       "  function run_callbacks() {\n",
       "    try {\n",
       "      root._bokeh_onload_callbacks.forEach(function(callback) {\n",
       "        if (callback != null)\n",
       "          callback();\n",
       "      });\n",
       "    } finally {\n",
       "      delete root._bokeh_onload_callbacks\n",
       "    }\n",
       "    console.debug(\"Bokeh: all callbacks have finished\");\n",
       "  }\n",
       "\n",
       "  function load_libs(css_urls, js_urls, callback) {\n",
       "    if (css_urls == null) css_urls = [];\n",
       "    if (js_urls == null) js_urls = [];\n",
       "\n",
       "    root._bokeh_onload_callbacks.push(callback);\n",
       "    if (root._bokeh_is_loading > 0) {\n",
       "      console.debug(\"Bokeh: BokehJS is being loaded, scheduling callback at\", now());\n",
       "      return null;\n",
       "    }\n",
       "    if (js_urls == null || js_urls.length === 0) {\n",
       "      run_callbacks();\n",
       "      return null;\n",
       "    }\n",
       "    console.debug(\"Bokeh: BokehJS not loaded, scheduling load and callback at\", now());\n",
       "    root._bokeh_is_loading = css_urls.length + js_urls.length;\n",
       "\n",
       "    function on_load() {\n",
       "      root._bokeh_is_loading--;\n",
       "      if (root._bokeh_is_loading === 0) {\n",
       "        console.debug(\"Bokeh: all BokehJS libraries/stylesheets loaded\");\n",
       "        run_callbacks()\n",
       "      }\n",
       "    }\n",
       "\n",
       "    function on_error() {\n",
       "      console.error(\"failed to load \" + url);\n",
       "    }\n",
       "\n",
       "    for (var i = 0; i < css_urls.length; i++) {\n",
       "      var url = css_urls[i];\n",
       "      const element = document.createElement(\"link\");\n",
       "      element.onload = on_load;\n",
       "      element.onerror = on_error;\n",
       "      element.rel = \"stylesheet\";\n",
       "      element.type = \"text/css\";\n",
       "      element.href = url;\n",
       "      console.debug(\"Bokeh: injecting link tag for BokehJS stylesheet: \", url);\n",
       "      document.body.appendChild(element);\n",
       "    }\n",
       "\n",
       "    var skip = [];\n",
       "    if (window.requirejs) {\n",
       "      require([], function() {\n",
       "      })\n",
       "    }\n",
       "    for (var i = 0; i < js_urls.length; i++) {\n",
       "      var url = js_urls[i];\n",
       "      if (skip.indexOf(url) >= 0) { on_load(); continue; }\n",
       "      var element = document.createElement('script');\n",
       "      element.onload = on_load;\n",
       "      element.onerror = on_error;\n",
       "      element.async = false;\n",
       "      element.src = url;\n",
       "      console.debug(\"Bokeh: injecting script tag for BokehJS library: \", url);\n",
       "      document.head.appendChild(element);\n",
       "    }\n",
       "\tif (!js_urls.length) {\n",
       "      on_load()\n",
       "    }\n",
       "  };\n",
       "\n",
       "  function inject_raw_css(css) {\n",
       "    const element = document.createElement(\"style\");\n",
       "    element.appendChild(document.createTextNode(css));\n",
       "    document.body.appendChild(element);\n",
       "  }\n",
       "\n",
       "  var js_urls = [\"https://cdn.bokeh.org/bokeh/release/bokeh-2.2.3.min.js\", \"https://cdn.bokeh.org/bokeh/release/bokeh-widgets-2.2.3.min.js\", \"https://cdn.bokeh.org/bokeh/release/bokeh-tables-2.2.3.min.js\", \"https://unpkg.com/@holoviz/panel@^0.10.1/dist/panel.min.js\"];\n",
       "  var css_urls = [\"https://unpkg.com/@holoviz/panel@0.10.1/dist/css/alerts.css\", \"https://unpkg.com/@holoviz/panel@0.10.1/dist/css/card.css\", \"https://unpkg.com/@holoviz/panel@0.10.1/dist/css/dataframe.css\", \"https://unpkg.com/@holoviz/panel@0.10.1/dist/css/json.css\", \"https://unpkg.com/@holoviz/panel@0.10.1/dist/css/markdown.css\", \"https://unpkg.com/@holoviz/panel@0.10.1/dist/css/widgets.css\"];\n",
       "\n",
       "  var inline_js = [\n",
       "    function(Bokeh) {\n",
       "      Bokeh.set_log_level(\"info\");\n",
       "    },\n",
       "    function(Bokeh) {} // ensure no trailing comma for IE\n",
       "  ];\n",
       "\n",
       "  function run_inline_js() {\n",
       "    if ((root.Bokeh !== undefined) || (force === true)) {\n",
       "      for (var i = 0; i < inline_js.length; i++) {\n",
       "        inline_js[i].call(root, root.Bokeh);\n",
       "      }} else if (Date.now() < root._bokeh_timeout) {\n",
       "      setTimeout(run_inline_js, 100);\n",
       "    } else if (!root._bokeh_failed_load) {\n",
       "      console.log(\"Bokeh: BokehJS failed to load within specified timeout.\");\n",
       "      root._bokeh_failed_load = true;\n",
       "    }\n",
       "  }\n",
       "\n",
       "  if (root._bokeh_is_loading === 0) {\n",
       "    console.debug(\"Bokeh: BokehJS loaded, going straight to plotting\");\n",
       "    run_inline_js();\n",
       "  } else {\n",
       "    load_libs(css_urls, js_urls, function() {\n",
       "      console.debug(\"Bokeh: BokehJS plotting callback run at\", now());\n",
       "      run_inline_js();\n",
       "    });\n",
       "  }\n",
       "}(window));"
      ],
      "application/vnd.holoviews_load.v0+json": "\n(function(root) {\n  function now() {\n    return new Date();\n  }\n\n  var force = true;\n\n  if (typeof root._bokeh_onload_callbacks === \"undefined\" || force === true) {\n    root._bokeh_onload_callbacks = [];\n    root._bokeh_is_loading = undefined;\n  }\n\n  if (typeof (root._bokeh_timeout) === \"undefined\" || force === true) {\n    root._bokeh_timeout = Date.now() + 5000;\n    root._bokeh_failed_load = false;\n  }\n\n  function run_callbacks() {\n    try {\n      root._bokeh_onload_callbacks.forEach(function(callback) {\n        if (callback != null)\n          callback();\n      });\n    } finally {\n      delete root._bokeh_onload_callbacks\n    }\n    console.debug(\"Bokeh: all callbacks have finished\");\n  }\n\n  function load_libs(css_urls, js_urls, callback) {\n    if (css_urls == null) css_urls = [];\n    if (js_urls == null) js_urls = [];\n\n    root._bokeh_onload_callbacks.push(callback);\n    if (root._bokeh_is_loading > 0) {\n      console.debug(\"Bokeh: BokehJS is being loaded, scheduling callback at\", now());\n      return null;\n    }\n    if (js_urls == null || js_urls.length === 0) {\n      run_callbacks();\n      return null;\n    }\n    console.debug(\"Bokeh: BokehJS not loaded, scheduling load and callback at\", now());\n    root._bokeh_is_loading = css_urls.length + js_urls.length;\n\n    function on_load() {\n      root._bokeh_is_loading--;\n      if (root._bokeh_is_loading === 0) {\n        console.debug(\"Bokeh: all BokehJS libraries/stylesheets loaded\");\n        run_callbacks()\n      }\n    }\n\n    function on_error() {\n      console.error(\"failed to load \" + url);\n    }\n\n    for (var i = 0; i < css_urls.length; i++) {\n      var url = css_urls[i];\n      const element = document.createElement(\"link\");\n      element.onload = on_load;\n      element.onerror = on_error;\n      element.rel = \"stylesheet\";\n      element.type = \"text/css\";\n      element.href = url;\n      console.debug(\"Bokeh: injecting link tag for BokehJS stylesheet: \", url);\n      document.body.appendChild(element);\n    }\n\n    var skip = [];\n    if (window.requirejs) {\n      require([], function() {\n      })\n    }\n    for (var i = 0; i < js_urls.length; i++) {\n      var url = js_urls[i];\n      if (skip.indexOf(url) >= 0) { on_load(); continue; }\n      var element = document.createElement('script');\n      element.onload = on_load;\n      element.onerror = on_error;\n      element.async = false;\n      element.src = url;\n      console.debug(\"Bokeh: injecting script tag for BokehJS library: \", url);\n      document.head.appendChild(element);\n    }\n\tif (!js_urls.length) {\n      on_load()\n    }\n  };\n\n  function inject_raw_css(css) {\n    const element = document.createElement(\"style\");\n    element.appendChild(document.createTextNode(css));\n    document.body.appendChild(element);\n  }\n\n  var js_urls = [\"https://cdn.bokeh.org/bokeh/release/bokeh-2.2.3.min.js\", \"https://cdn.bokeh.org/bokeh/release/bokeh-widgets-2.2.3.min.js\", \"https://cdn.bokeh.org/bokeh/release/bokeh-tables-2.2.3.min.js\", \"https://unpkg.com/@holoviz/panel@^0.10.1/dist/panel.min.js\"];\n  var css_urls = [\"https://unpkg.com/@holoviz/panel@0.10.1/dist/css/alerts.css\", \"https://unpkg.com/@holoviz/panel@0.10.1/dist/css/card.css\", \"https://unpkg.com/@holoviz/panel@0.10.1/dist/css/dataframe.css\", \"https://unpkg.com/@holoviz/panel@0.10.1/dist/css/json.css\", \"https://unpkg.com/@holoviz/panel@0.10.1/dist/css/markdown.css\", \"https://unpkg.com/@holoviz/panel@0.10.1/dist/css/widgets.css\"];\n\n  var inline_js = [\n    function(Bokeh) {\n      Bokeh.set_log_level(\"info\");\n    },\n    function(Bokeh) {} // ensure no trailing comma for IE\n  ];\n\n  function run_inline_js() {\n    if ((root.Bokeh !== undefined) || (force === true)) {\n      for (var i = 0; i < inline_js.length; i++) {\n        inline_js[i].call(root, root.Bokeh);\n      }} else if (Date.now() < root._bokeh_timeout) {\n      setTimeout(run_inline_js, 100);\n    } else if (!root._bokeh_failed_load) {\n      console.log(\"Bokeh: BokehJS failed to load within specified timeout.\");\n      root._bokeh_failed_load = true;\n    }\n  }\n\n  if (root._bokeh_is_loading === 0) {\n    console.debug(\"Bokeh: BokehJS loaded, going straight to plotting\");\n    run_inline_js();\n  } else {\n    load_libs(css_urls, js_urls, function() {\n      console.debug(\"Bokeh: BokehJS plotting callback run at\", now());\n      run_inline_js();\n    });\n  }\n}(window));"
     },
     "metadata": {},
     "output_type": "display_data"
    },
    {
     "data": {
      "application/javascript": [
       "\n",
       "if ((window.PyViz === undefined) || (window.PyViz instanceof HTMLElement)) {\n",
       "  window.PyViz = {comms: {}, comm_status:{}, kernels:{}, receivers: {}, plot_index: []}\n",
       "}\n",
       "\n",
       "\n",
       "    function JupyterCommManager() {\n",
       "    }\n",
       "\n",
       "    JupyterCommManager.prototype.register_target = function(plot_id, comm_id, msg_handler) {\n",
       "      if (window.comm_manager || ((window.Jupyter !== undefined) && (Jupyter.notebook.kernel != null))) {\n",
       "        var comm_manager = window.comm_manager || Jupyter.notebook.kernel.comm_manager;\n",
       "        comm_manager.register_target(comm_id, function(comm) {\n",
       "          comm.on_msg(msg_handler);\n",
       "        });\n",
       "      } else if ((plot_id in window.PyViz.kernels) && (window.PyViz.kernels[plot_id])) {\n",
       "        window.PyViz.kernels[plot_id].registerCommTarget(comm_id, function(comm) {\n",
       "          comm.onMsg = msg_handler;\n",
       "        });\n",
       "      } else if (typeof google != 'undefined' && google.colab.kernel != null) {\n",
       "        google.colab.kernel.comms.registerTarget(comm_id, (comm) => {\n",
       "          var messages = comm.messages[Symbol.asyncIterator]();\n",
       "          function processIteratorResult(result) {\n",
       "            var message = result.value;\n",
       "            console.log(message)\n",
       "            var content = {data: message.data, comm_id};\n",
       "            var buffers = []\n",
       "            for (var buffer of message.buffers || []) {\n",
       "              buffers.push(new DataView(buffer))\n",
       "            }\n",
       "            var metadata = message.metadata || {};\n",
       "            var msg = {content, buffers, metadata}\n",
       "            msg_handler(msg);\n",
       "            return messages.next().then(processIteratorResult);\n",
       "          }\n",
       "          return messages.next().then(processIteratorResult);\n",
       "        })\n",
       "      }\n",
       "    }\n",
       "\n",
       "    JupyterCommManager.prototype.get_client_comm = function(plot_id, comm_id, msg_handler) {\n",
       "      if (comm_id in window.PyViz.comms) {\n",
       "        return window.PyViz.comms[comm_id];\n",
       "      } else if (window.comm_manager || ((window.Jupyter !== undefined) && (Jupyter.notebook.kernel != null))) {\n",
       "        var comm_manager = window.comm_manager || Jupyter.notebook.kernel.comm_manager;\n",
       "        var comm = comm_manager.new_comm(comm_id, {}, {}, {}, comm_id);\n",
       "        if (msg_handler) {\n",
       "          comm.on_msg(msg_handler);\n",
       "        }\n",
       "      } else if ((plot_id in window.PyViz.kernels) && (window.PyViz.kernels[plot_id])) {\n",
       "        var comm = window.PyViz.kernels[plot_id].connectToComm(comm_id);\n",
       "        comm.open();\n",
       "        if (msg_handler) {\n",
       "          comm.onMsg = msg_handler;\n",
       "        }\n",
       "      } else if (typeof google != 'undefined' && google.colab.kernel != null) {\n",
       "        var comm_promise = google.colab.kernel.comms.open(comm_id)\n",
       "        comm_promise.then((comm) => {\n",
       "          window.PyViz.comms[comm_id] = comm;\n",
       "          if (msg_handler) {\n",
       "            var messages = comm.messages[Symbol.asyncIterator]();\n",
       "            function processIteratorResult(result) {\n",
       "              var message = result.value;\n",
       "              var content = {data: message.data};\n",
       "              var metadata = message.metadata || {comm_id};\n",
       "              var msg = {content, metadata}\n",
       "              msg_handler(msg);\n",
       "              return messages.next().then(processIteratorResult);\n",
       "            }\n",
       "            return messages.next().then(processIteratorResult);\n",
       "          }\n",
       "        }) \n",
       "        var sendClosure = (data, metadata, buffers, disposeOnDone) => {\n",
       "          return comm_promise.then((comm) => {\n",
       "            comm.send(data, metadata, buffers, disposeOnDone);\n",
       "          });\n",
       "        };\n",
       "        var comm = {\n",
       "          send: sendClosure\n",
       "        };\n",
       "      }\n",
       "      window.PyViz.comms[comm_id] = comm;\n",
       "      return comm;\n",
       "    }\n",
       "    window.PyViz.comm_manager = new JupyterCommManager();\n",
       "    \n",
       "\n",
       "\n",
       "var JS_MIME_TYPE = 'application/javascript';\n",
       "var HTML_MIME_TYPE = 'text/html';\n",
       "var EXEC_MIME_TYPE = 'application/vnd.holoviews_exec.v0+json';\n",
       "var CLASS_NAME = 'output';\n",
       "\n",
       "/**\n",
       " * Render data to the DOM node\n",
       " */\n",
       "function render(props, node) {\n",
       "  var div = document.createElement(\"div\");\n",
       "  var script = document.createElement(\"script\");\n",
       "  node.appendChild(div);\n",
       "  node.appendChild(script);\n",
       "}\n",
       "\n",
       "/**\n",
       " * Handle when a new output is added\n",
       " */\n",
       "function handle_add_output(event, handle) {\n",
       "  var output_area = handle.output_area;\n",
       "  var output = handle.output;\n",
       "  if ((output.data == undefined) || (!output.data.hasOwnProperty(EXEC_MIME_TYPE))) {\n",
       "    return\n",
       "  }\n",
       "  var id = output.metadata[EXEC_MIME_TYPE][\"id\"];\n",
       "  var toinsert = output_area.element.find(\".\" + CLASS_NAME.split(' ')[0]);\n",
       "  if (id !== undefined) {\n",
       "    var nchildren = toinsert.length;\n",
       "    var html_node = toinsert[nchildren-1].children[0];\n",
       "    html_node.innerHTML = output.data[HTML_MIME_TYPE];\n",
       "    var scripts = [];\n",
       "    var nodelist = html_node.querySelectorAll(\"script\");\n",
       "    for (var i in nodelist) {\n",
       "      if (nodelist.hasOwnProperty(i)) {\n",
       "        scripts.push(nodelist[i])\n",
       "      }\n",
       "    }\n",
       "\n",
       "    scripts.forEach( function (oldScript) {\n",
       "      var newScript = document.createElement(\"script\");\n",
       "      var attrs = [];\n",
       "      var nodemap = oldScript.attributes;\n",
       "      for (var j in nodemap) {\n",
       "        if (nodemap.hasOwnProperty(j)) {\n",
       "          attrs.push(nodemap[j])\n",
       "        }\n",
       "      }\n",
       "      attrs.forEach(function(attr) { newScript.setAttribute(attr.name, attr.value) });\n",
       "      newScript.appendChild(document.createTextNode(oldScript.innerHTML));\n",
       "      oldScript.parentNode.replaceChild(newScript, oldScript);\n",
       "    });\n",
       "    if (JS_MIME_TYPE in output.data) {\n",
       "      toinsert[nchildren-1].children[1].textContent = output.data[JS_MIME_TYPE];\n",
       "    }\n",
       "    output_area._hv_plot_id = id;\n",
       "    if ((window.Bokeh !== undefined) && (id in Bokeh.index)) {\n",
       "      window.PyViz.plot_index[id] = Bokeh.index[id];\n",
       "    } else {\n",
       "      window.PyViz.plot_index[id] = null;\n",
       "    }\n",
       "  } else if (output.metadata[EXEC_MIME_TYPE][\"server_id\"] !== undefined) {\n",
       "    var bk_div = document.createElement(\"div\");\n",
       "    bk_div.innerHTML = output.data[HTML_MIME_TYPE];\n",
       "    var script_attrs = bk_div.children[0].attributes;\n",
       "    for (var i = 0; i < script_attrs.length; i++) {\n",
       "      toinsert[toinsert.length - 1].childNodes[1].setAttribute(script_attrs[i].name, script_attrs[i].value);\n",
       "    }\n",
       "    // store reference to server id on output_area\n",
       "    output_area._bokeh_server_id = output.metadata[EXEC_MIME_TYPE][\"server_id\"];\n",
       "  }\n",
       "}\n",
       "\n",
       "/**\n",
       " * Handle when an output is cleared or removed\n",
       " */\n",
       "function handle_clear_output(event, handle) {\n",
       "  var id = handle.cell.output_area._hv_plot_id;\n",
       "  var server_id = handle.cell.output_area._bokeh_server_id;\n",
       "  if (((id === undefined) || !(id in PyViz.plot_index)) && (server_id !== undefined)) { return; }\n",
       "  var comm = window.PyViz.comm_manager.get_client_comm(\"hv-extension-comm\", \"hv-extension-comm\", function () {});\n",
       "  if (server_id !== null) {\n",
       "    comm.send({event_type: 'server_delete', 'id': server_id});\n",
       "    return;\n",
       "  } else if (comm !== null) {\n",
       "    comm.send({event_type: 'delete', 'id': id});\n",
       "  }\n",
       "  delete PyViz.plot_index[id];\n",
       "  if ((window.Bokeh !== undefined) & (id in window.Bokeh.index)) {\n",
       "    var doc = window.Bokeh.index[id].model.document\n",
       "    doc.clear();\n",
       "    const i = window.Bokeh.documents.indexOf(doc);\n",
       "    if (i > -1) {\n",
       "      window.Bokeh.documents.splice(i, 1);\n",
       "    }\n",
       "  }\n",
       "}\n",
       "\n",
       "/**\n",
       " * Handle kernel restart event\n",
       " */\n",
       "function handle_kernel_cleanup(event, handle) {\n",
       "  delete PyViz.comms[\"hv-extension-comm\"];\n",
       "  window.PyViz.plot_index = {}\n",
       "}\n",
       "\n",
       "/**\n",
       " * Handle update_display_data messages\n",
       " */\n",
       "function handle_update_output(event, handle) {\n",
       "  handle_clear_output(event, {cell: {output_area: handle.output_area}})\n",
       "  handle_add_output(event, handle)\n",
       "}\n",
       "\n",
       "function register_renderer(events, OutputArea) {\n",
       "  function append_mime(data, metadata, element) {\n",
       "    // create a DOM node to render to\n",
       "    var toinsert = this.create_output_subarea(\n",
       "    metadata,\n",
       "    CLASS_NAME,\n",
       "    EXEC_MIME_TYPE\n",
       "    );\n",
       "    this.keyboard_manager.register_events(toinsert);\n",
       "    // Render to node\n",
       "    var props = {data: data, metadata: metadata[EXEC_MIME_TYPE]};\n",
       "    render(props, toinsert[0]);\n",
       "    element.append(toinsert);\n",
       "    return toinsert\n",
       "  }\n",
       "\n",
       "  events.on('output_added.OutputArea', handle_add_output);\n",
       "  events.on('output_updated.OutputArea', handle_update_output);\n",
       "  events.on('clear_output.CodeCell', handle_clear_output);\n",
       "  events.on('delete.Cell', handle_clear_output);\n",
       "  events.on('kernel_ready.Kernel', handle_kernel_cleanup);\n",
       "\n",
       "  OutputArea.prototype.register_mime_type(EXEC_MIME_TYPE, append_mime, {\n",
       "    safe: true,\n",
       "    index: 0\n",
       "  });\n",
       "}\n",
       "\n",
       "if (window.Jupyter !== undefined) {\n",
       "  try {\n",
       "    var events = require('base/js/events');\n",
       "    var OutputArea = require('notebook/js/outputarea').OutputArea;\n",
       "    if (OutputArea.prototype.mime_types().indexOf(EXEC_MIME_TYPE) == -1) {\n",
       "      register_renderer(events, OutputArea);\n",
       "    }\n",
       "  } catch(err) {\n",
       "  }\n",
       "}\n"
      ],
      "application/vnd.holoviews_load.v0+json": "\nif ((window.PyViz === undefined) || (window.PyViz instanceof HTMLElement)) {\n  window.PyViz = {comms: {}, comm_status:{}, kernels:{}, receivers: {}, plot_index: []}\n}\n\n\n    function JupyterCommManager() {\n    }\n\n    JupyterCommManager.prototype.register_target = function(plot_id, comm_id, msg_handler) {\n      if (window.comm_manager || ((window.Jupyter !== undefined) && (Jupyter.notebook.kernel != null))) {\n        var comm_manager = window.comm_manager || Jupyter.notebook.kernel.comm_manager;\n        comm_manager.register_target(comm_id, function(comm) {\n          comm.on_msg(msg_handler);\n        });\n      } else if ((plot_id in window.PyViz.kernels) && (window.PyViz.kernels[plot_id])) {\n        window.PyViz.kernels[plot_id].registerCommTarget(comm_id, function(comm) {\n          comm.onMsg = msg_handler;\n        });\n      } else if (typeof google != 'undefined' && google.colab.kernel != null) {\n        google.colab.kernel.comms.registerTarget(comm_id, (comm) => {\n          var messages = comm.messages[Symbol.asyncIterator]();\n          function processIteratorResult(result) {\n            var message = result.value;\n            console.log(message)\n            var content = {data: message.data, comm_id};\n            var buffers = []\n            for (var buffer of message.buffers || []) {\n              buffers.push(new DataView(buffer))\n            }\n            var metadata = message.metadata || {};\n            var msg = {content, buffers, metadata}\n            msg_handler(msg);\n            return messages.next().then(processIteratorResult);\n          }\n          return messages.next().then(processIteratorResult);\n        })\n      }\n    }\n\n    JupyterCommManager.prototype.get_client_comm = function(plot_id, comm_id, msg_handler) {\n      if (comm_id in window.PyViz.comms) {\n        return window.PyViz.comms[comm_id];\n      } else if (window.comm_manager || ((window.Jupyter !== undefined) && (Jupyter.notebook.kernel != null))) {\n        var comm_manager = window.comm_manager || Jupyter.notebook.kernel.comm_manager;\n        var comm = comm_manager.new_comm(comm_id, {}, {}, {}, comm_id);\n        if (msg_handler) {\n          comm.on_msg(msg_handler);\n        }\n      } else if ((plot_id in window.PyViz.kernels) && (window.PyViz.kernels[plot_id])) {\n        var comm = window.PyViz.kernels[plot_id].connectToComm(comm_id);\n        comm.open();\n        if (msg_handler) {\n          comm.onMsg = msg_handler;\n        }\n      } else if (typeof google != 'undefined' && google.colab.kernel != null) {\n        var comm_promise = google.colab.kernel.comms.open(comm_id)\n        comm_promise.then((comm) => {\n          window.PyViz.comms[comm_id] = comm;\n          if (msg_handler) {\n            var messages = comm.messages[Symbol.asyncIterator]();\n            function processIteratorResult(result) {\n              var message = result.value;\n              var content = {data: message.data};\n              var metadata = message.metadata || {comm_id};\n              var msg = {content, metadata}\n              msg_handler(msg);\n              return messages.next().then(processIteratorResult);\n            }\n            return messages.next().then(processIteratorResult);\n          }\n        }) \n        var sendClosure = (data, metadata, buffers, disposeOnDone) => {\n          return comm_promise.then((comm) => {\n            comm.send(data, metadata, buffers, disposeOnDone);\n          });\n        };\n        var comm = {\n          send: sendClosure\n        };\n      }\n      window.PyViz.comms[comm_id] = comm;\n      return comm;\n    }\n    window.PyViz.comm_manager = new JupyterCommManager();\n    \n\n\nvar JS_MIME_TYPE = 'application/javascript';\nvar HTML_MIME_TYPE = 'text/html';\nvar EXEC_MIME_TYPE = 'application/vnd.holoviews_exec.v0+json';\nvar CLASS_NAME = 'output';\n\n/**\n * Render data to the DOM node\n */\nfunction render(props, node) {\n  var div = document.createElement(\"div\");\n  var script = document.createElement(\"script\");\n  node.appendChild(div);\n  node.appendChild(script);\n}\n\n/**\n * Handle when a new output is added\n */\nfunction handle_add_output(event, handle) {\n  var output_area = handle.output_area;\n  var output = handle.output;\n  if ((output.data == undefined) || (!output.data.hasOwnProperty(EXEC_MIME_TYPE))) {\n    return\n  }\n  var id = output.metadata[EXEC_MIME_TYPE][\"id\"];\n  var toinsert = output_area.element.find(\".\" + CLASS_NAME.split(' ')[0]);\n  if (id !== undefined) {\n    var nchildren = toinsert.length;\n    var html_node = toinsert[nchildren-1].children[0];\n    html_node.innerHTML = output.data[HTML_MIME_TYPE];\n    var scripts = [];\n    var nodelist = html_node.querySelectorAll(\"script\");\n    for (var i in nodelist) {\n      if (nodelist.hasOwnProperty(i)) {\n        scripts.push(nodelist[i])\n      }\n    }\n\n    scripts.forEach( function (oldScript) {\n      var newScript = document.createElement(\"script\");\n      var attrs = [];\n      var nodemap = oldScript.attributes;\n      for (var j in nodemap) {\n        if (nodemap.hasOwnProperty(j)) {\n          attrs.push(nodemap[j])\n        }\n      }\n      attrs.forEach(function(attr) { newScript.setAttribute(attr.name, attr.value) });\n      newScript.appendChild(document.createTextNode(oldScript.innerHTML));\n      oldScript.parentNode.replaceChild(newScript, oldScript);\n    });\n    if (JS_MIME_TYPE in output.data) {\n      toinsert[nchildren-1].children[1].textContent = output.data[JS_MIME_TYPE];\n    }\n    output_area._hv_plot_id = id;\n    if ((window.Bokeh !== undefined) && (id in Bokeh.index)) {\n      window.PyViz.plot_index[id] = Bokeh.index[id];\n    } else {\n      window.PyViz.plot_index[id] = null;\n    }\n  } else if (output.metadata[EXEC_MIME_TYPE][\"server_id\"] !== undefined) {\n    var bk_div = document.createElement(\"div\");\n    bk_div.innerHTML = output.data[HTML_MIME_TYPE];\n    var script_attrs = bk_div.children[0].attributes;\n    for (var i = 0; i < script_attrs.length; i++) {\n      toinsert[toinsert.length - 1].childNodes[1].setAttribute(script_attrs[i].name, script_attrs[i].value);\n    }\n    // store reference to server id on output_area\n    output_area._bokeh_server_id = output.metadata[EXEC_MIME_TYPE][\"server_id\"];\n  }\n}\n\n/**\n * Handle when an output is cleared or removed\n */\nfunction handle_clear_output(event, handle) {\n  var id = handle.cell.output_area._hv_plot_id;\n  var server_id = handle.cell.output_area._bokeh_server_id;\n  if (((id === undefined) || !(id in PyViz.plot_index)) && (server_id !== undefined)) { return; }\n  var comm = window.PyViz.comm_manager.get_client_comm(\"hv-extension-comm\", \"hv-extension-comm\", function () {});\n  if (server_id !== null) {\n    comm.send({event_type: 'server_delete', 'id': server_id});\n    return;\n  } else if (comm !== null) {\n    comm.send({event_type: 'delete', 'id': id});\n  }\n  delete PyViz.plot_index[id];\n  if ((window.Bokeh !== undefined) & (id in window.Bokeh.index)) {\n    var doc = window.Bokeh.index[id].model.document\n    doc.clear();\n    const i = window.Bokeh.documents.indexOf(doc);\n    if (i > -1) {\n      window.Bokeh.documents.splice(i, 1);\n    }\n  }\n}\n\n/**\n * Handle kernel restart event\n */\nfunction handle_kernel_cleanup(event, handle) {\n  delete PyViz.comms[\"hv-extension-comm\"];\n  window.PyViz.plot_index = {}\n}\n\n/**\n * Handle update_display_data messages\n */\nfunction handle_update_output(event, handle) {\n  handle_clear_output(event, {cell: {output_area: handle.output_area}})\n  handle_add_output(event, handle)\n}\n\nfunction register_renderer(events, OutputArea) {\n  function append_mime(data, metadata, element) {\n    // create a DOM node to render to\n    var toinsert = this.create_output_subarea(\n    metadata,\n    CLASS_NAME,\n    EXEC_MIME_TYPE\n    );\n    this.keyboard_manager.register_events(toinsert);\n    // Render to node\n    var props = {data: data, metadata: metadata[EXEC_MIME_TYPE]};\n    render(props, toinsert[0]);\n    element.append(toinsert);\n    return toinsert\n  }\n\n  events.on('output_added.OutputArea', handle_add_output);\n  events.on('output_updated.OutputArea', handle_update_output);\n  events.on('clear_output.CodeCell', handle_clear_output);\n  events.on('delete.Cell', handle_clear_output);\n  events.on('kernel_ready.Kernel', handle_kernel_cleanup);\n\n  OutputArea.prototype.register_mime_type(EXEC_MIME_TYPE, append_mime, {\n    safe: true,\n    index: 0\n  });\n}\n\nif (window.Jupyter !== undefined) {\n  try {\n    var events = require('base/js/events');\n    var OutputArea = require('notebook/js/outputarea').OutputArea;\n    if (OutputArea.prototype.mime_types().indexOf(EXEC_MIME_TYPE) == -1) {\n      register_renderer(events, OutputArea);\n    }\n  } catch(err) {\n  }\n}\n"
     },
     "metadata": {},
     "output_type": "display_data"
    }
   ],
   "source": [
    "# Standard Library Imports\n",
    "import os\n",
    "import os.path as op\n",
    "import sys\n",
    "import time\n",
    "import warnings\n",
    "import re\n",
    "import random\n",
    "\n",
    "# Third Party imports\n",
    "import yaml\n",
    "import hvplot\n",
    "import pandas as pd\n",
    "import numpy as np\n",
    "import holoviews as hv\n",
    "import panel as pn\n",
    "from pyspark_dist_explore import (\n",
    "    Histogram,\n",
    "    hist,\n",
    "    distplot,\n",
    "    pandas_histogram\n",
    ")\n",
    "from IPython.display import (\n",
    "    display,\n",
    "    display_html\n",
    ")\n",
    "\n",
    "# Spark imports\n",
    "from pyspark.sql import (\n",
    "    types as DT,\n",
    "    functions as F,\n",
    "    Window\n",
    ")\n",
    "from pyspark.ml import Pipeline\n",
    "from pyspark.ml.regression import LinearRegression\n",
    "from pyspark.mllib.evaluation import RegressionMetrics\n",
    "from pyspark.ml.tuning import (\n",
    "    ParamGridBuilder,\n",
    "    CrossValidator,\n",
    "    CrossValidatorModel\n",
    ")\n",
    "from pyspark.ml.feature import (\n",
    "    VectorAssembler,\n",
    "    StandardScaler,\n",
    "    StringIndexer,\n",
    "    OneHotEncoderEstimator,\n",
    "    Imputer\n",
    ")\n",
    "from pyspark.ml.evaluation import RegressionEvaluator\n",
    "\n",
    "\n",
    "\n",
    "\n",
    "# Project Imports\n",
    "from ta_lib.pyspark import (\n",
    "    dp,\n",
    "    features,\n",
    "    model_gen,\n",
    "    model_eval,\n",
    "    utils,\n",
    "    eda,\n",
    "    context\n",
    ")\n",
    "\n",
    "# Setting Options\n",
    "random.seed(0)\n",
    "pn.extension('bokeh')\n",
    "warnings.filterwarnings('ignore')\n",
    "pd.set_option('display.max_columns', None)"
   ]
  },
  {
   "cell_type": "markdown",
   "metadata": {},
   "source": [
    "# Initialization\n",
    "\n",
    "`config.yml` is used to store all the parameters required for the template"
   ]
  },
  {
   "cell_type": "code",
   "execution_count": 4,
   "metadata": {},
   "outputs": [
    {
     "data": {
      "text/plain": [
       "{'all': {'core': 'default',\n",
       "  'log_catalog': 'production',\n",
       "  'data_catalog': 'local',\n",
       "  'job_catalog': 'local'},\n",
       " 'spark': {'spark.executer.cores': 4, 'spark.cores.max': 4}}"
      ]
     },
     "execution_count": 4,
     "metadata": {},
     "output_type": "execute_result"
    }
   ],
   "source": [
    "config_path = op.join(os.getcwd(),'conf', 'config.yml')\n",
    "with open(config_path, 'r') as fp:\n",
    "    config = yaml.load(fp)\n",
    "config"
   ]
  },
  {
   "cell_type": "code",
   "execution_count": 5,
   "metadata": {},
   "outputs": [
    {
     "data": {
      "text/plain": [
       "{'reference_date': datetime.date(2020, 8, 31),\n",
       " 'num_days_prediction': 7,\n",
       " 'raw': {'filesystem': 'dbfs',\n",
       "  'base_path': '/FileStore/tables/vacation_partitioned/',\n",
       "  'call_data_path': 'dial_summary.parquet',\n",
       "  'last_activity_data_path': 'customer_activity.parquet',\n",
       "  'booking_data_path': 'class_labels.parquet',\n",
       "  'consumer_data_path': 'customer.parquet',\n",
       "  'web_data_path': 'itr_data_*.parquet'},\n",
       " 'clean': {'filesystem': 'dbfs',\n",
       "  'base_path': '/FileStore/tables/vacation_clean/',\n",
       "  'call_data_path': 'dial_summary.parquet',\n",
       "  'last_activity_data_path': 'customer_activity.parquet',\n",
       "  'booking_data_path': 'class_labels.parquet',\n",
       "  'consumer_data_path': 'customer.parquet',\n",
       "  'web_data_path': 'itr_data_'},\n",
       " 'processed': {'filesystem': 'dbfs',\n",
       "  'base_path': '/FileStore/tables/spark_warehouse/',\n",
       "  'train': 'train.parquet',\n",
       "  'test': 'test.parquet',\n",
       "  'preds': 'predictions.parquet'}}"
      ]
     },
     "execution_count": 5,
     "metadata": {},
     "output_type": "execute_result"
    }
   ],
   "source": [
    "data_config_path = op.join(os.getcwd(),'conf/data_catalog', 'remote.yml')\n",
    "with open(data_config_path, 'r') as fp:\n",
    "    data_config = yaml.load(fp)\n",
    "data_config"
   ]
  },
  {
   "cell_type": "markdown",
   "metadata": {},
   "source": [
    "## Create spark session\n",
    "\n",
    "`talib.pyspark.context` module is leveraged to build the sparksession so as to consider the spark session related params in the config file while building the session."
   ]
  },
  {
   "cell_type": "code",
   "execution_count": 6,
   "metadata": {},
   "outputs": [
    {
     "name": "stdout",
     "output_type": "stream",
     "text": [
      "Wall time: 13.4 s\n"
     ]
    }
   ],
   "source": [
    "%%time\n",
    "session = context.CustomSparkSession(config)\n",
    "session.CreateSparkSession()\n",
    "spark = session.spark\n",
    "sc = session.sc"
   ]
  },
  {
   "cell_type": "markdown",
   "metadata": {},
   "source": [
    "# Background\n",
    "\n",
    "The client is a cruise vacation provider whose goal is to predict whether a given customer will make a booking for a cruise vacation in the next 3 months, based on his/her previous web, call and booking activities."
   ]
  },
  {
   "cell_type": "markdown",
   "metadata": {},
   "source": [
    "# Data Read"
   ]
  },
  {
   "cell_type": "markdown",
   "metadata": {},
   "source": [
    "### Call Data \n",
    "\n",
    "The call data contains the calls placed by a customer with details of originating and destination numbers. "
   ]
  },
  {
   "cell_type": "code",
   "execution_count": 8,
   "metadata": {},
   "outputs": [
    {
     "name": "stdout",
     "output_type": "stream",
     "text": [
      "root\n",
      " |-- originatingnumber: long (nullable = true)\n",
      " |-- dialednumber: long (nullable = true)\n",
      " |-- call_date: string (nullable = true)\n",
      " |-- country_code: string (nullable = true)\n",
      " |-- cel_class_code: string (nullable = true)\n",
      " |-- unq_add: string (nullable = true)\n",
      " |-- customer_id: long (nullable = true)\n",
      "\n"
     ]
    }
   ],
   "source": [
    "df_call_data = dp.read_data(\n",
    "    spark=spark,\n",
    "    paths=[data_config['raw']['base_path'] + data_config['raw']['call_data_path']],\n",
    "    fs=data_config['raw']['filesystem'],\n",
    ")\n",
    "df_call_data.printSchema()"
   ]
  },
  {
   "cell_type": "markdown",
   "metadata": {},
   "source": [
    "### Last Activity Data\n",
    "This data contains details of previous web activities for each customer, including the type of activity and geographical details."
   ]
  },
  {
   "cell_type": "code",
   "execution_count": 9,
   "metadata": {},
   "outputs": [
    {
     "name": "stdout",
     "output_type": "stream",
     "text": [
      "root\n",
      " |-- load_date: string (nullable = true)\n",
      " |-- consumer_first_name: string (nullable = true)\n",
      " |-- consumer_last_name: string (nullable = true)\n",
      " |-- email_address: string (nullable = true)\n",
      " |-- cel_email_permission_flag: string (nullable = true)\n",
      " |-- country_code: string (nullable = true)\n",
      " |-- state_code: string (nullable = true)\n",
      " |-- cel_class_code: string (nullable = true)\n",
      " |-- actvty_date: string (nullable = true)\n",
      " |-- actvty_type: string (nullable = true)\n",
      " |-- actvty_prod: string (nullable = true)\n",
      " |-- customer_id: long (nullable = true)\n",
      "\n"
     ]
    }
   ],
   "source": [
    "df_last_activity_data = dp.read_data(\n",
    "    spark=spark,\n",
    "    paths=[data_config['raw']['base_path'] + data_config['raw']['last_activity_data_path']],\n",
    "    fs=data_config['raw']['filesystem'],\n",
    ")\n",
    "df_last_activity_data.printSchema()"
   ]
  },
  {
   "cell_type": "markdown",
   "metadata": {},
   "source": [
    "### Booking Data\n",
    "The booking data contains previous booking details for customers who have travelled on vacation cruises, along with dates of booking, date of journey, mode of making the booking, demographic details of the customer, and booking tiers."
   ]
  },
  {
   "cell_type": "code",
   "execution_count": 10,
   "metadata": {},
   "outputs": [
    {
     "name": "stdout",
     "output_type": "stream",
     "text": [
      "root\n",
      " |-- booking_create_date: string (nullable = true)\n",
      " |-- booking_status_bk_level: string (nullable = true)\n",
      " |-- sailing_date: string (nullable = true)\n",
      " |-- curr_number_sail_nights: long (nullable = true)\n",
      " |-- meta_product_code: string (nullable = true)\n",
      " |-- cabin_class_sailed: string (nullable = true)\n",
      " |-- booking_channel: string (nullable = true)\n",
      " |-- choice_air_flag: string (nullable = true)\n",
      " |-- cruise_care_flag: string (nullable = true)\n",
      " |-- age: long (nullable = true)\n",
      " |-- gender_code: string (nullable = true)\n",
      " |-- dma: string (nullable = true)\n",
      " |-- country_code: string (nullable = true)\n",
      " |-- tier_at_sail: string (nullable = true)\n",
      " |-- family_flag_booking_level: string (nullable = true)\n",
      " |-- cel_class_code_sail: string (nullable = true)\n",
      " |-- customer_id: long (nullable = true)\n",
      "\n"
     ]
    }
   ],
   "source": [
    "df_booking_data = dp.read_data(\n",
    "    spark=spark,\n",
    "    paths=[data_config['raw']['base_path'] + data_config['raw']['booking_data_path']],\n",
    "    fs=data_config['raw']['filesystem'],\n",
    ")\n",
    "df_booking_data.printSchema()"
   ]
  },
  {
   "cell_type": "markdown",
   "metadata": {},
   "source": [
    "### Consumer Related Data \n",
    "\n",
    "The customer data contains detailed information of customers' previous transactions, including months since last cruise, web event details (e.g. page clicks, page opens), share of various types of vacations, demographic data of customer etc"
   ]
  },
  {
   "cell_type": "code",
   "execution_count": 11,
   "metadata": {},
   "outputs": [
    {
     "name": "stdout",
     "output_type": "stream",
     "text": [
      "root\n",
      " |-- age: integer (nullable = true)\n",
      " |-- cel_class_code: string (nullable = true)\n",
      " |-- rci_class_code: string (nullable = true)\n",
      " |-- aza_class_code: string (nullable = true)\n",
      " |-- high_value_zip_desc: string (nullable = true)\n",
      " |-- et_active_flag: string (nullable = true)\n",
      " |-- jm_hml_segment_code: string (nullable = true)\n",
      " |-- last_cruise_months_ago: double (nullable = true)\n",
      " |-- click_to_open: double (nullable = true)\n",
      " |-- click_pct: double (nullable = true)\n",
      " |-- open_pct: double (nullable = true)\n",
      " |-- max_event_date: string (nullable = true)\n",
      " |-- cel_dma_desc: string (nullable = true)\n",
      " |-- cel_first_cruise_date: string (nullable = true)\n",
      " |-- cc_current_loyalty_tier_code: string (nullable = true)\n",
      " |-- booked_flag: string (nullable = true)\n",
      " |-- beach_relax_cruise_intention: double (nullable = true)\n",
      " |-- luxury_relax_cruise_intention: double (nullable = true)\n",
      " |-- natural_wonders_cruise_intenti: double (nullable = true)\n",
      " |-- new_metro_cruise_intention: double (nullable = true)\n",
      " |-- old_metro_cruise_intention: double (nullable = true)\n",
      " |-- sea_cruise_intention: double (nullable = true)\n",
      " |-- town_cruise_intention: double (nullable = true)\n",
      " |-- gender_code: string (nullable = true)\n",
      " |-- state_code: string (nullable = true)\n",
      " |-- rci_qualify_cruise_qty: integer (nullable = true)\n",
      " |-- customer_id: long (nullable = true)\n",
      "\n"
     ]
    }
   ],
   "source": [
    "df_consumer_data = dp.read_data(\n",
    "    spark=spark,\n",
    "    paths=[data_config['raw']['base_path'] + data_config['raw']['consumer_data_path']],\n",
    "    fs=data_config['raw']['filesystem'],\n",
    ")\n",
    "df_consumer_data.printSchema()"
   ]
  },
  {
   "cell_type": "markdown",
   "metadata": {},
   "source": [
    "### Web Data\n",
    "The web data contains the temporal details of page visits and web events for each customer."
   ]
  },
  {
   "cell_type": "code",
   "execution_count": 12,
   "metadata": {},
   "outputs": [
    {
     "name": "stdout",
     "output_type": "stream",
     "text": [
      "root\n",
      " |-- visit_date: string (nullable = true)\n",
      " |-- visit_yr: integer (nullable = true)\n",
      " |-- visit_mo: integer (nullable = true)\n",
      " |-- device_type_name: string (nullable = true)\n",
      " |-- sec_time_spent_on_nbr: integer (nullable = true)\n",
      " |-- page_view_count: integer (nullable = true)\n",
      " |-- geo_seg_country_name: string (nullable = true)\n",
      " |-- visit_type: string (nullable = true)\n",
      " |-- customer_id: long (nullable = true)\n",
      "\n"
     ]
    }
   ],
   "source": [
    "df_web_data = dp.read_data(\n",
    "    spark=spark,\n",
    "    paths=[data_config['raw']['base_path'] + data_config['raw']['web_data_path']],\n",
    "    fs=data_config['raw']['filesystem'],\n",
    ")\n",
    "df_web_data.printSchema()"
   ]
  },
  {
   "cell_type": "markdown",
   "metadata": {},
   "source": [
    "### Consolidating data objects in a dictionary"
   ]
  },
  {
   "cell_type": "code",
   "execution_count": 13,
   "metadata": {},
   "outputs": [],
   "source": [
    "data = {\n",
    "    'call_data':df_call_data,\n",
    "    'last_activity_data':df_last_activity_data,\n",
    "    'booking_data':df_booking_data,\n",
    "    'consumer_data':df_consumer_data,\n",
    "    'web_data':df_web_data\n",
    "}"
   ]
  },
  {
   "cell_type": "markdown",
   "metadata": {},
   "source": [
    "# Data Discovery\n",
    "\n",
    "Given the raw data from data ingestion, we would now like to explore and learn more details about the data.\n",
    "\n",
    "The output of the step would be a summary report and discussion of any pertinent findings."
   ]
  },
  {
   "cell_type": "markdown",
   "metadata": {},
   "source": [
    "## Shape of Data"
   ]
  },
  {
   "cell_type": "code",
   "execution_count": 14,
   "metadata": {},
   "outputs": [
    {
     "name": "stdout",
     "output_type": "stream",
     "text": [
      "Wall time: 8.66 s\n"
     ]
    },
    {
     "data": {},
     "metadata": {},
     "output_type": "display_data"
    },
    {
     "data": {
      "application/vnd.holoviews_exec.v0+json": "",
      "text/html": [
       "<div id='1001'>\n",
       "\n",
       "\n",
       "\n",
       "\n",
       "\n",
       "  <div class=\"bk-root\" id=\"599b6eaf-964e-4974-b2d4-7ada4b9d9821\" data-root-id=\"1001\"></div>\n",
       "</div>\n",
       "<script type=\"application/javascript\">(function(root) {\n",
       "  function embed_document(root) {\n",
       "    var docs_json = {\"c1359b19-3e7d-476b-a473-9348e372d30c\":{\"roots\":{\"references\":[{\"attributes\":{\"child\":{\"id\":\"1002\"},\"name\":\"call_data\",\"title\":\"call_data\"},\"id\":\"1003\",\"type\":\"Panel\"},{\"attributes\":{\"margin\":[5,5,5,5],\"name\":\"booking_data\",\"text\":\"&lt;pre&gt;(4728596, 17)&lt;/pre&gt;\"},\"id\":\"1006\",\"type\":\"panel.models.markup.HTML\"},{\"attributes\":{\"margin\":[5,5,5,5],\"name\":\"web_data\",\"text\":\"&lt;pre&gt;(6886359, 9)&lt;/pre&gt;\"},\"id\":\"1010\",\"type\":\"panel.models.markup.HTML\"},{\"attributes\":{\"reload\":false},\"id\":\"1013\",\"type\":\"panel.models.location.Location\"},{\"attributes\":{\"child\":{\"id\":\"1008\"},\"name\":\"consumer_data\",\"title\":\"consumer_data\"},\"id\":\"1009\",\"type\":\"Panel\"},{\"attributes\":{\"child\":{\"id\":\"1004\"},\"name\":\"last_activity_data\",\"title\":\"last_activity_data\"},\"id\":\"1005\",\"type\":\"Panel\"},{\"attributes\":{\"margin\":[5,5,5,5],\"name\":\"call_data\",\"text\":\"&lt;pre&gt;(693223, 7)&lt;/pre&gt;\"},\"id\":\"1002\",\"type\":\"panel.models.markup.HTML\"},{\"attributes\":{\"margin\":[5,5,5,5],\"name\":\"consumer_data\",\"text\":\"&lt;pre&gt;(106560, 27)&lt;/pre&gt;\"},\"id\":\"1008\",\"type\":\"panel.models.markup.HTML\"},{\"attributes\":{\"child\":{\"id\":\"1010\"},\"name\":\"web_data\",\"title\":\"web_data\"},\"id\":\"1011\",\"type\":\"Panel\"},{\"attributes\":{\"child\":{\"id\":\"1006\"},\"name\":\"booking_data\",\"title\":\"booking_data\"},\"id\":\"1007\",\"type\":\"Panel\"},{\"attributes\":{\"margin\":[5,5,5,5],\"name\":\"last_activity_data\",\"text\":\"&lt;pre&gt;(277017, 12)&lt;/pre&gt;\"},\"id\":\"1004\",\"type\":\"panel.models.markup.HTML\"},{\"attributes\":{\"client_comm_id\":\"ce8b61c077f346b684c0b12290553bae\",\"comm_id\":\"159e367a2a08457789ad29373a50e1db\",\"plot_id\":\"1001\"},\"id\":\"1012\",\"type\":\"panel.models.comm_manager.CommManager\"},{\"attributes\":{\"margin\":[0,0,0,0],\"tabs\":[{\"id\":\"1003\"},{\"id\":\"1005\"},{\"id\":\"1007\"},{\"id\":\"1009\"},{\"id\":\"1011\"}]},\"id\":\"1001\",\"type\":\"Tabs\"}],\"root_ids\":[\"1001\",\"1012\",\"1013\"]},\"title\":\"Bokeh Application\",\"version\":\"2.2.3\"}};\n",
       "    var render_items = [{\"docid\":\"c1359b19-3e7d-476b-a473-9348e372d30c\",\"root_ids\":[\"1001\"],\"roots\":{\"1001\":\"599b6eaf-964e-4974-b2d4-7ada4b9d9821\"}}];\n",
       "    root.Bokeh.embed.embed_items_notebook(docs_json, render_items);\n",
       "  }\n",
       "  if (root.Bokeh !== undefined && root.Bokeh.Panel !== undefined) {\n",
       "    embed_document(root);\n",
       "  } else {\n",
       "    var attempts = 0;\n",
       "    var timer = setInterval(function(root) {\n",
       "      if (root.Bokeh !== undefined && root.Bokeh.Panel !== undefined) {\n",
       "        clearInterval(timer);\n",
       "        embed_document(root);\n",
       "      } else if (document.readyState == \"complete\") {\n",
       "        attempts++;\n",
       "        if (attempts > 100) {\n",
       "          clearInterval(timer);\n",
       "          console.log(\"Bokeh: ERROR: Unable to run BokehJS code because BokehJS library is missing\");\n",
       "        }\n",
       "      }\n",
       "    }, 10, root)\n",
       "  }\n",
       "})(window);</script>"
      ],
      "text/plain": [
       "Tabs\n",
       "    [0] Str(tuple, name='call_data')\n",
       "    [1] Str(tuple, name='last_activity_data')\n",
       "    [2] Str(tuple, name='booking_data')\n",
       "    [3] Str(tuple, name='consumer_data')\n",
       "    [4] Str(tuple, name='web_data')"
      ]
     },
     "execution_count": 14,
     "metadata": {
      "application/vnd.holoviews_exec.v0+json": {
       "id": "1001"
      }
     },
     "output_type": "execute_result"
    }
   ],
   "source": [
    "%%time\n",
    "utils.display_as_tabs([(k, dp.get_shape(v)) for k,v in data.items()])"
   ]
  },
  {
   "cell_type": "markdown",
   "metadata": {},
   "source": [
    "## Clean Column Names"
   ]
  },
  {
   "cell_type": "markdown",
   "metadata": {},
   "source": [
    "Standardize the column names of the dataframe. Converts camelcase into snakecase"
   ]
  },
  {
   "cell_type": "code",
   "execution_count": 15,
   "metadata": {},
   "outputs": [
    {
     "name": "stdout",
     "output_type": "stream",
     "text": [
      "Wall time: 81 ms\n"
     ]
    },
    {
     "data": {},
     "metadata": {},
     "output_type": "display_data"
    },
    {
     "data": {
      "application/vnd.holoviews_exec.v0+json": "",
      "text/html": [
       "<div id='1014'>\n",
       "\n",
       "\n",
       "\n",
       "\n",
       "\n",
       "  <div class=\"bk-root\" id=\"a23ca49c-7aa9-4b2c-8e97-37b23d0c5055\" data-root-id=\"1014\"></div>\n",
       "</div>\n",
       "<script type=\"application/javascript\">(function(root) {\n",
       "  function embed_document(root) {\n",
       "    var docs_json = {\"a406a93a-ba4e-4978-b6d8-65ffe01e3007\":{\"roots\":{\"references\":[{\"attributes\":{\"margin\":[0,0,0,0],\"tabs\":[{\"id\":\"1016\"},{\"id\":\"1018\"},{\"id\":\"1020\"},{\"id\":\"1022\"},{\"id\":\"1024\"}]},\"id\":\"1014\",\"type\":\"Tabs\"},{\"attributes\":{\"child\":{\"id\":\"1023\"},\"name\":\"web_data\",\"title\":\"web_data\"},\"id\":\"1024\",\"type\":\"Panel\"},{\"attributes\":{\"margin\":[5,20,5,5],\"name\":\"booking_data\",\"text\":\"[\\\"booking_create_date\\\", \\\"booking_status_bk_level\\\", \\\"sailing_date\\\", \\\"curr_number_sail_nights\\\", \\\"meta_product_code\\\", \\\"cabin_class_sailed\\\", \\\"booking_channel\\\", \\\"choice_air_flag\\\", \\\"cruise_care_flag\\\", \\\"age\\\", \\\"gender_code\\\", \\\"dma\\\", \\\"country_code\\\", \\\"tier_at_sail\\\", \\\"family_flag_booking_level\\\", \\\"cel_class_code_sail\\\", \\\"customer_id\\\"]\"},\"id\":\"1019\",\"type\":\"panel.models.markup.JSON\"},{\"attributes\":{\"child\":{\"id\":\"1015\"},\"name\":\"call_data\",\"title\":\"call_data\"},\"id\":\"1016\",\"type\":\"Panel\"},{\"attributes\":{\"child\":{\"id\":\"1019\"},\"name\":\"booking_data\",\"title\":\"booking_data\"},\"id\":\"1020\",\"type\":\"Panel\"},{\"attributes\":{\"margin\":[5,20,5,5],\"name\":\"last_activity_data\",\"text\":\"[\\\"load_date\\\", \\\"consumer_first_name\\\", \\\"consumer_last_name\\\", \\\"email_address\\\", \\\"cel_email_permission_flag\\\", \\\"country_code\\\", \\\"state_code\\\", \\\"cel_class_code\\\", \\\"actvty_date\\\", \\\"actvty_type\\\", \\\"actvty_prod\\\", \\\"customer_id\\\"]\"},\"id\":\"1017\",\"type\":\"panel.models.markup.JSON\"},{\"attributes\":{\"margin\":[5,20,5,5],\"name\":\"call_data\",\"text\":\"[\\\"originatingnumber\\\", \\\"dialednumber\\\", \\\"call_date\\\", \\\"country_code\\\", \\\"cel_class_code\\\", \\\"unq_add\\\", \\\"customer_id\\\"]\"},\"id\":\"1015\",\"type\":\"panel.models.markup.JSON\"},{\"attributes\":{\"margin\":[5,20,5,5],\"name\":\"consumer_data\",\"text\":\"[\\\"age\\\", \\\"cel_class_code\\\", \\\"rci_class_code\\\", \\\"aza_class_code\\\", \\\"high_value_zip_desc\\\", \\\"et_active_flag\\\", \\\"jm_hml_segment_code\\\", \\\"last_cruise_months_ago\\\", \\\"click_to_open\\\", \\\"click_pct\\\", \\\"open_pct\\\", \\\"max_event_date\\\", \\\"cel_dma_desc\\\", \\\"cel_first_cruise_date\\\", \\\"cc_current_loyalty_tier_code\\\", \\\"booked_flag\\\", \\\"beach_relax_cruise_intention\\\", \\\"luxury_relax_cruise_intention\\\", \\\"natural_wonders_cruise_intenti\\\", \\\"new_metro_cruise_intention\\\", \\\"old_metro_cruise_intention\\\", \\\"sea_cruise_intention\\\", \\\"town_cruise_intention\\\", \\\"gender_code\\\", \\\"state_code\\\", \\\"rci_qualify_cruise_qty\\\", \\\"customer_id\\\"]\"},\"id\":\"1021\",\"type\":\"panel.models.markup.JSON\"},{\"attributes\":{\"margin\":[5,20,5,5],\"name\":\"web_data\",\"text\":\"[\\\"visit_date\\\", \\\"visit_yr\\\", \\\"visit_mo\\\", \\\"device_type_name\\\", \\\"sec_time_spent_on_nbr\\\", \\\"page_view_count\\\", \\\"geo_seg_country_name\\\", \\\"visit_type\\\", \\\"customer_id\\\"]\"},\"id\":\"1023\",\"type\":\"panel.models.markup.JSON\"},{\"attributes\":{\"client_comm_id\":\"f6989868d3b6479286ffb8cf4f7f3ac1\",\"comm_id\":\"732205f44fc44c098956fbd77c00a316\",\"plot_id\":\"1014\"},\"id\":\"1025\",\"type\":\"panel.models.comm_manager.CommManager\"},{\"attributes\":{\"child\":{\"id\":\"1021\"},\"name\":\"consumer_data\",\"title\":\"consumer_data\"},\"id\":\"1022\",\"type\":\"Panel\"},{\"attributes\":{\"child\":{\"id\":\"1017\"},\"name\":\"last_activity_data\",\"title\":\"last_activity_data\"},\"id\":\"1018\",\"type\":\"Panel\"}],\"root_ids\":[\"1014\",\"1025\"]},\"title\":\"Bokeh Application\",\"version\":\"2.2.3\"}};\n",
       "    var render_items = [{\"docid\":\"a406a93a-ba4e-4978-b6d8-65ffe01e3007\",\"root_ids\":[\"1014\"],\"roots\":{\"1014\":\"a23ca49c-7aa9-4b2c-8e97-37b23d0c5055\"}}];\n",
       "    root.Bokeh.embed.embed_items_notebook(docs_json, render_items);\n",
       "  }\n",
       "  if (root.Bokeh !== undefined && root.Bokeh.Panel !== undefined) {\n",
       "    embed_document(root);\n",
       "  } else {\n",
       "    var attempts = 0;\n",
       "    var timer = setInterval(function(root) {\n",
       "      if (root.Bokeh !== undefined && root.Bokeh.Panel !== undefined) {\n",
       "        clearInterval(timer);\n",
       "        embed_document(root);\n",
       "      } else if (document.readyState == \"complete\") {\n",
       "        attempts++;\n",
       "        if (attempts > 100) {\n",
       "          clearInterval(timer);\n",
       "          console.log(\"Bokeh: ERROR: Unable to run BokehJS code because BokehJS library is missing\");\n",
       "        }\n",
       "      }\n",
       "    }, 10, root)\n",
       "  }\n",
       "})(window);</script>"
      ],
      "text/plain": [
       "Tabs\n",
       "    [0] JSON(list, name='call_data')\n",
       "    [1] JSON(list, name='last_activity_data')\n",
       "    [2] JSON(list, name='booking_data')\n",
       "    [3] JSON(list, name='consumer_data')\n",
       "    [4] JSON(list, name='web_data')"
      ]
     },
     "execution_count": 15,
     "metadata": {
      "application/vnd.holoviews_exec.v0+json": {
       "id": "1014"
      }
     },
     "output_type": "execute_result"
    }
   ],
   "source": [
    "%%time\n",
    "data = {k:dp.clean_columns(v) for k,v in data.items()}\n",
    "utils.display_as_tabs([(k, v.columns) for k,v in data.items()])"
   ]
  },
  {
   "cell_type": "markdown",
   "metadata": {},
   "source": [
    "## Identification of columns types in the data\n",
    "\n",
    "Obtaining the columns by different types of data (numerical, categorical, datelike and boolean)"
   ]
  },
  {
   "cell_type": "code",
   "execution_count": 16,
   "metadata": {},
   "outputs": [
    {
     "name": "stdout",
     "output_type": "stream",
     "text": [
      "Wall time: 5 ms\n"
     ]
    },
    {
     "data": {},
     "metadata": {},
     "output_type": "display_data"
    },
    {
     "data": {
      "application/vnd.holoviews_exec.v0+json": "",
      "text/html": [
       "<div id='1026'>\n",
       "\n",
       "\n",
       "\n",
       "\n",
       "\n",
       "  <div class=\"bk-root\" id=\"58193ac6-ad69-487f-a329-b8e60bf98001\" data-root-id=\"1026\"></div>\n",
       "</div>\n",
       "<script type=\"application/javascript\">(function(root) {\n",
       "  function embed_document(root) {\n",
       "    var docs_json = {\"23a80d2c-2e87-47f2-b7a5-23130e0e1e6d\":{\"roots\":{\"references\":[{\"attributes\":{\"margin\":[0,0,0,0],\"tabs\":[{\"id\":\"1028\"},{\"id\":\"1030\"},{\"id\":\"1032\"},{\"id\":\"1034\"},{\"id\":\"1036\"}]},\"id\":\"1026\",\"type\":\"Tabs\"},{\"attributes\":{\"child\":{\"id\":\"1029\"},\"name\":\"last_activity_data\",\"title\":\"last_activity_data\"},\"id\":\"1030\",\"type\":\"Panel\"},{\"attributes\":{\"child\":{\"id\":\"1035\"},\"name\":\"web_data\",\"title\":\"web_data\"},\"id\":\"1036\",\"type\":\"Panel\"},{\"attributes\":{\"client_comm_id\":\"06b17ec41ec94b90b7cd74d8ec7b3640\",\"comm_id\":\"8661dd30127047769bb1b8c0aab966b4\",\"plot_id\":\"1026\"},\"id\":\"1037\",\"type\":\"panel.models.comm_manager.CommManager\"},{\"attributes\":{\"margin\":[5,20,5,5],\"name\":\"consumer_data\",\"text\":\"{\\\"nemerical\\\": [\\\"age\\\", \\\"last_cruise_months_ago\\\", \\\"click_to_open\\\", \\\"click_pct\\\", \\\"open_pct\\\", \\\"beach_relax_cruise_intention\\\", \\\"luxury_relax_cruise_intention\\\", \\\"natural_wonders_cruise_intenti\\\", \\\"new_metro_cruise_intention\\\", \\\"old_metro_cruise_intention\\\", \\\"sea_cruise_intention\\\", \\\"town_cruise_intention\\\", \\\"rci_qualify_cruise_qty\\\", \\\"customer_id\\\"], \\\"cat_cols\\\": [\\\"cel_class_code\\\", \\\"rci_class_code\\\", \\\"aza_class_code\\\", \\\"high_value_zip_desc\\\", \\\"et_active_flag\\\", \\\"jm_hml_segment_code\\\", \\\"max_event_date\\\", \\\"cel_dma_desc\\\", \\\"cel_first_cruise_date\\\", \\\"cc_current_loyalty_tier_code\\\", \\\"booked_flag\\\", \\\"gender_code\\\", \\\"state_code\\\"], \\\"date_cols\\\": [], \\\"bool_cols\\\": []}\"},\"id\":\"1033\",\"type\":\"panel.models.markup.JSON\"},{\"attributes\":{\"child\":{\"id\":\"1033\"},\"name\":\"consumer_data\",\"title\":\"consumer_data\"},\"id\":\"1034\",\"type\":\"Panel\"},{\"attributes\":{\"margin\":[5,20,5,5],\"name\":\"last_activity_data\",\"text\":\"{\\\"nemerical\\\": [\\\"customer_id\\\"], \\\"cat_cols\\\": [\\\"load_date\\\", \\\"consumer_first_name\\\", \\\"consumer_last_name\\\", \\\"email_address\\\", \\\"cel_email_permission_flag\\\", \\\"country_code\\\", \\\"state_code\\\", \\\"cel_class_code\\\", \\\"actvty_date\\\", \\\"actvty_type\\\", \\\"actvty_prod\\\"], \\\"date_cols\\\": [], \\\"bool_cols\\\": []}\"},\"id\":\"1029\",\"type\":\"panel.models.markup.JSON\"},{\"attributes\":{\"margin\":[5,20,5,5],\"name\":\"web_data\",\"text\":\"{\\\"nemerical\\\": [\\\"visit_yr\\\", \\\"visit_mo\\\", \\\"sec_time_spent_on_nbr\\\", \\\"page_view_count\\\", \\\"customer_id\\\"], \\\"cat_cols\\\": [\\\"visit_date\\\", \\\"device_type_name\\\", \\\"geo_seg_country_name\\\", \\\"visit_type\\\"], \\\"date_cols\\\": [], \\\"bool_cols\\\": []}\"},\"id\":\"1035\",\"type\":\"panel.models.markup.JSON\"},{\"attributes\":{\"margin\":[5,20,5,5],\"name\":\"booking_data\",\"text\":\"{\\\"nemerical\\\": [\\\"curr_number_sail_nights\\\", \\\"age\\\", \\\"customer_id\\\"], \\\"cat_cols\\\": [\\\"booking_create_date\\\", \\\"booking_status_bk_level\\\", \\\"sailing_date\\\", \\\"meta_product_code\\\", \\\"cabin_class_sailed\\\", \\\"booking_channel\\\", \\\"choice_air_flag\\\", \\\"cruise_care_flag\\\", \\\"gender_code\\\", \\\"dma\\\", \\\"country_code\\\", \\\"tier_at_sail\\\", \\\"family_flag_booking_level\\\", \\\"cel_class_code_sail\\\"], \\\"date_cols\\\": [], \\\"bool_cols\\\": []}\"},\"id\":\"1031\",\"type\":\"panel.models.markup.JSON\"},{\"attributes\":{\"child\":{\"id\":\"1031\"},\"name\":\"booking_data\",\"title\":\"booking_data\"},\"id\":\"1032\",\"type\":\"Panel\"},{\"attributes\":{\"child\":{\"id\":\"1027\"},\"name\":\"call_data\",\"title\":\"call_data\"},\"id\":\"1028\",\"type\":\"Panel\"},{\"attributes\":{\"margin\":[5,20,5,5],\"name\":\"call_data\",\"text\":\"{\\\"nemerical\\\": [\\\"originatingnumber\\\", \\\"dialednumber\\\", \\\"customer_id\\\"], \\\"cat_cols\\\": [\\\"call_date\\\", \\\"country_code\\\", \\\"cel_class_code\\\", \\\"unq_add\\\"], \\\"date_cols\\\": [], \\\"bool_cols\\\": []}\"},\"id\":\"1027\",\"type\":\"panel.models.markup.JSON\"}],\"root_ids\":[\"1026\",\"1037\"]},\"title\":\"Bokeh Application\",\"version\":\"2.2.3\"}};\n",
       "    var render_items = [{\"docid\":\"23a80d2c-2e87-47f2-b7a5-23130e0e1e6d\",\"root_ids\":[\"1026\"],\"roots\":{\"1026\":\"58193ac6-ad69-487f-a329-b8e60bf98001\"}}];\n",
       "    root.Bokeh.embed.embed_items_notebook(docs_json, render_items);\n",
       "  }\n",
       "  if (root.Bokeh !== undefined && root.Bokeh.Panel !== undefined) {\n",
       "    embed_document(root);\n",
       "  } else {\n",
       "    var attempts = 0;\n",
       "    var timer = setInterval(function(root) {\n",
       "      if (root.Bokeh !== undefined && root.Bokeh.Panel !== undefined) {\n",
       "        clearInterval(timer);\n",
       "        embed_document(root);\n",
       "      } else if (document.readyState == \"complete\") {\n",
       "        attempts++;\n",
       "        if (attempts > 100) {\n",
       "          clearInterval(timer);\n",
       "          console.log(\"Bokeh: ERROR: Unable to run BokehJS code because BokehJS library is missing\");\n",
       "        }\n",
       "      }\n",
       "    }, 10, root)\n",
       "  }\n",
       "})(window);</script>"
      ],
      "text/plain": [
       "Tabs\n",
       "    [0] JSON(dict, name='call_data')\n",
       "    [1] JSON(dict, name='last_activity_data')\n",
       "    [2] JSON(dict, name='booking_data')\n",
       "    [3] JSON(dict, name='consumer_data')\n",
       "    [4] JSON(dict, name='web_data')"
      ]
     },
     "execution_count": 16,
     "metadata": {
      "application/vnd.holoviews_exec.v0+json": {
       "id": "1026"
      }
     },
     "output_type": "execute_result"
    }
   ],
   "source": [
    "%%time\n",
    "types = {\n",
    "    'nemerical': dp.list_numerical_columns,\n",
    "    'cat_cols': dp.list_categorical_columns,\n",
    "    'date_cols': dp.list_datelike_columns,\n",
    "    'bool_cols': dp.list_boolean_columns\n",
    "}\n",
    "res = [(datakey, {typekey: typeval(dataval) for typekey, typeval in types.items()}) for datakey, dataval in data.items()]\n",
    "utils.display_as_tabs(res)"
   ]
  },
  {
   "cell_type": "markdown",
   "metadata": {},
   "source": [
    "## Check for data consistency in Columns\n",
    "\n",
    "Data consistency refers to any case related inconsistencies in an object column.\n",
    "\n",
    "> Example -  Having \"APPLE\" and \"apple\" as part of cell values in the same column is considered as an inconsistency"
   ]
  },
  {
   "cell_type": "code",
   "execution_count": 17,
   "metadata": {},
   "outputs": [
    {
     "name": "stdout",
     "output_type": "stream",
     "text": [
      "Wall time: 2min 44s\n"
     ]
    },
    {
     "data": {},
     "metadata": {},
     "output_type": "display_data"
    },
    {
     "data": {
      "application/vnd.holoviews_exec.v0+json": "",
      "text/html": [
       "<div id='1038'>\n",
       "\n",
       "\n",
       "\n",
       "\n",
       "\n",
       "  <div class=\"bk-root\" id=\"eea827a7-16f8-43dc-9b40-b505b25967c9\" data-root-id=\"1038\"></div>\n",
       "</div>\n",
       "<script type=\"application/javascript\">(function(root) {\n",
       "  function embed_document(root) {\n",
       "    var docs_json = {\"48c1f670-588a-4650-98fb-27e56e4d39c1\":{\"roots\":{\"references\":[{\"attributes\":{\"child\":{\"id\":\"1041\"},\"name\":\"last_activity_data\",\"title\":\"last_activity_data\"},\"id\":\"1042\",\"type\":\"Panel\"},{\"attributes\":{\"css_classes\":[\"markdown\"],\"margin\":[5,5,5,5],\"name\":\"last_activity_data\",\"text\":\"&lt;p&gt;Consistency Check Passed - No inconsistency in data&lt;/p&gt;\"},\"id\":\"1041\",\"type\":\"panel.models.markup.HTML\"},{\"attributes\":{\"child\":{\"id\":\"1047\"},\"name\":\"web_data\",\"title\":\"web_data\"},\"id\":\"1048\",\"type\":\"Panel\"},{\"attributes\":{\"child\":{\"id\":\"1039\"},\"name\":\"call_data\",\"title\":\"call_data\"},\"id\":\"1040\",\"type\":\"Panel\"},{\"attributes\":{\"css_classes\":[\"markdown\"],\"margin\":[5,5,5,5],\"name\":\"web_data\",\"text\":\"&lt;p&gt;Consistency Check Passed - No inconsistency in data&lt;/p&gt;\"},\"id\":\"1047\",\"type\":\"panel.models.markup.HTML\"},{\"attributes\":{\"child\":{\"id\":\"1045\"},\"name\":\"consumer_data\",\"title\":\"consumer_data\"},\"id\":\"1046\",\"type\":\"Panel\"},{\"attributes\":{\"css_classes\":[\"markdown\"],\"margin\":[5,5,5,5],\"name\":\"call_data\",\"text\":\"&lt;p&gt;Consistency Check Passed - No inconsistency in data&lt;/p&gt;\"},\"id\":\"1039\",\"type\":\"panel.models.markup.HTML\"},{\"attributes\":{\"css_classes\":[\"markdown\"],\"margin\":[5,5,5,5],\"name\":\"booking_data\",\"text\":\"&lt;p&gt;Consistency Check Passed - No inconsistency in data&lt;/p&gt;\"},\"id\":\"1043\",\"type\":\"panel.models.markup.HTML\"},{\"attributes\":{\"css_classes\":[\"markdown\"],\"margin\":[5,5,5,5],\"name\":\"consumer_data\",\"text\":\"&lt;p&gt;Consistency Check Passed - No inconsistency in data&lt;/p&gt;\"},\"id\":\"1045\",\"type\":\"panel.models.markup.HTML\"},{\"attributes\":{\"client_comm_id\":\"1c4411b369a0466ba6f4788fcdb689ce\",\"comm_id\":\"f5106981d01f4f7188ddba3d9aacfa66\",\"plot_id\":\"1038\"},\"id\":\"1049\",\"type\":\"panel.models.comm_manager.CommManager\"},{\"attributes\":{\"margin\":[0,0,0,0],\"tabs\":[{\"id\":\"1040\"},{\"id\":\"1042\"},{\"id\":\"1044\"},{\"id\":\"1046\"},{\"id\":\"1048\"}]},\"id\":\"1038\",\"type\":\"Tabs\"},{\"attributes\":{\"child\":{\"id\":\"1043\"},\"name\":\"booking_data\",\"title\":\"booking_data\"},\"id\":\"1044\",\"type\":\"Panel\"}],\"root_ids\":[\"1038\",\"1049\"]},\"title\":\"Bokeh Application\",\"version\":\"2.2.3\"}};\n",
       "    var render_items = [{\"docid\":\"48c1f670-588a-4650-98fb-27e56e4d39c1\",\"root_ids\":[\"1038\"],\"roots\":{\"1038\":\"eea827a7-16f8-43dc-9b40-b505b25967c9\"}}];\n",
       "    root.Bokeh.embed.embed_items_notebook(docs_json, render_items);\n",
       "  }\n",
       "  if (root.Bokeh !== undefined && root.Bokeh.Panel !== undefined) {\n",
       "    embed_document(root);\n",
       "  } else {\n",
       "    var attempts = 0;\n",
       "    var timer = setInterval(function(root) {\n",
       "      if (root.Bokeh !== undefined && root.Bokeh.Panel !== undefined) {\n",
       "        clearInterval(timer);\n",
       "        embed_document(root);\n",
       "      } else if (document.readyState == \"complete\") {\n",
       "        attempts++;\n",
       "        if (attempts > 100) {\n",
       "          clearInterval(timer);\n",
       "          console.log(\"Bokeh: ERROR: Unable to run BokehJS code because BokehJS library is missing\");\n",
       "        }\n",
       "      }\n",
       "    }, 10, root)\n",
       "  }\n",
       "})(window);</script>"
      ],
      "text/plain": [
       "Tabs\n",
       "    [0] Markdown(str, name='call_data')\n",
       "    [1] Markdown(str, name='last_activity_data')\n",
       "    [2] Markdown(str, name='booking_data')\n",
       "    [3] Markdown(str, name='consumer_data')\n",
       "    [4] Markdown(str, name='web_data')"
      ]
     },
     "execution_count": 17,
     "metadata": {
      "application/vnd.holoviews_exec.v0+json": {
       "id": "1038"
      }
     },
     "output_type": "execute_result"
    }
   ],
   "source": [
    "%%time\n",
    "utils.display_as_tabs([(k, dp.check_column_data_consistency(v)) for k,v in data.items()])"
   ]
  },
  {
   "cell_type": "markdown",
   "metadata": {},
   "source": [
    "## Columns Unique Values Summary\n",
    "\n",
    "A summary of number of distinct count and the ratio of num_unique to the total count is obtained.\n",
    "\n",
    "This helps in identifying any categorical features sneaking in as numerical columns"
   ]
  },
  {
   "cell_type": "code",
   "execution_count": 18,
   "metadata": {},
   "outputs": [
    {
     "name": "stdout",
     "output_type": "stream",
     "text": [
      "Wall time: 30.7 s\n"
     ]
    },
    {
     "data": {},
     "metadata": {},
     "output_type": "display_data"
    },
    {
     "data": {
      "application/vnd.holoviews_exec.v0+json": "",
      "text/html": [
       "<div id='1050'>\n",
       "\n",
       "\n",
       "\n",
       "\n",
       "\n",
       "  <div class=\"bk-root\" id=\"32fb29f5-12aa-4892-a13d-bb0a498b0583\" data-root-id=\"1050\"></div>\n",
       "</div>\n",
       "<script type=\"application/javascript\">(function(root) {\n",
       "  function embed_document(root) {\n",
       "    var docs_json = {\"228f3eca-cf6f-4ea5-a43b-09459d6c124c\":{\"roots\":{\"references\":[{\"attributes\":{\"client_comm_id\":\"77e0b9e489d34c5f973403cd17b552c9\",\"comm_id\":\"f152c7035291479c98719cf96e0c6837\",\"plot_id\":\"1050\"},\"id\":\"1211\",\"type\":\"panel.models.comm_manager.CommManager\"},{\"attributes\":{\"child\":{\"id\":\"1125\"},\"name\":\"booking_data\",\"title\":\"booking_data\"},\"id\":\"1128\",\"type\":\"Panel\"},{\"attributes\":{\"data\":{\"Data type\":[\"IntegerType\",\"StringType\",\"StringType\",\"StringType\",\"StringType\",\"StringType\",\"StringType\",\"DoubleType\",\"DoubleType\",\"DoubleType\",\"DoubleType\",\"StringType\",\"StringType\",\"StringType\",\"StringType\",\"StringType\",\"DoubleType\",\"DoubleType\",\"DoubleType\",\"DoubleType\",\"DoubleType\",\"DoubleType\",\"DoubleType\",\"StringType\",\"StringType\",\"IntegerType\",\"LongType\"],\"Distinct count\":[\"84\",\"1\",\"3\",\"3\",\"4\",\"4\",\"5\",\"1560\",\"368\",\"123\",\"254\",\"3042\",\"209\",\"3918\",\"6\",\"1\",\"7\",\"7\",\"8\",\"8\",\"8\",\"6\",\"6\",\"2\",\"52\",\"82\",\"106560\"],\"Distinct count(%)\":[\"0.08\",\"0.0\",\"0.0\",\"0.0\",\"0.0\",\"0.0\",\"0.0\",\"1.46\",\"0.35\",\"0.12\",\"0.24\",\"2.85\",\"0.2\",\"3.68\",\"0.01\",\"0.0\",\"0.01\",\"0.01\",\"0.01\",\"0.01\",\"0.01\",\"0.01\",\"0.01\",\"0.0\",\"0.05\",\"0.08\",\"100.0\"],\"index\":[\"age\",\"cel_class_code\",\"rci_class_code\",\"aza_class_code\",\"high_value_zip_desc\",\"et_active_flag\",\"jm_hml_segment_code\",\"last_cruise_months_ago\",\"click_to_open\",\"click_pct\",\"open_pct\",\"max_event_date\",\"cel_dma_desc\",\"cel_first_cruise_date\",\"cc_current_loyalty_tier_code\",\"booked_flag\",\"beach_relax_cruise_intention\",\"luxury_relax_cruise_intention\",\"natural_wonders_cruise_intenti\",\"new_metro_cruise_intention\",\"old_metro_cruise_intention\",\"sea_cruise_intention\",\"town_cruise_intention\",\"gender_code\",\"state_code\",\"rci_qualify_cruise_qty\",\"customer_id\"]},\"selected\":{\"id\":\"1153\"},\"selection_policy\":{\"id\":\"1188\"}},\"id\":\"1129\",\"type\":\"ColumnDataSource\"},{\"attributes\":{},\"id\":\"1188\",\"type\":\"UnionRenderers\"},{\"attributes\":{\"data\":{\"Data type\":[\"StringType\",\"StringType\",\"StringType\",\"LongType\",\"StringType\",\"StringType\",\"StringType\",\"StringType\",\"StringType\",\"LongType\",\"StringType\",\"StringType\",\"StringType\",\"StringType\",\"StringType\",\"StringType\",\"LongType\"],\"Distinct count\":[\"2762\",\"2\",\"1815\",\"19\",\"16\",\"5\",\"7\",\"4\",\"2\",\"105\",\"2\",\"210\",\"2\",\"8\",\"2\",\"2\",\"2413004\"],\"Distinct count(%)\":[\"0.06\",\"0.0\",\"0.04\",\"0.0\",\"0.0\",\"0.0\",\"0.0\",\"0.0\",\"0.0\",\"0.0\",\"0.0\",\"0.0\",\"0.0\",\"0.0\",\"0.0\",\"0.0\",\"51.03\"],\"index\":[\"booking_create_date\",\"booking_status_bk_level\",\"sailing_date\",\"curr_number_sail_nights\",\"meta_product_code\",\"cabin_class_sailed\",\"booking_channel\",\"choice_air_flag\",\"cruise_care_flag\",\"age\",\"gender_code\",\"dma\",\"country_code\",\"tier_at_sail\",\"family_flag_booking_level\",\"cel_class_code_sail\",\"customer_id\"]},\"selected\":{\"id\":\"1127\"},\"selection_policy\":{\"id\":\"1186\"}},\"id\":\"1103\",\"type\":\"ColumnDataSource\"},{\"attributes\":{},\"id\":\"1069\",\"type\":\"StringEditor\"},{\"attributes\":{},\"id\":\"1132\",\"type\":\"CellEditor\"},{\"attributes\":{},\"id\":\"1101\",\"type\":\"Selection\"},{\"attributes\":{},\"id\":\"1130\",\"type\":\"StringFormatter\"},{\"attributes\":{\"editor\":{\"id\":\"1132\"},\"field\":\"index\",\"formatter\":{\"id\":\"1130\"},\"title\":\"index\"},\"id\":\"1133\",\"type\":\"TableColumn\"},{\"attributes\":{},\"id\":\"1190\",\"type\":\"UnionRenderers\"},{\"attributes\":{\"editor\":{\"id\":\"1059\"},\"field\":\"Data type\",\"formatter\":{\"id\":\"1058\"},\"title\":\"Data type\"},\"id\":\"1060\",\"type\":\"TableColumn\"},{\"attributes\":{\"child\":{\"id\":\"1099\"},\"name\":\"last_activity_data\",\"title\":\"last_activity_data\"},\"id\":\"1102\",\"type\":\"Panel\"},{\"attributes\":{\"columns\":[{\"id\":\"1133\"},{\"id\":\"1138\"},{\"id\":\"1143\"},{\"id\":\"1148\"}],\"editable\":true,\"height\":300,\"index_position\":null,\"margin\":[5,10,5,10],\"name\":\"consumer_data\",\"sizing_mode\":\"fixed\",\"source\":{\"id\":\"1129\"},\"view\":{\"id\":\"1152\"},\"width\":300},\"id\":\"1151\",\"type\":\"DataTable\"},{\"attributes\":{},\"id\":\"1063\",\"type\":\"StringFormatter\"},{\"attributes\":{\"source\":{\"id\":\"1077\"}},\"id\":\"1100\",\"type\":\"CDSView\"},{\"attributes\":{},\"id\":\"1078\",\"type\":\"StringFormatter\"},{\"attributes\":{},\"id\":\"1136\",\"type\":\"StringFormatter\"},{\"attributes\":{\"source\":{\"id\":\"1155\"}},\"id\":\"1178\",\"type\":\"CDSView\"},{\"attributes\":{\"data\":{\"Data type\":[\"LongType\",\"LongType\",\"StringType\",\"StringType\",\"StringType\",\"StringType\",\"LongType\"],\"Distinct count\":[\"97447\",\"48\",\"931\",\"2\",\"1\",\"91619\",\"106560\"],\"Distinct count(%)\":[\"14.06\",\"0.01\",\"0.13\",\"0.0\",\"0.0\",\"13.22\",\"15.37\"],\"index\":[\"originatingnumber\",\"dialednumber\",\"call_date\",\"country_code\",\"cel_class_code\",\"unq_add\",\"customer_id\"]},\"selected\":{\"id\":\"1075\"},\"selection_policy\":{\"id\":\"1182\"}},\"id\":\"1051\",\"type\":\"ColumnDataSource\"},{\"attributes\":{},\"id\":\"1137\",\"type\":\"StringEditor\"},{\"attributes\":{},\"id\":\"1052\",\"type\":\"StringFormatter\"},{\"attributes\":{},\"id\":\"1090\",\"type\":\"StringEditor\"},{\"attributes\":{\"editor\":{\"id\":\"1137\"},\"field\":\"Data type\",\"formatter\":{\"id\":\"1136\"},\"title\":\"Data type\"},\"id\":\"1138\",\"type\":\"TableColumn\"},{\"attributes\":{},\"id\":\"1059\",\"type\":\"StringEditor\"},{\"attributes\":{},\"id\":\"1094\",\"type\":\"StringFormatter\"},{\"attributes\":{},\"id\":\"1141\",\"type\":\"StringFormatter\"},{\"attributes\":{\"editor\":{\"id\":\"1095\"},\"field\":\"Distinct count(%)\",\"formatter\":{\"id\":\"1094\"},\"title\":\"Distinct count(%)\"},\"id\":\"1096\",\"type\":\"TableColumn\"},{\"attributes\":{\"child\":{\"id\":\"1177\"},\"name\":\"web_data\",\"title\":\"web_data\"},\"id\":\"1180\",\"type\":\"Panel\"},{\"attributes\":{},\"id\":\"1142\",\"type\":\"StringEditor\"},{\"attributes\":{},\"id\":\"1179\",\"type\":\"Selection\"},{\"attributes\":{\"editor\":{\"id\":\"1142\"},\"field\":\"Distinct count\",\"formatter\":{\"id\":\"1141\"},\"title\":\"Distinct count\"},\"id\":\"1143\",\"type\":\"TableColumn\"},{\"attributes\":{\"child\":{\"id\":\"1073\"},\"name\":\"call_data\",\"title\":\"call_data\"},\"id\":\"1076\",\"type\":\"Panel\"},{\"attributes\":{\"columns\":[{\"id\":\"1081\"},{\"id\":\"1086\"},{\"id\":\"1091\"},{\"id\":\"1096\"}],\"editable\":true,\"height\":300,\"index_position\":null,\"margin\":[5,10,5,10],\"name\":\"last_activity_data\",\"sizing_mode\":\"fixed\",\"source\":{\"id\":\"1077\"},\"view\":{\"id\":\"1100\"},\"width\":300},\"id\":\"1099\",\"type\":\"DataTable\"},{\"attributes\":{},\"id\":\"1146\",\"type\":\"StringFormatter\"},{\"attributes\":{},\"id\":\"1184\",\"type\":\"UnionRenderers\"},{\"attributes\":{},\"id\":\"1075\",\"type\":\"Selection\"},{\"attributes\":{},\"id\":\"1182\",\"type\":\"UnionRenderers\"},{\"attributes\":{},\"id\":\"1147\",\"type\":\"StringEditor\"},{\"attributes\":{\"editor\":{\"id\":\"1147\"},\"field\":\"Distinct count(%)\",\"formatter\":{\"id\":\"1146\"},\"title\":\"Distinct count(%)\"},\"id\":\"1148\",\"type\":\"TableColumn\"},{\"attributes\":{},\"id\":\"1186\",\"type\":\"UnionRenderers\"},{\"attributes\":{},\"id\":\"1115\",\"type\":\"StringFormatter\"},{\"attributes\":{\"source\":{\"id\":\"1129\"}},\"id\":\"1152\",\"type\":\"CDSView\"},{\"attributes\":{},\"id\":\"1068\",\"type\":\"StringFormatter\"},{\"attributes\":{\"editor\":{\"id\":\"1111\"},\"field\":\"Data type\",\"formatter\":{\"id\":\"1110\"},\"title\":\"Data type\"},\"id\":\"1112\",\"type\":\"TableColumn\"},{\"attributes\":{},\"id\":\"1111\",\"type\":\"StringEditor\"},{\"attributes\":{},\"id\":\"1153\",\"type\":\"Selection\"},{\"attributes\":{},\"id\":\"1058\",\"type\":\"StringFormatter\"},{\"attributes\":{\"child\":{\"id\":\"1151\"},\"name\":\"consumer_data\",\"title\":\"consumer_data\"},\"id\":\"1154\",\"type\":\"Panel\"},{\"attributes\":{\"editor\":{\"id\":\"1080\"},\"field\":\"index\",\"formatter\":{\"id\":\"1078\"},\"title\":\"index\"},\"id\":\"1081\",\"type\":\"TableColumn\"},{\"attributes\":{},\"id\":\"1110\",\"type\":\"StringFormatter\"},{\"attributes\":{\"data\":{\"Data type\":[\"StringType\",\"IntegerType\",\"IntegerType\",\"StringType\",\"IntegerType\",\"IntegerType\",\"StringType\",\"StringType\",\"LongType\"],\"Distinct count\":[\"1585\",\"5\",\"12\",\"5\",\"12568\",\"370\",\"2\",\"33\",\"106560\"],\"Distinct count(%)\":[\"0.02\",\"0.0\",\"0.0\",\"0.0\",\"0.18\",\"0.01\",\"0.0\",\"0.0\",\"1.55\"],\"index\":[\"visit_date\",\"visit_yr\",\"visit_mo\",\"device_type_name\",\"sec_time_spent_on_nbr\",\"page_view_count\",\"geo_seg_country_name\",\"visit_type\",\"customer_id\"]},\"selected\":{\"id\":\"1179\"},\"selection_policy\":{\"id\":\"1190\"}},\"id\":\"1155\",\"type\":\"ColumnDataSource\"},{\"attributes\":{\"data\":{\"Data type\":[\"StringType\",\"StringType\",\"StringType\",\"StringType\",\"StringType\",\"StringType\",\"StringType\",\"StringType\",\"StringType\",\"StringType\",\"StringType\",\"LongType\"],\"Distinct count\":[\"1\",\"9024\",\"40330\",\"95836\",\"3\",\"4\",\"61\",\"1\",\"2053\",\"5\",\"25\",\"106560\"],\"Distinct count(%)\":[\"0.0\",\"3.26\",\"14.56\",\"34.6\",\"0.0\",\"0.0\",\"0.02\",\"0.0\",\"0.74\",\"0.0\",\"0.01\",\"38.47\"],\"index\":[\"load_date\",\"consumer_first_name\",\"consumer_last_name\",\"email_address\",\"cel_email_permission_flag\",\"country_code\",\"state_code\",\"cel_class_code\",\"actvty_date\",\"actvty_type\",\"actvty_prod\",\"customer_id\"]},\"selected\":{\"id\":\"1101\"},\"selection_policy\":{\"id\":\"1184\"}},\"id\":\"1077\",\"type\":\"ColumnDataSource\"},{\"attributes\":{\"columns\":[{\"id\":\"1107\"},{\"id\":\"1112\"},{\"id\":\"1117\"},{\"id\":\"1122\"}],\"editable\":true,\"height\":300,\"index_position\":null,\"margin\":[5,10,5,10],\"name\":\"booking_data\",\"sizing_mode\":\"fixed\",\"source\":{\"id\":\"1103\"},\"view\":{\"id\":\"1126\"},\"width\":300},\"id\":\"1125\",\"type\":\"DataTable\"},{\"attributes\":{},\"id\":\"1158\",\"type\":\"CellEditor\"},{\"attributes\":{},\"id\":\"1156\",\"type\":\"StringFormatter\"},{\"attributes\":{\"editor\":{\"id\":\"1085\"},\"field\":\"Data type\",\"formatter\":{\"id\":\"1084\"},\"title\":\"Data type\"},\"id\":\"1086\",\"type\":\"TableColumn\"},{\"attributes\":{\"editor\":{\"id\":\"1106\"},\"field\":\"index\",\"formatter\":{\"id\":\"1104\"},\"title\":\"index\"},\"id\":\"1107\",\"type\":\"TableColumn\"},{\"attributes\":{\"editor\":{\"id\":\"1158\"},\"field\":\"index\",\"formatter\":{\"id\":\"1156\"},\"title\":\"index\"},\"id\":\"1159\",\"type\":\"TableColumn\"},{\"attributes\":{},\"id\":\"1104\",\"type\":\"StringFormatter\"},{\"attributes\":{\"columns\":[{\"id\":\"1159\"},{\"id\":\"1164\"},{\"id\":\"1169\"},{\"id\":\"1174\"}],\"editable\":true,\"height\":300,\"index_position\":null,\"margin\":[5,10,5,10],\"name\":\"web_data\",\"sizing_mode\":\"fixed\",\"source\":{\"id\":\"1155\"},\"view\":{\"id\":\"1178\"},\"width\":300},\"id\":\"1177\",\"type\":\"DataTable\"},{\"attributes\":{\"editor\":{\"id\":\"1069\"},\"field\":\"Distinct count(%)\",\"formatter\":{\"id\":\"1068\"},\"title\":\"Distinct count(%)\"},\"id\":\"1070\",\"type\":\"TableColumn\"},{\"attributes\":{},\"id\":\"1106\",\"type\":\"CellEditor\"},{\"attributes\":{},\"id\":\"1095\",\"type\":\"StringEditor\"},{\"attributes\":{},\"id\":\"1085\",\"type\":\"StringEditor\"},{\"attributes\":{\"editor\":{\"id\":\"1064\"},\"field\":\"Distinct count\",\"formatter\":{\"id\":\"1063\"},\"title\":\"Distinct count\"},\"id\":\"1065\",\"type\":\"TableColumn\"},{\"attributes\":{},\"id\":\"1162\",\"type\":\"StringFormatter\"},{\"attributes\":{},\"id\":\"1054\",\"type\":\"CellEditor\"},{\"attributes\":{\"editor\":{\"id\":\"1090\"},\"field\":\"Distinct count\",\"formatter\":{\"id\":\"1089\"},\"title\":\"Distinct count\"},\"id\":\"1091\",\"type\":\"TableColumn\"},{\"attributes\":{},\"id\":\"1084\",\"type\":\"StringFormatter\"},{\"attributes\":{\"editor\":{\"id\":\"1054\"},\"field\":\"index\",\"formatter\":{\"id\":\"1052\"},\"title\":\"index\"},\"id\":\"1055\",\"type\":\"TableColumn\"},{\"attributes\":{},\"id\":\"1089\",\"type\":\"StringFormatter\"},{\"attributes\":{},\"id\":\"1163\",\"type\":\"StringEditor\"},{\"attributes\":{\"columns\":[{\"id\":\"1055\"},{\"id\":\"1060\"},{\"id\":\"1065\"},{\"id\":\"1070\"}],\"editable\":true,\"height\":300,\"index_position\":null,\"margin\":[5,10,5,10],\"name\":\"call_data\",\"sizing_mode\":\"fixed\",\"source\":{\"id\":\"1051\"},\"view\":{\"id\":\"1074\"},\"width\":300},\"id\":\"1073\",\"type\":\"DataTable\"},{\"attributes\":{\"editor\":{\"id\":\"1163\"},\"field\":\"Data type\",\"formatter\":{\"id\":\"1162\"},\"title\":\"Data type\"},\"id\":\"1164\",\"type\":\"TableColumn\"},{\"attributes\":{},\"id\":\"1116\",\"type\":\"StringEditor\"},{\"attributes\":{\"margin\":[0,0,0,0],\"tabs\":[{\"id\":\"1076\"},{\"id\":\"1102\"},{\"id\":\"1128\"},{\"id\":\"1154\"},{\"id\":\"1180\"}]},\"id\":\"1050\",\"type\":\"Tabs\"},{\"attributes\":{\"editor\":{\"id\":\"1116\"},\"field\":\"Distinct count\",\"formatter\":{\"id\":\"1115\"},\"title\":\"Distinct count\"},\"id\":\"1117\",\"type\":\"TableColumn\"},{\"attributes\":{},\"id\":\"1167\",\"type\":\"StringFormatter\"},{\"attributes\":{},\"id\":\"1168\",\"type\":\"StringEditor\"},{\"attributes\":{},\"id\":\"1120\",\"type\":\"StringFormatter\"},{\"attributes\":{\"editor\":{\"id\":\"1168\"},\"field\":\"Distinct count\",\"formatter\":{\"id\":\"1167\"},\"title\":\"Distinct count\"},\"id\":\"1169\",\"type\":\"TableColumn\"},{\"attributes\":{\"source\":{\"id\":\"1051\"}},\"id\":\"1074\",\"type\":\"CDSView\"},{\"attributes\":{},\"id\":\"1121\",\"type\":\"StringEditor\"},{\"attributes\":{\"editor\":{\"id\":\"1121\"},\"field\":\"Distinct count(%)\",\"formatter\":{\"id\":\"1120\"},\"title\":\"Distinct count(%)\"},\"id\":\"1122\",\"type\":\"TableColumn\"},{\"attributes\":{},\"id\":\"1172\",\"type\":\"StringFormatter\"},{\"attributes\":{},\"id\":\"1064\",\"type\":\"StringEditor\"},{\"attributes\":{},\"id\":\"1080\",\"type\":\"CellEditor\"},{\"attributes\":{},\"id\":\"1173\",\"type\":\"StringEditor\"},{\"attributes\":{\"source\":{\"id\":\"1103\"}},\"id\":\"1126\",\"type\":\"CDSView\"},{\"attributes\":{\"editor\":{\"id\":\"1173\"},\"field\":\"Distinct count(%)\",\"formatter\":{\"id\":\"1172\"},\"title\":\"Distinct count(%)\"},\"id\":\"1174\",\"type\":\"TableColumn\"},{\"attributes\":{},\"id\":\"1127\",\"type\":\"Selection\"}],\"root_ids\":[\"1050\",\"1211\"]},\"title\":\"Bokeh Application\",\"version\":\"2.2.3\"}};\n",
       "    var render_items = [{\"docid\":\"228f3eca-cf6f-4ea5-a43b-09459d6c124c\",\"root_ids\":[\"1050\"],\"roots\":{\"1050\":\"32fb29f5-12aa-4892-a13d-bb0a498b0583\"}}];\n",
       "    root.Bokeh.embed.embed_items_notebook(docs_json, render_items);\n",
       "  }\n",
       "  if (root.Bokeh !== undefined && root.Bokeh.Panel !== undefined) {\n",
       "    embed_document(root);\n",
       "  } else {\n",
       "    var attempts = 0;\n",
       "    var timer = setInterval(function(root) {\n",
       "      if (root.Bokeh !== undefined && root.Bokeh.Panel !== undefined) {\n",
       "        clearInterval(timer);\n",
       "        embed_document(root);\n",
       "      } else if (document.readyState == \"complete\") {\n",
       "        attempts++;\n",
       "        if (attempts > 100) {\n",
       "          clearInterval(timer);\n",
       "          console.log(\"Bokeh: ERROR: Unable to run BokehJS code because BokehJS library is missing\");\n",
       "        }\n",
       "      }\n",
       "    }, 10, root)\n",
       "  }\n",
       "})(window);</script>"
      ],
      "text/plain": [
       "Tabs\n",
       "    [0] DataFrame(height=300, name='call_data', sizing_mode='fixed', value=              ..., width=300)\n",
       "    [1] DataFrame(height=300, name='last_activity_data', sizing_mode='fixed', value=              ..., width=300)\n",
       "    [2] DataFrame(height=300, name='booking_data', sizing_mode='fixed', value=              ..., width=300)\n",
       "    [3] DataFrame(height=300, name='consumer_data', sizing_mode='fixed', value=              ..., width=300)\n",
       "    [4] DataFrame(height=300, name='web_data', sizing_mode='fixed', value=              ..., width=300)"
      ]
     },
     "execution_count": 18,
     "metadata": {
      "application/vnd.holoviews_exec.v0+json": {
       "id": "1050"
      }
     },
     "output_type": "execute_result"
    }
   ],
   "source": [
    "%%time\n",
    "utils.display_as_tabs([(k, eda.column_values_summary(v).T) for k,v in data.items()])"
   ]
  },
  {
   "cell_type": "markdown",
   "metadata": {},
   "source": [
    "## Identification of Missing Values\n",
    "\n",
    "This step summarizes the Number of Missing Values in each column of the data."
   ]
  },
  {
   "cell_type": "code",
   "execution_count": 19,
   "metadata": {},
   "outputs": [
    {
     "name": "stdout",
     "output_type": "stream",
     "text": [
      "Wall time: 39.9 s\n"
     ]
    },
    {
     "data": {},
     "metadata": {},
     "output_type": "display_data"
    },
    {
     "data": {
      "application/vnd.holoviews_exec.v0+json": "",
      "text/html": [
       "<div id='1262'>\n",
       "\n",
       "\n",
       "\n",
       "\n",
       "\n",
       "  <div class=\"bk-root\" id=\"7e1a8cd8-ebd8-4a7b-842e-ef4660a7cd2f\" data-root-id=\"1262\"></div>\n",
       "</div>\n",
       "<script type=\"application/javascript\">(function(root) {\n",
       "  function embed_document(root) {\n",
       "    var docs_json = {\"224e3949-19eb-4891-bdf8-6652a7b163be\":{\"roots\":{\"references\":[{\"attributes\":{\"editor\":{\"id\":\"1317\"},\"field\":\"load_date\",\"formatter\":{\"id\":\"1316\"},\"title\":\"load_date\"},\"id\":\"1318\",\"type\":\"TableColumn\"},{\"attributes\":{\"editor\":{\"id\":\"1635\"},\"field\":\"visit_yr\",\"formatter\":{\"id\":\"1634\"},\"title\":\"visit_yr\"},\"id\":\"1636\",\"type\":\"TableColumn\"},{\"attributes\":{},\"id\":\"1499\",\"type\":\"IntEditor\"},{\"attributes\":{},\"id\":\"1381\",\"type\":\"NumberFormatter\"},{\"attributes\":{\"client_comm_id\":\"6ab95a5dbb634d43a914080ff9450bc9\",\"comm_id\":\"2e22a9d91d634ea3a0798b8c09c96f53\",\"plot_id\":\"1262\"},\"id\":\"1708\",\"type\":\"panel.models.comm_manager.CommManager\"},{\"attributes\":{\"columns\":[{\"id\":\"1384\"},{\"id\":\"1389\"},{\"id\":\"1394\"},{\"id\":\"1399\"},{\"id\":\"1404\"},{\"id\":\"1409\"},{\"id\":\"1414\"},{\"id\":\"1419\"},{\"id\":\"1424\"},{\"id\":\"1429\"},{\"id\":\"1434\"},{\"id\":\"1439\"},{\"id\":\"1444\"},{\"id\":\"1449\"},{\"id\":\"1454\"},{\"id\":\"1459\"},{\"id\":\"1464\"},{\"id\":\"1469\"}],\"editable\":true,\"height\":300,\"index_position\":null,\"margin\":[5,10,5,10],\"name\":\"booking_data\",\"sizing_mode\":\"fixed\",\"source\":{\"id\":\"1380\"},\"view\":{\"id\":\"1473\"},\"width\":300},\"id\":\"1472\",\"type\":\"DataTable\"},{\"attributes\":{\"editor\":{\"id\":\"1327\"},\"field\":\"consumer_last_name\",\"formatter\":{\"id\":\"1326\"},\"title\":\"consumer_last_name\"},\"id\":\"1328\",\"type\":\"TableColumn\"},{\"attributes\":{},\"id\":\"1639\",\"type\":\"NumberFormatter\"},{\"attributes\":{\"source\":{\"id\":\"1263\"}},\"id\":\"1306\",\"type\":\"CDSView\"},{\"attributes\":{},\"id\":\"1640\",\"type\":\"IntEditor\"},{\"attributes\":{},\"id\":\"1332\",\"type\":\"IntEditor\"},{\"attributes\":{\"editor\":{\"id\":\"1640\"},\"field\":\"visit_mo\",\"formatter\":{\"id\":\"1639\"},\"title\":\"visit_mo\"},\"id\":\"1641\",\"type\":\"TableColumn\"},{\"attributes\":{},\"id\":\"1312\",\"type\":\"CellEditor\"},{\"attributes\":{},\"id\":\"1392\",\"type\":\"NumberFormatter\"},{\"attributes\":{},\"id\":\"1301\",\"type\":\"IntEditor\"},{\"attributes\":{},\"id\":\"1327\",\"type\":\"IntEditor\"},{\"attributes\":{\"editor\":{\"id\":\"1286\"},\"field\":\"country_code\",\"formatter\":{\"id\":\"1285\"},\"title\":\"country_code\"},\"id\":\"1287\",\"type\":\"TableColumn\"},{\"attributes\":{\"editor\":{\"id\":\"1388\"},\"field\":\"booking_create_date\",\"formatter\":{\"id\":\"1387\"},\"title\":\"booking_create_date\"},\"id\":\"1389\",\"type\":\"TableColumn\"},{\"attributes\":{\"editor\":{\"id\":\"1499\"},\"field\":\"aza_class_code\",\"formatter\":{\"id\":\"1498\"},\"title\":\"aza_class_code\"},\"id\":\"1500\",\"type\":\"TableColumn\"},{\"attributes\":{},\"id\":\"1644\",\"type\":\"NumberFormatter\"},{\"attributes\":{\"editor\":{\"id\":\"1301\"},\"field\":\"customer_id\",\"formatter\":{\"id\":\"1300\"},\"title\":\"customer_id\"},\"id\":\"1302\",\"type\":\"TableColumn\"},{\"attributes\":{},\"id\":\"1493\",\"type\":\"NumberFormatter\"},{\"attributes\":{},\"id\":\"1645\",\"type\":\"IntEditor\"},{\"attributes\":{\"editor\":{\"id\":\"1332\"},\"field\":\"email_address\",\"formatter\":{\"id\":\"1331\"},\"title\":\"email_address\"},\"id\":\"1333\",\"type\":\"TableColumn\"},{\"attributes\":{},\"id\":\"1387\",\"type\":\"NumberFormatter\"},{\"attributes\":{\"margin\":[0,0,0,0],\"tabs\":[{\"id\":\"1308\"},{\"id\":\"1379\"},{\"id\":\"1475\"},{\"id\":\"1621\"},{\"id\":\"1677\"}]},\"id\":\"1262\",\"type\":\"Tabs\"},{\"attributes\":{\"editor\":{\"id\":\"1645\"},\"field\":\"device_type_name\",\"formatter\":{\"id\":\"1644\"},\"title\":\"device_type_name\"},\"id\":\"1646\",\"type\":\"TableColumn\"},{\"attributes\":{},\"id\":\"1383\",\"type\":\"CellEditor\"},{\"attributes\":{},\"id\":\"1427\",\"type\":\"NumberFormatter\"},{\"attributes\":{\"child\":{\"id\":\"1376\"},\"name\":\"last_activity_data\",\"title\":\"last_activity_data\"},\"id\":\"1379\",\"type\":\"Panel\"},{\"attributes\":{},\"id\":\"1679\",\"type\":\"UnionRenderers\"},{\"attributes\":{},\"id\":\"1296\",\"type\":\"IntEditor\"},{\"attributes\":{},\"id\":\"1494\",\"type\":\"IntEditor\"},{\"attributes\":{},\"id\":\"1307\",\"type\":\"Selection\"},{\"attributes\":{},\"id\":\"1649\",\"type\":\"NumberFormatter\"},{\"attributes\":{\"editor\":{\"id\":\"1428\"},\"field\":\"cruise_care_flag\",\"formatter\":{\"id\":\"1427\"},\"title\":\"cruise_care_flag\"},\"id\":\"1429\",\"type\":\"TableColumn\"},{\"attributes\":{},\"id\":\"1336\",\"type\":\"NumberFormatter\"},{\"attributes\":{},\"id\":\"1457\",\"type\":\"NumberFormatter\"},{\"attributes\":{},\"id\":\"1650\",\"type\":\"IntEditor\"},{\"attributes\":{},\"id\":\"1300\",\"type\":\"NumberFormatter\"},{\"attributes\":{\"editor\":{\"id\":\"1650\"},\"field\":\"sec_time_spent_on_nbr\",\"formatter\":{\"id\":\"1649\"},\"title\":\"sec_time_spent_on_nbr\"},\"id\":\"1651\",\"type\":\"TableColumn\"},{\"attributes\":{},\"id\":\"1462\",\"type\":\"NumberFormatter\"},{\"attributes\":{},\"id\":\"1654\",\"type\":\"NumberFormatter\"},{\"attributes\":{\"child\":{\"id\":\"1305\"},\"name\":\"call_data\",\"title\":\"call_data\"},\"id\":\"1308\",\"type\":\"Panel\"},{\"attributes\":{},\"id\":\"1655\",\"type\":\"IntEditor\"},{\"attributes\":{},\"id\":\"1458\",\"type\":\"IntEditor\"},{\"attributes\":{\"editor\":{\"id\":\"1494\"},\"field\":\"rci_class_code\",\"formatter\":{\"id\":\"1493\"},\"title\":\"rci_class_code\"},\"id\":\"1495\",\"type\":\"TableColumn\"},{\"attributes\":{\"editor\":{\"id\":\"1655\"},\"field\":\"page_view_count\",\"formatter\":{\"id\":\"1654\"},\"title\":\"page_view_count\"},\"id\":\"1656\",\"type\":\"TableColumn\"},{\"attributes\":{},\"id\":\"1317\",\"type\":\"IntEditor\"},{\"attributes\":{\"editor\":{\"id\":\"1337\"},\"field\":\"cel_email_permission_flag\",\"formatter\":{\"id\":\"1336\"},\"title\":\"cel_email_permission_flag\"},\"id\":\"1338\",\"type\":\"TableColumn\"},{\"attributes\":{},\"id\":\"1659\",\"type\":\"NumberFormatter\"},{\"attributes\":{},\"id\":\"1337\",\"type\":\"IntEditor\"},{\"attributes\":{},\"id\":\"1316\",\"type\":\"NumberFormatter\"},{\"attributes\":{},\"id\":\"1660\",\"type\":\"IntEditor\"},{\"attributes\":{\"editor\":{\"id\":\"1312\"},\"field\":\"index\",\"formatter\":{\"id\":\"1310\"},\"title\":\"index\"},\"id\":\"1313\",\"type\":\"TableColumn\"},{\"attributes\":{\"editor\":{\"id\":\"1660\"},\"field\":\"geo_seg_country_name\",\"formatter\":{\"id\":\"1659\"},\"title\":\"geo_seg_country_name\"},\"id\":\"1661\",\"type\":\"TableColumn\"},{\"attributes\":{\"data\":{\"actvty_date\":[0],\"actvty_prod\":[0],\"actvty_type\":[0],\"cel_class_code\":[0],\"cel_email_permission_flag\":[0],\"consumer_first_name\":[0],\"consumer_last_name\":[0],\"country_code\":[35],\"customer_id\":[0],\"email_address\":[0],\"index\":[0],\"load_date\":[0],\"state_code\":[39486]},\"selected\":{\"id\":\"1378\"},\"selection_policy\":{\"id\":\"1681\"}},\"id\":\"1309\",\"type\":\"ColumnDataSource\"},{\"attributes\":{},\"id\":\"1428\",\"type\":\"IntEditor\"},{\"attributes\":{\"data\":{\"age\":[0],\"booking_channel\":[0],\"booking_create_date\":[0],\"booking_status_bk_level\":[0],\"cabin_class_sailed\":[82215],\"cel_class_code_sail\":[0],\"choice_air_flag\":[4270442],\"country_code\":[0],\"cruise_care_flag\":[0],\"curr_number_sail_nights\":[0],\"customer_id\":[0],\"dma\":[245850],\"family_flag_booking_level\":[0],\"gender_code\":[189],\"index\":[0],\"meta_product_code\":[0],\"sailing_date\":[0],\"tier_at_sail\":[0]},\"selected\":{\"id\":\"1474\"},\"selection_policy\":{\"id\":\"1683\"}},\"id\":\"1380\",\"type\":\"ColumnDataSource\"},{\"attributes\":{},\"id\":\"1664\",\"type\":\"NumberFormatter\"},{\"attributes\":{},\"id\":\"1378\",\"type\":\"Selection\"},{\"attributes\":{},\"id\":\"1432\",\"type\":\"NumberFormatter\"},{\"attributes\":{},\"id\":\"1665\",\"type\":\"IntEditor\"},{\"attributes\":{\"editor\":{\"id\":\"1383\"},\"field\":\"index\",\"formatter\":{\"id\":\"1381\"},\"title\":\"index\"},\"id\":\"1384\",\"type\":\"TableColumn\"},{\"attributes\":{\"editor\":{\"id\":\"1463\"},\"field\":\"cel_class_code_sail\",\"formatter\":{\"id\":\"1462\"},\"title\":\"cel_class_code_sail\"},\"id\":\"1464\",\"type\":\"TableColumn\"},{\"attributes\":{\"editor\":{\"id\":\"1665\"},\"field\":\"visit_type\",\"formatter\":{\"id\":\"1664\"},\"title\":\"visit_type\"},\"id\":\"1666\",\"type\":\"TableColumn\"},{\"attributes\":{},\"id\":\"1321\",\"type\":\"NumberFormatter\"},{\"attributes\":{},\"id\":\"1295\",\"type\":\"NumberFormatter\"},{\"attributes\":{},\"id\":\"1322\",\"type\":\"IntEditor\"},{\"attributes\":{\"editor\":{\"id\":\"1291\"},\"field\":\"cel_class_code\",\"formatter\":{\"id\":\"1290\"},\"title\":\"cel_class_code\"},\"id\":\"1292\",\"type\":\"TableColumn\"},{\"attributes\":{\"source\":{\"id\":\"1309\"}},\"id\":\"1377\",\"type\":\"CDSView\"},{\"attributes\":{\"editor\":{\"id\":\"1489\"},\"field\":\"cel_class_code\",\"formatter\":{\"id\":\"1488\"},\"title\":\"cel_class_code\"},\"id\":\"1490\",\"type\":\"TableColumn\"},{\"attributes\":{\"editor\":{\"id\":\"1458\"},\"field\":\"family_flag_booking_level\",\"formatter\":{\"id\":\"1457\"},\"title\":\"family_flag_booking_level\"},\"id\":\"1459\",\"type\":\"TableColumn\"},{\"attributes\":{},\"id\":\"1669\",\"type\":\"NumberFormatter\"},{\"attributes\":{},\"id\":\"1388\",\"type\":\"IntEditor\"},{\"attributes\":{},\"id\":\"1670\",\"type\":\"IntEditor\"},{\"attributes\":{\"editor\":{\"id\":\"1296\"},\"field\":\"unq_add\",\"formatter\":{\"id\":\"1295\"},\"title\":\"unq_add\"},\"id\":\"1297\",\"type\":\"TableColumn\"},{\"attributes\":{},\"id\":\"1498\",\"type\":\"NumberFormatter\"},{\"attributes\":{\"editor\":{\"id\":\"1670\"},\"field\":\"customer_id\",\"formatter\":{\"id\":\"1669\"},\"title\":\"customer_id\"},\"id\":\"1671\",\"type\":\"TableColumn\"},{\"attributes\":{},\"id\":\"1281\",\"type\":\"IntEditor\"},{\"attributes\":{\"editor\":{\"id\":\"1266\"},\"field\":\"index\",\"formatter\":{\"id\":\"1264\"},\"title\":\"index\"},\"id\":\"1267\",\"type\":\"TableColumn\"},{\"attributes\":{\"editor\":{\"id\":\"1276\"},\"field\":\"dialednumber\",\"formatter\":{\"id\":\"1275\"},\"title\":\"dialednumber\"},\"id\":\"1277\",\"type\":\"TableColumn\"},{\"attributes\":{\"source\":{\"id\":\"1622\"}},\"id\":\"1675\",\"type\":\"CDSView\"},{\"attributes\":{},\"id\":\"1423\",\"type\":\"IntEditor\"},{\"attributes\":{},\"id\":\"1489\",\"type\":\"IntEditor\"},{\"attributes\":{},\"id\":\"1676\",\"type\":\"Selection\"},{\"attributes\":{\"columns\":[{\"id\":\"1267\"},{\"id\":\"1272\"},{\"id\":\"1277\"},{\"id\":\"1282\"},{\"id\":\"1287\"},{\"id\":\"1292\"},{\"id\":\"1297\"},{\"id\":\"1302\"}],\"editable\":true,\"height\":300,\"index_position\":null,\"margin\":[5,10,5,10],\"name\":\"call_data\",\"sizing_mode\":\"fixed\",\"source\":{\"id\":\"1263\"},\"view\":{\"id\":\"1306\"},\"width\":300},\"id\":\"1305\",\"type\":\"DataTable\"},{\"attributes\":{},\"id\":\"1463\",\"type\":\"IntEditor\"},{\"attributes\":{\"child\":{\"id\":\"1674\"},\"name\":\"web_data\",\"title\":\"web_data\"},\"id\":\"1677\",\"type\":\"Panel\"},{\"attributes\":{},\"id\":\"1264\",\"type\":\"NumberFormatter\"},{\"attributes\":{},\"id\":\"1280\",\"type\":\"NumberFormatter\"},{\"attributes\":{\"editor\":{\"id\":\"1423\"},\"field\":\"choice_air_flag\",\"formatter\":{\"id\":\"1422\"},\"title\":\"choice_air_flag\"},\"id\":\"1424\",\"type\":\"TableColumn\"},{\"attributes\":{},\"id\":\"1326\",\"type\":\"NumberFormatter\"},{\"attributes\":{},\"id\":\"1418\",\"type\":\"IntEditor\"},{\"attributes\":{},\"id\":\"1417\",\"type\":\"NumberFormatter\"},{\"attributes\":{},\"id\":\"1286\",\"type\":\"IntEditor\"},{\"attributes\":{},\"id\":\"1681\",\"type\":\"UnionRenderers\"},{\"attributes\":{},\"id\":\"1331\",\"type\":\"NumberFormatter\"},{\"attributes\":{},\"id\":\"1291\",\"type\":\"IntEditor\"},{\"attributes\":{},\"id\":\"1683\",\"type\":\"UnionRenderers\"},{\"attributes\":{\"editor\":{\"id\":\"1322\"},\"field\":\"consumer_first_name\",\"formatter\":{\"id\":\"1321\"},\"title\":\"consumer_first_name\"},\"id\":\"1323\",\"type\":\"TableColumn\"},{\"attributes\":{\"data\":{\"call_date\":[0],\"cel_class_code\":[0],\"country_code\":[21],\"customer_id\":[0],\"dialednumber\":[0],\"index\":[0],\"originatingnumber\":[0],\"unq_add\":[0]},\"selected\":{\"id\":\"1307\"},\"selection_policy\":{\"id\":\"1679\"}},\"id\":\"1263\",\"type\":\"ColumnDataSource\"},{\"attributes\":{\"editor\":{\"id\":\"1281\"},\"field\":\"call_date\",\"formatter\":{\"id\":\"1280\"},\"title\":\"call_date\"},\"id\":\"1282\",\"type\":\"TableColumn\"},{\"attributes\":{},\"id\":\"1685\",\"type\":\"UnionRenderers\"},{\"attributes\":{},\"id\":\"1687\",\"type\":\"UnionRenderers\"},{\"attributes\":{},\"id\":\"1285\",\"type\":\"NumberFormatter\"},{\"attributes\":{},\"id\":\"1503\",\"type\":\"NumberFormatter\"},{\"attributes\":{},\"id\":\"1290\",\"type\":\"NumberFormatter\"},{\"attributes\":{},\"id\":\"1341\",\"type\":\"NumberFormatter\"},{\"attributes\":{\"editor\":{\"id\":\"1357\"},\"field\":\"actvty_date\",\"formatter\":{\"id\":\"1356\"},\"title\":\"actvty_date\"},\"id\":\"1358\",\"type\":\"TableColumn\"},{\"attributes\":{},\"id\":\"1361\",\"type\":\"NumberFormatter\"},{\"attributes\":{},\"id\":\"1467\",\"type\":\"NumberFormatter\"},{\"attributes\":{},\"id\":\"1474\",\"type\":\"Selection\"},{\"attributes\":{\"editor\":{\"id\":\"1367\"},\"field\":\"actvty_prod\",\"formatter\":{\"id\":\"1366\"},\"title\":\"actvty_prod\"},\"id\":\"1368\",\"type\":\"TableColumn\"},{\"attributes\":{},\"id\":\"1468\",\"type\":\"IntEditor\"},{\"attributes\":{},\"id\":\"1362\",\"type\":\"IntEditor\"},{\"attributes\":{\"source\":{\"id\":\"1380\"}},\"id\":\"1473\",\"type\":\"CDSView\"},{\"attributes\":{\"editor\":{\"id\":\"1362\"},\"field\":\"actvty_type\",\"formatter\":{\"id\":\"1361\"},\"title\":\"actvty_type\"},\"id\":\"1363\",\"type\":\"TableColumn\"},{\"attributes\":{},\"id\":\"1367\",\"type\":\"IntEditor\"},{\"attributes\":{},\"id\":\"1366\",\"type\":\"NumberFormatter\"},{\"attributes\":{\"editor\":{\"id\":\"1468\"},\"field\":\"customer_id\",\"formatter\":{\"id\":\"1467\"},\"title\":\"customer_id\"},\"id\":\"1469\",\"type\":\"TableColumn\"},{\"attributes\":{\"editor\":{\"id\":\"1589\"},\"field\":\"sea_cruise_intention\",\"formatter\":{\"id\":\"1588\"},\"title\":\"sea_cruise_intention\"},\"id\":\"1590\",\"type\":\"TableColumn\"},{\"attributes\":{},\"id\":\"1270\",\"type\":\"NumberFormatter\"},{\"attributes\":{\"editor\":{\"id\":\"1443\"},\"field\":\"dma\",\"formatter\":{\"id\":\"1442\"},\"title\":\"dma\"},\"id\":\"1444\",\"type\":\"TableColumn\"},{\"attributes\":{},\"id\":\"1447\",\"type\":\"NumberFormatter\"},{\"attributes\":{},\"id\":\"1442\",\"type\":\"NumberFormatter\"},{\"attributes\":{\"editor\":{\"id\":\"1352\"},\"field\":\"cel_class_code\",\"formatter\":{\"id\":\"1351\"},\"title\":\"cel_class_code\"},\"id\":\"1353\",\"type\":\"TableColumn\"},{\"attributes\":{\"editor\":{\"id\":\"1342\"},\"field\":\"country_code\",\"formatter\":{\"id\":\"1341\"},\"title\":\"country_code\"},\"id\":\"1343\",\"type\":\"TableColumn\"},{\"attributes\":{},\"id\":\"1352\",\"type\":\"IntEditor\"},{\"attributes\":{},\"id\":\"1351\",\"type\":\"NumberFormatter\"},{\"attributes\":{},\"id\":\"1356\",\"type\":\"NumberFormatter\"},{\"attributes\":{},\"id\":\"1357\",\"type\":\"IntEditor\"},{\"attributes\":{},\"id\":\"1443\",\"type\":\"IntEditor\"},{\"attributes\":{},\"id\":\"1266\",\"type\":\"CellEditor\"},{\"attributes\":{},\"id\":\"1346\",\"type\":\"NumberFormatter\"},{\"attributes\":{},\"id\":\"1347\",\"type\":\"IntEditor\"},{\"attributes\":{\"editor\":{\"id\":\"1347\"},\"field\":\"state_code\",\"formatter\":{\"id\":\"1346\"},\"title\":\"state_code\"},\"id\":\"1348\",\"type\":\"TableColumn\"},{\"attributes\":{},\"id\":\"1271\",\"type\":\"IntEditor\"},{\"attributes\":{\"editor\":{\"id\":\"1539\"},\"field\":\"max_event_date\",\"formatter\":{\"id\":\"1538\"},\"title\":\"max_event_date\"},\"id\":\"1540\",\"type\":\"TableColumn\"},{\"attributes\":{},\"id\":\"1534\",\"type\":\"IntEditor\"},{\"attributes\":{},\"id\":\"1437\",\"type\":\"NumberFormatter\"},{\"attributes\":{},\"id\":\"1593\",\"type\":\"NumberFormatter\"},{\"attributes\":{},\"id\":\"1276\",\"type\":\"IntEditor\"},{\"attributes\":{},\"id\":\"1433\",\"type\":\"IntEditor\"},{\"attributes\":{},\"id\":\"1543\",\"type\":\"NumberFormatter\"},{\"attributes\":{},\"id\":\"1594\",\"type\":\"IntEditor\"},{\"attributes\":{\"editor\":{\"id\":\"1509\"},\"field\":\"et_active_flag\",\"formatter\":{\"id\":\"1508\"},\"title\":\"et_active_flag\"},\"id\":\"1510\",\"type\":\"TableColumn\"},{\"attributes\":{\"editor\":{\"id\":\"1594\"},\"field\":\"town_cruise_intention\",\"formatter\":{\"id\":\"1593\"},\"title\":\"town_cruise_intention\"},\"id\":\"1595\",\"type\":\"TableColumn\"},{\"attributes\":{},\"id\":\"1393\",\"type\":\"IntEditor\"},{\"attributes\":{},\"id\":\"1483\",\"type\":\"NumberFormatter\"},{\"attributes\":{},\"id\":\"1544\",\"type\":\"IntEditor\"},{\"attributes\":{\"editor\":{\"id\":\"1544\"},\"field\":\"cel_dma_desc\",\"formatter\":{\"id\":\"1543\"},\"title\":\"cel_dma_desc\"},\"id\":\"1545\",\"type\":\"TableColumn\"},{\"attributes\":{},\"id\":\"1398\",\"type\":\"IntEditor\"},{\"attributes\":{},\"id\":\"1509\",\"type\":\"IntEditor\"},{\"attributes\":{},\"id\":\"1422\",\"type\":\"NumberFormatter\"},{\"attributes\":{},\"id\":\"1598\",\"type\":\"NumberFormatter\"},{\"attributes\":{\"child\":{\"id\":\"1472\"},\"name\":\"booking_data\",\"title\":\"booking_data\"},\"id\":\"1475\",\"type\":\"Panel\"},{\"attributes\":{\"editor\":{\"id\":\"1398\"},\"field\":\"sailing_date\",\"formatter\":{\"id\":\"1397\"},\"title\":\"sailing_date\"},\"id\":\"1399\",\"type\":\"TableColumn\"},{\"attributes\":{},\"id\":\"1533\",\"type\":\"NumberFormatter\"},{\"attributes\":{\"editor\":{\"id\":\"1479\"},\"field\":\"index\",\"formatter\":{\"id\":\"1477\"},\"title\":\"index\"},\"id\":\"1480\",\"type\":\"TableColumn\"},{\"attributes\":{},\"id\":\"1452\",\"type\":\"NumberFormatter\"},{\"attributes\":{},\"id\":\"1548\",\"type\":\"NumberFormatter\"},{\"attributes\":{},\"id\":\"1599\",\"type\":\"IntEditor\"},{\"attributes\":{},\"id\":\"1310\",\"type\":\"NumberFormatter\"},{\"attributes\":{\"columns\":[{\"id\":\"1480\"},{\"id\":\"1485\"},{\"id\":\"1490\"},{\"id\":\"1495\"},{\"id\":\"1500\"},{\"id\":\"1505\"},{\"id\":\"1510\"},{\"id\":\"1515\"},{\"id\":\"1520\"},{\"id\":\"1525\"},{\"id\":\"1530\"},{\"id\":\"1535\"},{\"id\":\"1540\"},{\"id\":\"1545\"},{\"id\":\"1550\"},{\"id\":\"1555\"},{\"id\":\"1560\"},{\"id\":\"1565\"},{\"id\":\"1570\"},{\"id\":\"1575\"},{\"id\":\"1580\"},{\"id\":\"1585\"},{\"id\":\"1590\"},{\"id\":\"1595\"},{\"id\":\"1600\"},{\"id\":\"1605\"},{\"id\":\"1610\"},{\"id\":\"1615\"}],\"editable\":true,\"height\":300,\"index_position\":null,\"margin\":[5,10,5,10],\"name\":\"consumer_data\",\"sizing_mode\":\"fixed\",\"source\":{\"id\":\"1476\"},\"view\":{\"id\":\"1619\"},\"width\":300},\"id\":\"1618\",\"type\":\"DataTable\"},{\"attributes\":{\"editor\":{\"id\":\"1529\"},\"field\":\"click_pct\",\"formatter\":{\"id\":\"1528\"},\"title\":\"click_pct\"},\"id\":\"1530\",\"type\":\"TableColumn\"},{\"attributes\":{\"editor\":{\"id\":\"1599\"},\"field\":\"gender_code\",\"formatter\":{\"id\":\"1598\"},\"title\":\"gender_code\"},\"id\":\"1600\",\"type\":\"TableColumn\"},{\"attributes\":{},\"id\":\"1371\",\"type\":\"NumberFormatter\"},{\"attributes\":{},\"id\":\"1453\",\"type\":\"IntEditor\"},{\"attributes\":{},\"id\":\"1549\",\"type\":\"IntEditor\"},{\"attributes\":{\"editor\":{\"id\":\"1418\"},\"field\":\"booking_channel\",\"formatter\":{\"id\":\"1417\"},\"title\":\"booking_channel\"},\"id\":\"1419\",\"type\":\"TableColumn\"},{\"attributes\":{\"editor\":{\"id\":\"1549\"},\"field\":\"cel_first_cruise_date\",\"formatter\":{\"id\":\"1548\"},\"title\":\"cel_first_cruise_date\"},\"id\":\"1550\",\"type\":\"TableColumn\"},{\"attributes\":{},\"id\":\"1488\",\"type\":\"NumberFormatter\"},{\"attributes\":{},\"id\":\"1529\",\"type\":\"IntEditor\"},{\"attributes\":{},\"id\":\"1603\",\"type\":\"NumberFormatter\"},{\"attributes\":{\"editor\":{\"id\":\"1438\"},\"field\":\"gender_code\",\"formatter\":{\"id\":\"1437\"},\"title\":\"gender_code\"},\"id\":\"1439\",\"type\":\"TableColumn\"},{\"attributes\":{\"editor\":{\"id\":\"1504\"},\"field\":\"high_value_zip_desc\",\"formatter\":{\"id\":\"1503\"},\"title\":\"high_value_zip_desc\"},\"id\":\"1505\",\"type\":\"TableColumn\"},{\"attributes\":{},\"id\":\"1528\",\"type\":\"NumberFormatter\"},{\"attributes\":{},\"id\":\"1553\",\"type\":\"NumberFormatter\"},{\"attributes\":{},\"id\":\"1604\",\"type\":\"IntEditor\"},{\"attributes\":{\"editor\":{\"id\":\"1604\"},\"field\":\"state_code\",\"formatter\":{\"id\":\"1603\"},\"title\":\"state_code\"},\"id\":\"1605\",\"type\":\"TableColumn\"},{\"attributes\":{},\"id\":\"1554\",\"type\":\"IntEditor\"},{\"attributes\":{\"editor\":{\"id\":\"1524\"},\"field\":\"click_to_open\",\"formatter\":{\"id\":\"1523\"},\"title\":\"click_to_open\"},\"id\":\"1525\",\"type\":\"TableColumn\"},{\"attributes\":{},\"id\":\"1275\",\"type\":\"NumberFormatter\"},{\"attributes\":{\"editor\":{\"id\":\"1484\"},\"field\":\"age\",\"formatter\":{\"id\":\"1483\"},\"title\":\"age\"},\"id\":\"1485\",\"type\":\"TableColumn\"},{\"attributes\":{\"editor\":{\"id\":\"1554\"},\"field\":\"cc_current_loyalty_tier_code\",\"formatter\":{\"id\":\"1553\"},\"title\":\"cc_current_loyalty_tier_code\"},\"id\":\"1555\",\"type\":\"TableColumn\"},{\"attributes\":{},\"id\":\"1524\",\"type\":\"IntEditor\"},{\"attributes\":{},\"id\":\"1608\",\"type\":\"NumberFormatter\"},{\"attributes\":{\"editor\":{\"id\":\"1271\"},\"field\":\"originatingnumber\",\"formatter\":{\"id\":\"1270\"},\"title\":\"originatingnumber\"},\"id\":\"1272\",\"type\":\"TableColumn\"},{\"attributes\":{},\"id\":\"1523\",\"type\":\"NumberFormatter\"},{\"attributes\":{},\"id\":\"1558\",\"type\":\"NumberFormatter\"},{\"attributes\":{},\"id\":\"1609\",\"type\":\"IntEditor\"},{\"attributes\":{\"editor\":{\"id\":\"1609\"},\"field\":\"rci_qualify_cruise_qty\",\"formatter\":{\"id\":\"1608\"},\"title\":\"rci_qualify_cruise_qty\"},\"id\":\"1610\",\"type\":\"TableColumn\"},{\"attributes\":{},\"id\":\"1559\",\"type\":\"IntEditor\"},{\"attributes\":{\"editor\":{\"id\":\"1453\"},\"field\":\"tier_at_sail\",\"formatter\":{\"id\":\"1452\"},\"title\":\"tier_at_sail\"},\"id\":\"1454\",\"type\":\"TableColumn\"},{\"attributes\":{\"editor\":{\"id\":\"1519\"},\"field\":\"last_cruise_months_ago\",\"formatter\":{\"id\":\"1518\"},\"title\":\"last_cruise_months_ago\"},\"id\":\"1520\",\"type\":\"TableColumn\"},{\"attributes\":{\"editor\":{\"id\":\"1559\"},\"field\":\"booked_flag\",\"formatter\":{\"id\":\"1558\"},\"title\":\"booked_flag\"},\"id\":\"1560\",\"type\":\"TableColumn\"},{\"attributes\":{},\"id\":\"1519\",\"type\":\"IntEditor\"},{\"attributes\":{},\"id\":\"1613\",\"type\":\"NumberFormatter\"},{\"attributes\":{},\"id\":\"1563\",\"type\":\"NumberFormatter\"},{\"attributes\":{},\"id\":\"1614\",\"type\":\"IntEditor\"},{\"attributes\":{},\"id\":\"1518\",\"type\":\"NumberFormatter\"},{\"attributes\":{\"editor\":{\"id\":\"1614\"},\"field\":\"customer_id\",\"formatter\":{\"id\":\"1613\"},\"title\":\"customer_id\"},\"id\":\"1615\",\"type\":\"TableColumn\"},{\"attributes\":{},\"id\":\"1564\",\"type\":\"IntEditor\"},{\"attributes\":{\"editor\":{\"id\":\"1514\"},\"field\":\"jm_hml_segment_code\",\"formatter\":{\"id\":\"1513\"},\"title\":\"jm_hml_segment_code\"},\"id\":\"1515\",\"type\":\"TableColumn\"},{\"attributes\":{\"editor\":{\"id\":\"1564\"},\"field\":\"beach_relax_cruise_intention\",\"formatter\":{\"id\":\"1563\"},\"title\":\"beach_relax_cruise_intention\"},\"id\":\"1565\",\"type\":\"TableColumn\"},{\"attributes\":{},\"id\":\"1514\",\"type\":\"IntEditor\"},{\"attributes\":{\"source\":{\"id\":\"1476\"}},\"id\":\"1619\",\"type\":\"CDSView\"},{\"attributes\":{},\"id\":\"1620\",\"type\":\"Selection\"},{\"attributes\":{},\"id\":\"1508\",\"type\":\"NumberFormatter\"},{\"attributes\":{},\"id\":\"1568\",\"type\":\"NumberFormatter\"},{\"attributes\":{},\"id\":\"1412\",\"type\":\"NumberFormatter\"},{\"attributes\":{\"child\":{\"id\":\"1618\"},\"name\":\"consumer_data\",\"title\":\"consumer_data\"},\"id\":\"1621\",\"type\":\"Panel\"},{\"attributes\":{},\"id\":\"1513\",\"type\":\"NumberFormatter\"},{\"attributes\":{},\"id\":\"1569\",\"type\":\"IntEditor\"},{\"attributes\":{},\"id\":\"1342\",\"type\":\"IntEditor\"},{\"attributes\":{\"editor\":{\"id\":\"1569\"},\"field\":\"luxury_relax_cruise_intention\",\"formatter\":{\"id\":\"1568\"},\"title\":\"luxury_relax_cruise_intention\"},\"id\":\"1570\",\"type\":\"TableColumn\"},{\"attributes\":{\"data\":{\"customer_id\":[0],\"device_type_name\":[0],\"geo_seg_country_name\":[0],\"index\":[0],\"page_view_count\":[0],\"sec_time_spent_on_nbr\":[0],\"visit_date\":[0],\"visit_mo\":[0],\"visit_type\":[0],\"visit_yr\":[0]},\"selected\":{\"id\":\"1676\"},\"selection_policy\":{\"id\":\"1687\"}},\"id\":\"1622\",\"type\":\"ColumnDataSource\"},{\"attributes\":{},\"id\":\"1448\",\"type\":\"IntEditor\"},{\"attributes\":{},\"id\":\"1629\",\"type\":\"NumberFormatter\"},{\"attributes\":{\"columns\":[{\"id\":\"1626\"},{\"id\":\"1631\"},{\"id\":\"1636\"},{\"id\":\"1641\"},{\"id\":\"1646\"},{\"id\":\"1651\"},{\"id\":\"1656\"},{\"id\":\"1661\"},{\"id\":\"1666\"},{\"id\":\"1671\"}],\"editable\":true,\"height\":300,\"index_position\":null,\"margin\":[5,10,5,10],\"name\":\"web_data\",\"sizing_mode\":\"fixed\",\"source\":{\"id\":\"1622\"},\"view\":{\"id\":\"1675\"},\"width\":300},\"id\":\"1674\",\"type\":\"DataTable\"},{\"attributes\":{},\"id\":\"1413\",\"type\":\"IntEditor\"},{\"attributes\":{},\"id\":\"1573\",\"type\":\"NumberFormatter\"},{\"attributes\":{},\"id\":\"1574\",\"type\":\"IntEditor\"},{\"attributes\":{},\"id\":\"1630\",\"type\":\"IntEditor\"},{\"attributes\":{\"editor\":{\"id\":\"1403\"},\"field\":\"curr_number_sail_nights\",\"formatter\":{\"id\":\"1402\"},\"title\":\"curr_number_sail_nights\"},\"id\":\"1404\",\"type\":\"TableColumn\"},{\"attributes\":{\"editor\":{\"id\":\"1574\"},\"field\":\"natural_wonders_cruise_intenti\",\"formatter\":{\"id\":\"1573\"},\"title\":\"natural_wonders_cruise_intenti\"},\"id\":\"1575\",\"type\":\"TableColumn\"},{\"attributes\":{},\"id\":\"1403\",\"type\":\"IntEditor\"},{\"attributes\":{},\"id\":\"1407\",\"type\":\"NumberFormatter\"},{\"attributes\":{\"editor\":{\"id\":\"1433\"},\"field\":\"age\",\"formatter\":{\"id\":\"1432\"},\"title\":\"age\"},\"id\":\"1434\",\"type\":\"TableColumn\"},{\"attributes\":{\"columns\":[{\"id\":\"1313\"},{\"id\":\"1318\"},{\"id\":\"1323\"},{\"id\":\"1328\"},{\"id\":\"1333\"},{\"id\":\"1338\"},{\"id\":\"1343\"},{\"id\":\"1348\"},{\"id\":\"1353\"},{\"id\":\"1358\"},{\"id\":\"1363\"},{\"id\":\"1368\"},{\"id\":\"1373\"}],\"editable\":true,\"height\":300,\"index_position\":null,\"margin\":[5,10,5,10],\"name\":\"last_activity_data\",\"sizing_mode\":\"fixed\",\"source\":{\"id\":\"1309\"},\"view\":{\"id\":\"1377\"},\"width\":300},\"id\":\"1376\",\"type\":\"DataTable\"},{\"attributes\":{},\"id\":\"1397\",\"type\":\"NumberFormatter\"},{\"attributes\":{},\"id\":\"1408\",\"type\":\"IntEditor\"},{\"attributes\":{},\"id\":\"1578\",\"type\":\"NumberFormatter\"},{\"attributes\":{},\"id\":\"1625\",\"type\":\"CellEditor\"},{\"attributes\":{\"editor\":{\"id\":\"1408\"},\"field\":\"meta_product_code\",\"formatter\":{\"id\":\"1407\"},\"title\":\"meta_product_code\"},\"id\":\"1409\",\"type\":\"TableColumn\"},{\"attributes\":{\"editor\":{\"id\":\"1448\"},\"field\":\"country_code\",\"formatter\":{\"id\":\"1447\"},\"title\":\"country_code\"},\"id\":\"1449\",\"type\":\"TableColumn\"},{\"attributes\":{},\"id\":\"1579\",\"type\":\"IntEditor\"},{\"attributes\":{\"editor\":{\"id\":\"1579\"},\"field\":\"new_metro_cruise_intention\",\"formatter\":{\"id\":\"1578\"},\"title\":\"new_metro_cruise_intention\"},\"id\":\"1580\",\"type\":\"TableColumn\"},{\"attributes\":{},\"id\":\"1479\",\"type\":\"CellEditor\"},{\"attributes\":{\"editor\":{\"id\":\"1625\"},\"field\":\"index\",\"formatter\":{\"id\":\"1623\"},\"title\":\"index\"},\"id\":\"1626\",\"type\":\"TableColumn\"},{\"attributes\":{},\"id\":\"1484\",\"type\":\"IntEditor\"},{\"attributes\":{},\"id\":\"1539\",\"type\":\"IntEditor\"},{\"attributes\":{},\"id\":\"1583\",\"type\":\"NumberFormatter\"},{\"attributes\":{\"editor\":{\"id\":\"1413\"},\"field\":\"cabin_class_sailed\",\"formatter\":{\"id\":\"1412\"},\"title\":\"cabin_class_sailed\"},\"id\":\"1414\",\"type\":\"TableColumn\"},{\"attributes\":{\"data\":{\"age\":[0],\"aza_class_code\":[0],\"beach_relax_cruise_intention\":[13854],\"booked_flag\":[69702],\"cc_current_loyalty_tier_code\":[4477],\"cel_class_code\":[0],\"cel_dma_desc\":[14547],\"cel_first_cruise_date\":[30],\"click_pct\":[42811],\"click_to_open\":[43164],\"customer_id\":[0],\"et_active_flag\":[345],\"gender_code\":[0],\"high_value_zip_desc\":[66627],\"index\":[0],\"jm_hml_segment_code\":[1573],\"last_cruise_months_ago\":[30],\"luxury_relax_cruise_intention\":[84717],\"max_event_date\":[561],\"natural_wonders_cruise_intenti\":[34688],\"new_metro_cruise_intention\":[19162],\"old_metro_cruise_intention\":[49123],\"open_pct\":[35701],\"rci_class_code\":[0],\"rci_qualify_cruise_qty\":[0],\"sea_cruise_intention\":[4411],\"state_code\":[14315],\"town_cruise_intention\":[88475]},\"selected\":{\"id\":\"1620\"},\"selection_policy\":{\"id\":\"1685\"}},\"id\":\"1476\",\"type\":\"ColumnDataSource\"},{\"attributes\":{},\"id\":\"1584\",\"type\":\"IntEditor\"},{\"attributes\":{},\"id\":\"1438\",\"type\":\"IntEditor\"},{\"attributes\":{},\"id\":\"1504\",\"type\":\"IntEditor\"},{\"attributes\":{},\"id\":\"1623\",\"type\":\"NumberFormatter\"},{\"attributes\":{\"editor\":{\"id\":\"1534\"},\"field\":\"open_pct\",\"formatter\":{\"id\":\"1533\"},\"title\":\"open_pct\"},\"id\":\"1535\",\"type\":\"TableColumn\"},{\"attributes\":{\"editor\":{\"id\":\"1584\"},\"field\":\"old_metro_cruise_intention\",\"formatter\":{\"id\":\"1583\"},\"title\":\"old_metro_cruise_intention\"},\"id\":\"1585\",\"type\":\"TableColumn\"},{\"attributes\":{},\"id\":\"1477\",\"type\":\"NumberFormatter\"},{\"attributes\":{\"editor\":{\"id\":\"1630\"},\"field\":\"visit_date\",\"formatter\":{\"id\":\"1629\"},\"title\":\"visit_date\"},\"id\":\"1631\",\"type\":\"TableColumn\"},{\"attributes\":{\"editor\":{\"id\":\"1372\"},\"field\":\"customer_id\",\"formatter\":{\"id\":\"1371\"},\"title\":\"customer_id\"},\"id\":\"1373\",\"type\":\"TableColumn\"},{\"attributes\":{},\"id\":\"1588\",\"type\":\"NumberFormatter\"},{\"attributes\":{},\"id\":\"1372\",\"type\":\"IntEditor\"},{\"attributes\":{},\"id\":\"1538\",\"type\":\"NumberFormatter\"},{\"attributes\":{},\"id\":\"1589\",\"type\":\"IntEditor\"},{\"attributes\":{},\"id\":\"1634\",\"type\":\"NumberFormatter\"},{\"attributes\":{\"editor\":{\"id\":\"1393\"},\"field\":\"booking_status_bk_level\",\"formatter\":{\"id\":\"1392\"},\"title\":\"booking_status_bk_level\"},\"id\":\"1394\",\"type\":\"TableColumn\"},{\"attributes\":{},\"id\":\"1635\",\"type\":\"IntEditor\"},{\"attributes\":{},\"id\":\"1402\",\"type\":\"NumberFormatter\"}],\"root_ids\":[\"1262\",\"1708\"]},\"title\":\"Bokeh Application\",\"version\":\"2.2.3\"}};\n",
       "    var render_items = [{\"docid\":\"224e3949-19eb-4891-bdf8-6652a7b163be\",\"root_ids\":[\"1262\"],\"roots\":{\"1262\":\"7e1a8cd8-ebd8-4a7b-842e-ef4660a7cd2f\"}}];\n",
       "    root.Bokeh.embed.embed_items_notebook(docs_json, render_items);\n",
       "  }\n",
       "  if (root.Bokeh !== undefined && root.Bokeh.Panel !== undefined) {\n",
       "    embed_document(root);\n",
       "  } else {\n",
       "    var attempts = 0;\n",
       "    var timer = setInterval(function(root) {\n",
       "      if (root.Bokeh !== undefined && root.Bokeh.Panel !== undefined) {\n",
       "        clearInterval(timer);\n",
       "        embed_document(root);\n",
       "      } else if (document.readyState == \"complete\") {\n",
       "        attempts++;\n",
       "        if (attempts > 100) {\n",
       "          clearInterval(timer);\n",
       "          console.log(\"Bokeh: ERROR: Unable to run BokehJS code because BokehJS library is missing\");\n",
       "        }\n",
       "      }\n",
       "    }, 10, root)\n",
       "  }\n",
       "})(window);</script>"
      ],
      "text/plain": [
       "Tabs\n",
       "    [0] DataFrame(height=300, name='call_data', sizing_mode='fixed', value=   originatingnumber  ..., width=300)\n",
       "    [1] DataFrame(height=300, name='last_activity_data', sizing_mode='fixed', value=   load_date  ..., width=300)\n",
       "    [2] DataFrame(height=300, name='booking_data', sizing_mode='fixed', value=   booking_create_date  ..., width=300)\n",
       "    [3] DataFrame(height=300, name='consumer_data', sizing_mode='fixed', value=   age  cel_class_code  ..., width=300)\n",
       "    [4] DataFrame(height=300, name='web_data', sizing_mode='fixed', value=   visit_date  ..., width=300)"
      ]
     },
     "execution_count": 19,
     "metadata": {
      "application/vnd.holoviews_exec.v0+json": {
       "id": "1262"
      }
     },
     "output_type": "execute_result"
    }
   ],
   "source": [
    "%%time\n",
    "utils.display_as_tabs([(k, dp.identify_missing_values(v).toPandas()) for k,v in data.items()])"
   ]
  },
  {
   "cell_type": "markdown",
   "metadata": {},
   "source": [
    "## Health Analysis of the data\n",
    "\n",
    "This step generates a set of data analyses that could be useful to showcase to clients.\n",
    "\n",
    "1. % of numerical columns in the data\n",
    "\n",
    "2. % of missing values in the data\n",
    "\n",
    "2. % of duplicated data points"
   ]
  },
  {
   "cell_type": "code",
   "execution_count": 20,
   "metadata": {},
   "outputs": [
    {
     "name": "stdout",
     "output_type": "stream",
     "text": [
      "Wall time: 57.9 s\n"
     ]
    },
    {
     "data": {},
     "metadata": {},
     "output_type": "display_data"
    },
    {
     "data": {},
     "metadata": {},
     "output_type": "display_data"
    },
    {
     "data": {
      "application/vnd.holoviews_exec.v0+json": "",
      "text/html": [
       "<div id='1759'>\n",
       "\n",
       "\n",
       "\n",
       "\n",
       "\n",
       "  <div class=\"bk-root\" id=\"b38e5d92-6284-4d6c-8e05-2d9055246c3e\" data-root-id=\"1759\"></div>\n",
       "</div>\n",
       "<script type=\"application/javascript\">(function(root) {\n",
       "  function embed_document(root) {\n",
       "    var docs_json = {\"bb7bdc41-ba10-4f23-a33f-a4bff7e831d5\":{\"roots\":{\"references\":[{\"attributes\":{\"overlay\":{\"id\":\"1841\"}},\"id\":\"1839\",\"type\":\"BoxZoomTool\"},{\"attributes\":{},\"id\":\"3341\",\"type\":\"WheelZoomTool\"},{\"attributes\":{\"text\":\"duplicate_values\",\"text_color\":{\"value\":\"black\"},\"text_font_size\":{\"value\":\"12pt\"}},\"id\":\"1878\",\"type\":\"Title\"},{\"attributes\":{},\"id\":\"3340\",\"type\":\"PanTool\"},{\"attributes\":{},\"id\":\"1838\",\"type\":\"WheelZoomTool\"},{\"attributes\":{},\"id\":\"2617\",\"type\":\"PanTool\"},{\"attributes\":{},\"id\":\"1794\",\"type\":\"Selection\"},{\"attributes\":{\"overlay\":{\"id\":\"2231\"}},\"id\":\"2229\",\"type\":\"BoxZoomTool\"},{\"attributes\":{},\"id\":\"2227\",\"type\":\"PanTool\"},{\"attributes\":{\"children\":[[{\"id\":\"2543\"},0,0],[{\"id\":\"2600\"},1,0],[{\"id\":\"2657\"},2,0]]},\"id\":\"2736\",\"type\":\"GridBox\"},{\"attributes\":{\"axis\":{\"id\":\"1833\"},\"dimension\":1,\"grid_line_color\":null,\"ticker\":null},\"id\":\"1835\",\"type\":\"Grid\"},{\"attributes\":{},\"id\":\"1897\",\"type\":\"ResetTool\"},{\"attributes\":{\"axis_label\":\"\",\"bounds\":\"auto\",\"formatter\":{\"id\":\"2252\"},\"major_label_orientation\":\"horizontal\",\"ticker\":{\"id\":\"2224\"}},\"id\":\"2223\",\"type\":\"CategoricalAxis\"},{\"attributes\":{\"fill_color\":{\"field\":\"Variable\",\"transform\":{\"id\":\"2962\"}},\"height\":{\"value\":0.8},\"left\":{\"field\":\"bottom\"},\"right\":{\"field\":\"top\"},\"y\":{\"field\":\"index\"}},\"id\":\"2966\",\"type\":\"HBar\"},{\"attributes\":{\"factors\":[\"Unique\",\"Duplicated\"],\"palette\":[\"#1f77b3\",\"#ff7e0e\"]},\"id\":\"3466\",\"type\":\"CategoricalColorMapper\"},{\"attributes\":{},\"id\":\"2226\",\"type\":\"SaveTool\"},{\"attributes\":{},\"id\":\"1837\",\"type\":\"PanTool\"},{\"attributes\":{\"items\":[{\"id\":\"2647\"}],\"location\":[0,0]},\"id\":\"2646\",\"type\":\"Legend\"},{\"attributes\":{\"active_drag\":\"auto\",\"active_inspect\":\"auto\",\"active_multi\":null,\"active_scroll\":\"auto\",\"active_tap\":\"auto\",\"tools\":[{\"id\":\"3436\"},{\"id\":\"3453\"},{\"id\":\"3454\"},{\"id\":\"3455\"},{\"id\":\"3456\"},{\"id\":\"3457\"}]},\"id\":\"3459\",\"type\":\"Toolbar\"},{\"attributes\":{\"label\":{\"field\":\"Variable\"},\"renderers\":[{\"id\":\"2636\"}]},\"id\":\"2647\",\"type\":\"LegendItem\"},{\"attributes\":{},\"id\":\"1836\",\"type\":\"SaveTool\"},{\"attributes\":{},\"id\":\"1834\",\"type\":\"CategoricalTicker\"},{\"attributes\":{\"active_drag\":\"auto\",\"active_inspect\":\"auto\",\"active_multi\":null,\"active_scroll\":\"auto\",\"active_tap\":\"auto\",\"tools\":[{\"id\":\"2209\"},{\"id\":\"2226\"},{\"id\":\"2227\"},{\"id\":\"2228\"},{\"id\":\"2229\"},{\"id\":\"2230\"}]},\"id\":\"2232\",\"type\":\"Toolbar\"},{\"attributes\":{\"fill_color\":{\"field\":\"Variable\",\"transform\":{\"id\":\"1792\"}},\"height\":{\"value\":0.8},\"left\":{\"field\":\"bottom\"},\"right\":{\"field\":\"top\"},\"y\":{\"field\":\"index\"}},\"id\":\"1796\",\"type\":\"HBar\"},{\"attributes\":{\"bottom_units\":\"screen\",\"fill_alpha\":0.5,\"fill_color\":\"lightgrey\",\"left_units\":\"screen\",\"level\":\"overlay\",\"line_alpha\":1.0,\"line_color\":\"black\",\"line_dash\":[4,4],\"line_width\":2,\"right_units\":\"screen\",\"top_units\":\"screen\"},\"id\":\"3458\",\"type\":\"BoxAnnotation\"},{\"attributes\":{},\"id\":\"3078\",\"type\":\"Selection\"},{\"attributes\":{\"overlay\":{\"id\":\"3458\"}},\"id\":\"3456\",\"type\":\"BoxZoomTool\"},{\"attributes\":{\"bottom_units\":\"screen\",\"fill_alpha\":0.5,\"fill_color\":\"lightgrey\",\"left_units\":\"screen\",\"level\":\"overlay\",\"line_alpha\":1.0,\"line_color\":\"black\",\"line_dash\":[4,4],\"line_width\":2,\"right_units\":\"screen\",\"top_units\":\"screen\"},\"id\":\"2231\",\"type\":\"BoxAnnotation\"},{\"attributes\":{\"axis\":{\"id\":\"1829\"},\"grid_line_color\":null,\"ticker\":null},\"id\":\"1832\",\"type\":\"Grid\"},{\"attributes\":{\"overlay\":{\"id\":\"1784\"}},\"id\":\"1782\",\"type\":\"BoxZoomTool\"},{\"attributes\":{\"axis_label\":\"\",\"bounds\":\"auto\",\"formatter\":{\"id\":\"1862\"},\"major_label_orientation\":\"horizontal\",\"ticker\":{\"id\":\"1834\"}},\"id\":\"1833\",\"type\":\"CategoricalAxis\"},{\"attributes\":{\"items\":[{\"id\":\"3427\"}],\"location\":[0,0]},\"id\":\"3426\",\"type\":\"Legend\"},{\"attributes\":{\"data\":{\"Variable\":[\"Unique\",\"Duplicated\"],\"bottom\":{\"__ndarray__\":\"AAAAAAAAAADZ8D1ebf3vPw==\",\"dtype\":\"float64\",\"order\":\"little\",\"shape\":[2]},\"index\":[\"values\",\"values\"],\"top\":{\"__ndarray__\":\"2fA9Xm397z8AAAAAAADwPw==\",\"dtype\":\"float64\",\"order\":\"little\",\"shape\":[2]},\"value\":{\"__ndarray__\":\"2fA9Xm397z8wO3kQDpU0Pw==\",\"dtype\":\"float64\",\"order\":\"little\",\"shape\":[2]}},\"selected\":{\"id\":\"2298\"},\"selection_policy\":{\"id\":\"2311\"}},\"id\":\"2297\",\"type\":\"ColumnDataSource\"},{\"attributes\":{\"axis_label\":\"\",\"bounds\":\"auto\",\"formatter\":{\"id\":\"1860\"},\"major_label_orientation\":\"horizontal\",\"ticker\":{\"id\":\"1868\"}},\"id\":\"1829\",\"type\":\"LinearAxis\"},{\"attributes\":{\"text\":\"duplicate_values\",\"text_color\":{\"value\":\"black\"},\"text_font_size\":{\"value\":\"12pt\"}},\"id\":\"3048\",\"type\":\"Title\"},{\"attributes\":{\"fill_alpha\":{\"value\":0.2},\"fill_color\":{\"field\":\"Variable\",\"transform\":{\"id\":\"3076\"}},\"height\":{\"value\":0.8},\"left\":{\"field\":\"bottom\"},\"line_alpha\":{\"value\":0.2},\"right\":{\"field\":\"top\"},\"y\":{\"field\":\"index\"}},\"id\":\"3082\",\"type\":\"HBar\"},{\"attributes\":{\"fill_color\":{\"field\":\"Variable\",\"transform\":{\"id\":\"3076\"}},\"height\":{\"value\":0.8},\"left\":{\"field\":\"bottom\"},\"right\":{\"field\":\"top\"},\"y\":{\"field\":\"index\"}},\"id\":\"3080\",\"type\":\"HBar\"},{\"attributes\":{},\"id\":\"2274\",\"type\":\"CategoricalScale\"},{\"attributes\":{\"fill_alpha\":{\"value\":0.1},\"fill_color\":{\"field\":\"Variable\",\"transform\":{\"id\":\"3076\"}},\"height\":{\"value\":0.8},\"left\":{\"field\":\"bottom\"},\"line_alpha\":{\"value\":0.1},\"right\":{\"field\":\"top\"},\"y\":{\"field\":\"index\"}},\"id\":\"3081\",\"type\":\"HBar\"},{\"attributes\":{\"data_source\":{\"id\":\"2963\"},\"glyph\":{\"id\":\"2966\"},\"hover_glyph\":null,\"muted_glyph\":{\"id\":\"2968\"},\"nonselection_glyph\":{\"id\":\"2967\"},\"selection_glyph\":null,\"view\":{\"id\":\"2970\"}},\"id\":\"2969\",\"type\":\"GlyphRenderer\"},{\"attributes\":{},\"id\":\"3455\",\"type\":\"WheelZoomTool\"},{\"attributes\":{},\"id\":\"1827\",\"type\":\"CategoricalScale\"},{\"attributes\":{\"items\":[{\"id\":\"2257\"}],\"location\":[0,0]},\"id\":\"2256\",\"type\":\"Legend\"},{\"attributes\":{\"label\":{\"field\":\"Variable\"},\"renderers\":[{\"id\":\"3416\"}]},\"id\":\"3427\",\"type\":\"LegendItem\"},{\"attributes\":{\"items\":[{\"id\":\"2590\"}],\"location\":[0,0]},\"id\":\"2589\",\"type\":\"Legend\"},{\"attributes\":{\"source\":{\"id\":\"3077\"}},\"id\":\"3084\",\"type\":\"CDSView\"},{\"attributes\":{},\"id\":\"3457\",\"type\":\"ResetTool\"},{\"attributes\":{\"ticks\":[0]},\"id\":\"3095\",\"type\":\"FixedTicker\"},{\"attributes\":{},\"id\":\"3453\",\"type\":\"SaveTool\"},{\"attributes\":{\"data_source\":{\"id\":\"3077\"},\"glyph\":{\"id\":\"3080\"},\"hover_glyph\":null,\"muted_glyph\":{\"id\":\"3082\"},\"nonselection_glyph\":{\"id\":\"3081\"},\"selection_glyph\":null,\"view\":{\"id\":\"3084\"}},\"id\":\"3083\",\"type\":\"GlyphRenderer\"},{\"attributes\":{},\"id\":\"3424\",\"type\":\"UnionRenderers\"},{\"attributes\":{},\"id\":\"3454\",\"type\":\"PanTool\"},{\"attributes\":{\"text\":\"missing\",\"text_color\":{\"value\":\"black\"},\"text_font_size\":{\"value\":\"12pt\"}},\"id\":\"1821\",\"type\":\"Title\"},{\"attributes\":{},\"id\":\"1825\",\"type\":\"LinearScale\"},{\"attributes\":{\"callback\":null,\"renderers\":[{\"id\":\"2189\"}],\"tags\":[\"hv_created\"],\"tooltips\":[[\"index\",\"@{index}\"],[\"Variable\",\"@{Variable}\"],[\"value\",\"@{value}\"]]},\"id\":\"2152\",\"type\":\"HoverTool\"},{\"attributes\":{\"axis\":{\"id\":\"3450\"},\"dimension\":1,\"grid_line_color\":null,\"ticker\":null},\"id\":\"3452\",\"type\":\"Grid\"},{\"attributes\":{\"below\":[{\"id\":\"2276\"}],\"center\":[{\"id\":\"2279\"},{\"id\":\"2282\"},{\"id\":\"2313\"}],\"left\":[{\"id\":\"2280\"}],\"margin\":null,\"min_border_bottom\":10,\"min_border_left\":10,\"min_border_right\":10,\"min_border_top\":10,\"plot_height\":100,\"plot_width\":700,\"renderers\":[{\"id\":\"2303\"}],\"right\":[{\"id\":\"2313\"}],\"sizing_mode\":\"fixed\",\"title\":{\"id\":\"2268\"},\"toolbar\":{\"id\":\"2289\"},\"toolbar_location\":null,\"x_range\":{\"id\":\"1760\"},\"x_scale\":{\"id\":\"2272\"},\"y_range\":{\"id\":\"1761\"},\"y_scale\":{\"id\":\"2274\"}},\"id\":\"2267\",\"subtype\":\"Figure\",\"type\":\"Plot\"},{\"attributes\":{},\"id\":\"2272\",\"type\":\"LinearScale\"},{\"attributes\":{\"source\":{\"id\":\"1793\"}},\"id\":\"1800\",\"type\":\"CDSView\"},{\"attributes\":{\"text\":\"duplicate_values\",\"text_color\":{\"value\":\"black\"},\"text_font_size\":{\"value\":\"12pt\"}},\"id\":\"2268\",\"type\":\"Title\"},{\"attributes\":{\"callback\":null,\"renderers\":[{\"id\":\"3359\"}],\"tags\":[\"hv_created\"],\"tooltips\":[[\"index\",\"@{index}\"],[\"Variable\",\"@{Variable}\"],[\"value\",\"@{value}\"]]},\"id\":\"3322\",\"type\":\"HoverTool\"},{\"attributes\":{\"data\":{\"Variable\":[\"Unique\",\"Duplicated\"],\"bottom\":{\"__ndarray__\":\"AAAAAAAAAAAAAAAAAADwPw==\",\"dtype\":\"float64\",\"order\":\"little\",\"shape\":[2]},\"index\":[\"values\",\"values\"],\"top\":{\"__ndarray__\":\"AAAAAAAA8D8AAAAAAADwPw==\",\"dtype\":\"float64\",\"order\":\"little\",\"shape\":[2]},\"value\":{\"__ndarray__\":\"AAAAAAAA8D8AAAAAAAAAAA==\",\"dtype\":\"float64\",\"order\":\"little\",\"shape\":[2]}},\"selected\":{\"id\":\"3468\"},\"selection_policy\":{\"id\":\"3481\"}},\"id\":\"3467\",\"type\":\"ColumnDataSource\"},{\"attributes\":{\"overlay\":{\"id\":\"1898\"}},\"id\":\"1896\",\"type\":\"BoxZoomTool\"},{\"attributes\":{\"data_source\":{\"id\":\"1793\"},\"glyph\":{\"id\":\"1796\"},\"hover_glyph\":null,\"muted_glyph\":{\"id\":\"1798\"},\"nonselection_glyph\":{\"id\":\"1797\"},\"selection_glyph\":null,\"view\":{\"id\":\"1800\"}},\"id\":\"1799\",\"type\":\"GlyphRenderer\"},{\"attributes\":{},\"id\":\"2583\",\"type\":\"BasicTickFormatter\"},{\"attributes\":{\"below\":[{\"id\":\"1829\"}],\"center\":[{\"id\":\"1832\"},{\"id\":\"1835\"},{\"id\":\"1866\"}],\"left\":[{\"id\":\"1833\"}],\"margin\":null,\"min_border_bottom\":10,\"min_border_left\":10,\"min_border_right\":10,\"min_border_top\":10,\"plot_height\":100,\"plot_width\":700,\"renderers\":[{\"id\":\"1856\"}],\"right\":[{\"id\":\"1866\"}],\"sizing_mode\":\"fixed\",\"title\":{\"id\":\"1821\"},\"toolbar\":{\"id\":\"1842\"},\"toolbar_location\":null,\"x_range\":{\"id\":\"1760\"},\"x_scale\":{\"id\":\"1825\"},\"y_range\":{\"id\":\"1761\"},\"y_scale\":{\"id\":\"1827\"}},\"id\":\"1820\",\"subtype\":\"Figure\",\"type\":\"Plot\"},{\"attributes\":{},\"id\":\"3451\",\"type\":\"CategoricalTicker\"},{\"attributes\":{},\"id\":\"2252\",\"type\":\"CategoricalTickFormatter\"},{\"attributes\":{\"fill_alpha\":{\"value\":0.2},\"fill_color\":{\"field\":\"Variable\",\"transform\":{\"id\":\"2962\"}},\"height\":{\"value\":0.8},\"left\":{\"field\":\"bottom\"},\"line_alpha\":{\"value\":0.2},\"right\":{\"field\":\"top\"},\"y\":{\"field\":\"index\"}},\"id\":\"2968\",\"type\":\"HBar\"},{\"attributes\":{},\"id\":\"3089\",\"type\":\"CategoricalTickFormatter\"},{\"attributes\":{\"ticks\":[0]},\"id\":\"2591\",\"type\":\"FixedTicker\"},{\"attributes\":{},\"id\":\"2585\",\"type\":\"CategoricalTickFormatter\"},{\"attributes\":{\"ticks\":[0]},\"id\":\"3371\",\"type\":\"FixedTicker\"},{\"attributes\":{},\"id\":\"1893\",\"type\":\"SaveTool\"},{\"attributes\":{\"source\":{\"id\":\"2573\"}},\"id\":\"2580\",\"type\":\"CDSView\"},{\"attributes\":{\"axis\":{\"id\":\"2223\"},\"dimension\":1,\"grid_line_color\":null,\"ticker\":null},\"id\":\"2225\",\"type\":\"Grid\"},{\"attributes\":{\"label\":{\"field\":\"Variable\"},\"renderers\":[{\"id\":\"2303\"}]},\"id\":\"2314\",\"type\":\"LegendItem\"},{\"attributes\":{\"axis_label\":\"\",\"bounds\":\"auto\",\"formatter\":{\"id\":\"3479\"},\"major_label_orientation\":\"horizontal\",\"ticker\":{\"id\":\"3451\"}},\"id\":\"3450\",\"type\":\"CategoricalAxis\"},{\"attributes\":{\"axis\":{\"id\":\"3446\"},\"grid_line_color\":null,\"ticker\":null},\"id\":\"3449\",\"type\":\"Grid\"},{\"attributes\":{},\"id\":\"3337\",\"type\":\"CategoricalTicker\"},{\"attributes\":{\"items\":[{\"id\":\"2314\"}],\"location\":[0,0]},\"id\":\"2313\",\"type\":\"Legend\"},{\"attributes\":{\"data\":{\"Variable\":[\"Available\",\"Missing\"],\"bottom\":{\"__ndarray__\":\"AAAAAAAAAACW/Wp4wP/vPw==\",\"dtype\":\"float64\",\"order\":\"little\",\"shape\":[2]},\"index\":[\"values\",\"values\"],\"top\":{\"__ndarray__\":\"lv1qeMD/7z8AAAAAAADwPw==\",\"dtype\":\"float64\",\"order\":\"little\",\"shape\":[2]},\"value\":{\"__ndarray__\":\"lv1qeMD/7z/aLzWBysP/Pg==\",\"dtype\":\"float64\",\"order\":\"little\",\"shape\":[2]}},\"selected\":{\"id\":\"1851\"},\"selection_policy\":{\"id\":\"1864\"}},\"id\":\"1850\",\"type\":\"ColumnDataSource\"},{\"attributes\":{},\"id\":\"3091\",\"type\":\"UnionRenderers\"},{\"attributes\":{\"factors\":[\"Available\",\"Missing\"],\"palette\":[\"#1f77b3\",\"#ff7e0e\"]},\"id\":\"3409\",\"type\":\"CategoricalColorMapper\"},{\"attributes\":{},\"id\":\"1805\",\"type\":\"CategoricalTickFormatter\"},{\"attributes\":{\"axis_label\":\"\",\"bounds\":\"auto\",\"formatter\":{\"id\":\"3477\"},\"major_label_orientation\":\"horizontal\",\"ticker\":{\"id\":\"3485\"}},\"id\":\"3446\",\"type\":\"LinearAxis\"},{\"attributes\":{\"toolbars\":[{\"id\":\"2565\"},{\"id\":\"2622\"},{\"id\":\"2679\"}],\"tools\":[{\"id\":\"2542\"},{\"id\":\"2559\"},{\"id\":\"2560\"},{\"id\":\"2561\"},{\"id\":\"2562\"},{\"id\":\"2563\"},{\"id\":\"2599\"},{\"id\":\"2616\"},{\"id\":\"2617\"},{\"id\":\"2618\"},{\"id\":\"2619\"},{\"id\":\"2620\"},{\"id\":\"2656\"},{\"id\":\"2673\"},{\"id\":\"2674\"},{\"id\":\"2675\"},{\"id\":\"2676\"},{\"id\":\"2677\"}]},\"id\":\"2737\",\"type\":\"ProxyToolbar\"},{\"attributes\":{\"axis\":{\"id\":\"2613\"},\"dimension\":1,\"grid_line_color\":null,\"ticker\":null},\"id\":\"2615\",\"type\":\"Grid\"},{\"attributes\":{},\"id\":\"3442\",\"type\":\"LinearScale\"},{\"attributes\":{},\"id\":\"1840\",\"type\":\"ResetTool\"},{\"attributes\":{\"data_source\":{\"id\":\"2573\"},\"glyph\":{\"id\":\"2576\"},\"hover_glyph\":null,\"muted_glyph\":{\"id\":\"2578\"},\"nonselection_glyph\":{\"id\":\"2577\"},\"selection_glyph\":null,\"view\":{\"id\":\"2580\"}},\"id\":\"2579\",\"type\":\"GlyphRenderer\"},{\"attributes\":{\"label\":{\"field\":\"Variable\"},\"renderers\":[{\"id\":\"3083\"}]},\"id\":\"3094\",\"type\":\"LegendItem\"},{\"attributes\":{\"axis\":{\"id\":\"2219\"},\"grid_line_color\":null,\"ticker\":null},\"id\":\"2222\",\"type\":\"Grid\"},{\"attributes\":{\"below\":[{\"id\":\"3332\"}],\"center\":[{\"id\":\"3335\"},{\"id\":\"3338\"},{\"id\":\"3369\"}],\"left\":[{\"id\":\"3336\"}],\"margin\":null,\"min_border_bottom\":10,\"min_border_left\":10,\"min_border_right\":10,\"min_border_top\":10,\"plot_height\":100,\"plot_width\":700,\"renderers\":[{\"id\":\"3359\"}],\"right\":[{\"id\":\"3369\"}],\"sizing_mode\":\"fixed\",\"title\":{\"id\":\"3324\"},\"toolbar\":{\"id\":\"3345\"},\"toolbar_location\":null,\"x_range\":{\"id\":\"1760\"},\"x_scale\":{\"id\":\"3328\"},\"y_range\":{\"id\":\"1761\"},\"y_scale\":{\"id\":\"3330\"}},\"id\":\"3323\",\"subtype\":\"Figure\",\"type\":\"Plot\"},{\"attributes\":{\"fill_alpha\":{\"value\":0.2},\"fill_color\":{\"field\":\"Variable\",\"transform\":{\"id\":\"2572\"}},\"height\":{\"value\":0.8},\"left\":{\"field\":\"bottom\"},\"line_alpha\":{\"value\":0.2},\"right\":{\"field\":\"top\"},\"y\":{\"field\":\"index\"}},\"id\":\"2578\",\"type\":\"HBar\"},{\"attributes\":{\"ticks\":[0]},\"id\":\"3428\",\"type\":\"FixedTicker\"},{\"attributes\":{},\"id\":\"2309\",\"type\":\"CategoricalTickFormatter\"},{\"attributes\":{},\"id\":\"2311\",\"type\":\"UnionRenderers\"},{\"attributes\":{},\"id\":\"2587\",\"type\":\"UnionRenderers\"},{\"attributes\":{},\"id\":\"3444\",\"type\":\"CategoricalScale\"},{\"attributes\":{\"fill_color\":{\"field\":\"Variable\",\"transform\":{\"id\":\"2572\"}},\"height\":{\"value\":0.8},\"left\":{\"field\":\"bottom\"},\"right\":{\"field\":\"top\"},\"y\":{\"field\":\"index\"}},\"id\":\"2576\",\"type\":\"HBar\"},{\"attributes\":{\"active_drag\":\"auto\",\"active_inspect\":\"auto\",\"active_multi\":null,\"active_scroll\":\"auto\",\"active_tap\":\"auto\",\"tools\":[{\"id\":\"1819\"},{\"id\":\"1836\"},{\"id\":\"1837\"},{\"id\":\"1838\"},{\"id\":\"1839\"},{\"id\":\"1840\"}]},\"id\":\"1842\",\"type\":\"Toolbar\"},{\"attributes\":{\"below\":[{\"id\":\"3446\"}],\"center\":[{\"id\":\"3449\"},{\"id\":\"3452\"},{\"id\":\"3483\"}],\"left\":[{\"id\":\"3450\"}],\"margin\":null,\"min_border_bottom\":10,\"min_border_left\":10,\"min_border_right\":10,\"min_border_top\":10,\"plot_height\":100,\"plot_width\":700,\"renderers\":[{\"id\":\"3473\"}],\"right\":[{\"id\":\"3483\"}],\"sizing_mode\":\"fixed\",\"title\":{\"id\":\"3438\"},\"toolbar\":{\"id\":\"3459\"},\"toolbar_location\":null,\"x_range\":{\"id\":\"1760\"},\"x_scale\":{\"id\":\"3442\"},\"y_range\":{\"id\":\"1761\"},\"y_scale\":{\"id\":\"3444\"}},\"id\":\"3437\",\"subtype\":\"Figure\",\"type\":\"Plot\"},{\"attributes\":{\"bottom_units\":\"screen\",\"fill_alpha\":0.5,\"fill_color\":\"lightgrey\",\"left_units\":\"screen\",\"level\":\"overlay\",\"line_alpha\":1.0,\"line_color\":\"black\",\"line_dash\":[4,4],\"line_width\":2,\"right_units\":\"screen\",\"top_units\":\"screen\"},\"id\":\"1841\",\"type\":\"BoxAnnotation\"},{\"attributes\":{\"factors\":[\"Available\",\"Missing\"],\"palette\":[\"#1f77b3\",\"#ff7e0e\"]},\"id\":\"2239\",\"type\":\"CategoricalColorMapper\"},{\"attributes\":{\"below\":[{\"id\":\"2609\"}],\"center\":[{\"id\":\"2612\"},{\"id\":\"2615\"},{\"id\":\"2646\"}],\"left\":[{\"id\":\"2613\"}],\"margin\":null,\"min_border_bottom\":10,\"min_border_left\":10,\"min_border_right\":10,\"min_border_top\":10,\"plot_height\":100,\"plot_width\":700,\"renderers\":[{\"id\":\"2636\"}],\"right\":[{\"id\":\"2646\"}],\"sizing_mode\":\"fixed\",\"title\":{\"id\":\"2601\"},\"toolbar\":{\"id\":\"2622\"},\"toolbar_location\":null,\"x_range\":{\"id\":\"1760\"},\"x_scale\":{\"id\":\"2605\"},\"y_range\":{\"id\":\"1761\"},\"y_scale\":{\"id\":\"2607\"}},\"id\":\"2600\",\"subtype\":\"Figure\",\"type\":\"Plot\"},{\"attributes\":{\"fill_alpha\":{\"value\":0.1},\"fill_color\":{\"field\":\"Variable\",\"transform\":{\"id\":\"2962\"}},\"height\":{\"value\":0.8},\"left\":{\"field\":\"bottom\"},\"line_alpha\":{\"value\":0.1},\"right\":{\"field\":\"top\"},\"y\":{\"field\":\"index\"}},\"id\":\"2967\",\"type\":\"HBar\"},{\"attributes\":{\"label\":{\"field\":\"Variable\"},\"renderers\":[{\"id\":\"3359\"}]},\"id\":\"3370\",\"type\":\"LegendItem\"},{\"attributes\":{\"fill_alpha\":{\"value\":0.1},\"fill_color\":{\"field\":\"Variable\",\"transform\":{\"id\":\"2572\"}},\"height\":{\"value\":0.8},\"left\":{\"field\":\"bottom\"},\"line_alpha\":{\"value\":0.1},\"right\":{\"field\":\"top\"},\"y\":{\"field\":\"index\"}},\"id\":\"2577\",\"type\":\"HBar\"},{\"attributes\":{},\"id\":\"2644\",\"type\":\"UnionRenderers\"},{\"attributes\":{\"text\":\"missing\",\"text_color\":{\"value\":\"black\"},\"text_font_size\":{\"value\":\"12pt\"}},\"id\":\"2601\",\"type\":\"Title\"},{\"attributes\":{\"ticks\":[0]},\"id\":\"2315\",\"type\":\"FixedTicker\"},{\"attributes\":{},\"id\":\"3354\",\"type\":\"Selection\"},{\"attributes\":{},\"id\":\"2574\",\"type\":\"Selection\"},{\"attributes\":{},\"id\":\"1882\",\"type\":\"LinearScale\"},{\"attributes\":{\"text\":\"duplicate_values\",\"text_color\":{\"value\":\"black\"},\"text_font_size\":{\"value\":\"12pt\"}},\"id\":\"3438\",\"type\":\"Title\"},{\"attributes\":{\"active_drag\":\"auto\",\"active_inspect\":\"auto\",\"active_multi\":null,\"active_scroll\":\"auto\",\"active_tap\":\"auto\",\"tools\":[{\"id\":\"3379\"},{\"id\":\"3396\"},{\"id\":\"3397\"},{\"id\":\"3398\"},{\"id\":\"3399\"},{\"id\":\"3400\"}]},\"id\":\"3402\",\"type\":\"Toolbar\"},{\"attributes\":{},\"id\":\"1803\",\"type\":\"BasicTickFormatter\"},{\"attributes\":{\"axis_label\":\"\",\"bounds\":\"auto\",\"formatter\":{\"id\":\"2642\"},\"major_label_orientation\":\"horizontal\",\"ticker\":{\"id\":\"2614\"}},\"id\":\"2613\",\"type\":\"CategoricalAxis\"},{\"attributes\":{\"items\":[{\"id\":\"3370\"}],\"location\":[0,0]},\"id\":\"3369\",\"type\":\"Legend\"},{\"attributes\":{},\"id\":\"2614\",\"type\":\"CategoricalTicker\"},{\"attributes\":{},\"id\":\"2228\",\"type\":\"WheelZoomTool\"},{\"attributes\":{},\"id\":\"3343\",\"type\":\"ResetTool\"},{\"attributes\":{\"source\":{\"id\":\"3353\"}},\"id\":\"3360\",\"type\":\"CDSView\"},{\"attributes\":{\"fill_color\":{\"field\":\"Variable\",\"transform\":{\"id\":\"3352\"}},\"height\":{\"value\":0.8},\"left\":{\"field\":\"bottom\"},\"right\":{\"field\":\"top\"},\"y\":{\"field\":\"index\"}},\"id\":\"3356\",\"type\":\"HBar\"},{\"attributes\":{\"children\":[[{\"id\":\"2933\"},0,0],[{\"id\":\"2990\"},1,0],[{\"id\":\"3047\"},2,0]]},\"id\":\"3126\",\"type\":\"GridBox\"},{\"attributes\":{\"fill_alpha\":{\"value\":0.1},\"fill_color\":{\"field\":\"Variable\",\"transform\":{\"id\":\"3352\"}},\"height\":{\"value\":0.8},\"left\":{\"field\":\"bottom\"},\"line_alpha\":{\"value\":0.1},\"right\":{\"field\":\"top\"},\"y\":{\"field\":\"index\"}},\"id\":\"3357\",\"type\":\"HBar\"},{\"attributes\":{},\"id\":\"2230\",\"type\":\"ResetTool\"},{\"attributes\":{\"items\":[{\"id\":\"3094\"}],\"location\":[0,0]},\"id\":\"3093\",\"type\":\"Legend\"},{\"attributes\":{},\"id\":\"1895\",\"type\":\"WheelZoomTool\"},{\"attributes\":{},\"id\":\"2254\",\"type\":\"UnionRenderers\"},{\"attributes\":{},\"id\":\"3339\",\"type\":\"SaveTool\"},{\"attributes\":{},\"id\":\"1894\",\"type\":\"PanTool\"},{\"attributes\":{\"axis\":{\"id\":\"3003\"},\"dimension\":1,\"grid_line_color\":null,\"ticker\":null},\"id\":\"3005\",\"type\":\"Grid\"},{\"attributes\":{\"axis\":{\"id\":\"3336\"},\"dimension\":1,\"grid_line_color\":null,\"ticker\":null},\"id\":\"3338\",\"type\":\"Grid\"},{\"attributes\":{},\"id\":\"3006\",\"type\":\"SaveTool\"},{\"attributes\":{\"data_source\":{\"id\":\"3353\"},\"glyph\":{\"id\":\"3356\"},\"hover_glyph\":null,\"muted_glyph\":{\"id\":\"3358\"},\"nonselection_glyph\":{\"id\":\"3357\"},\"selection_glyph\":null,\"view\":{\"id\":\"3360\"}},\"id\":\"3359\",\"type\":\"GlyphRenderer\"},{\"attributes\":{},\"id\":\"2224\",\"type\":\"CategoricalTicker\"},{\"attributes\":{\"callback\":null,\"renderers\":[{\"id\":\"3473\"}],\"tags\":[\"hv_created\"],\"tooltips\":[[\"index\",\"@{index}\"],[\"Variable\",\"@{Variable}\"],[\"value\",\"@{value}\"]]},\"id\":\"3436\",\"type\":\"HoverTool\"},{\"attributes\":{},\"id\":\"2616\",\"type\":\"SaveTool\"},{\"attributes\":{\"data\":{\"Variable\":[\"Available\",\"Missing\"],\"bottom\":{\"__ndarray__\":\"AAAAAAAAAAC8ydoCR2/rPw==\",\"dtype\":\"float64\",\"order\":\"little\",\"shape\":[2]},\"index\":[\"values\",\"values\"],\"top\":{\"__ndarray__\":\"vMnaAkdv6z8AAAAAAADwPw==\",\"dtype\":\"float64\",\"order\":\"little\",\"shape\":[2]},\"value\":{\"__ndarray__\":\"vMnaAkdv6z8S2ZT040LCPw==\",\"dtype\":\"float64\",\"order\":\"little\",\"shape\":[2]}},\"selected\":{\"id\":\"2241\"},\"selection_policy\":{\"id\":\"2254\"}},\"id\":\"2240\",\"type\":\"ColumnDataSource\"},{\"attributes\":{\"children\":[[{\"id\":\"1763\"},0,0],[{\"id\":\"1820\"},1,0],[{\"id\":\"1877\"},2,0]]},\"id\":\"1956\",\"type\":\"GridBox\"},{\"attributes\":{},\"id\":\"2184\",\"type\":\"Selection\"},{\"attributes\":{\"fill_alpha\":{\"value\":0.2},\"fill_color\":{\"field\":\"Variable\",\"transform\":{\"id\":\"3352\"}},\"height\":{\"value\":0.8},\"left\":{\"field\":\"bottom\"},\"line_alpha\":{\"value\":0.2},\"right\":{\"field\":\"top\"},\"y\":{\"field\":\"index\"}},\"id\":\"3358\",\"type\":\"HBar\"},{\"attributes\":{\"toolbars\":[{\"id\":\"2955\"},{\"id\":\"3012\"},{\"id\":\"3069\"}],\"tools\":[{\"id\":\"2932\"},{\"id\":\"2949\"},{\"id\":\"2950\"},{\"id\":\"2951\"},{\"id\":\"2952\"},{\"id\":\"2953\"},{\"id\":\"2989\"},{\"id\":\"3006\"},{\"id\":\"3007\"},{\"id\":\"3008\"},{\"id\":\"3009\"},{\"id\":\"3010\"},{\"id\":\"3046\"},{\"id\":\"3063\"},{\"id\":\"3064\"},{\"id\":\"3065\"},{\"id\":\"3066\"},{\"id\":\"3067\"}]},\"id\":\"3127\",\"type\":\"ProxyToolbar\"},{\"attributes\":{\"axis_label\":\"\",\"bounds\":\"auto\",\"formatter\":{\"id\":\"3032\"},\"major_label_orientation\":\"horizontal\",\"ticker\":{\"id\":\"3004\"}},\"id\":\"3003\",\"type\":\"CategoricalAxis\"},{\"attributes\":{\"label\":{\"field\":\"Variable\"},\"renderers\":[{\"id\":\"3026\"}]},\"id\":\"3037\",\"type\":\"LegendItem\"},{\"attributes\":{},\"id\":\"3067\",\"type\":\"ResetTool\"},{\"attributes\":{},\"id\":\"3032\",\"type\":\"CategoricalTickFormatter\"},{\"attributes\":{\"below\":[{\"id\":\"2999\"}],\"center\":[{\"id\":\"3002\"},{\"id\":\"3005\"},{\"id\":\"3036\"}],\"left\":[{\"id\":\"3003\"}],\"margin\":null,\"min_border_bottom\":10,\"min_border_left\":10,\"min_border_right\":10,\"min_border_top\":10,\"plot_height\":100,\"plot_width\":700,\"renderers\":[{\"id\":\"3026\"}],\"right\":[{\"id\":\"3036\"}],\"sizing_mode\":\"fixed\",\"title\":{\"id\":\"2991\"},\"toolbar\":{\"id\":\"3012\"},\"toolbar_location\":null,\"x_range\":{\"id\":\"1760\"},\"x_scale\":{\"id\":\"2995\"},\"y_range\":{\"id\":\"1761\"},\"y_scale\":{\"id\":\"2997\"}},\"id\":\"2990\",\"subtype\":\"Figure\",\"type\":\"Plot\"},{\"attributes\":{\"data\":{\"Variable\":[\"Unique\",\"Duplicated\"],\"bottom\":{\"__ndarray__\":\"AAAAAAAAAAAAAAAAAADwPw==\",\"dtype\":\"float64\",\"order\":\"little\",\"shape\":[2]},\"index\":[\"values\",\"values\"],\"top\":{\"__ndarray__\":\"AAAAAAAA8D8AAAAAAADwPw==\",\"dtype\":\"float64\",\"order\":\"little\",\"shape\":[2]},\"value\":{\"__ndarray__\":\"AAAAAAAA8D8AAAAAAAAAAA==\",\"dtype\":\"float64\",\"order\":\"little\",\"shape\":[2]}},\"selected\":{\"id\":\"3078\"},\"selection_policy\":{\"id\":\"3091\"}},\"id\":\"3077\",\"type\":\"ColumnDataSource\"},{\"attributes\":{\"active_drag\":\"auto\",\"active_inspect\":\"auto\",\"active_multi\":null,\"active_scroll\":\"auto\",\"active_tap\":\"auto\",\"tools\":[{\"id\":\"3046\"},{\"id\":\"3063\"},{\"id\":\"3064\"},{\"id\":\"3065\"},{\"id\":\"3066\"},{\"id\":\"3067\"}]},\"id\":\"3069\",\"type\":\"Toolbar\"},{\"attributes\":{\"axis\":{\"id\":\"2942\"},\"grid_line_color\":null,\"ticker\":null},\"id\":\"2945\",\"type\":\"Grid\"},{\"attributes\":{},\"id\":\"3034\",\"type\":\"UnionRenderers\"},{\"attributes\":{\"callback\":null,\"renderers\":[{\"id\":\"3083\"}],\"tags\":[\"hv_created\"],\"tooltips\":[[\"index\",\"@{index}\"],[\"Variable\",\"@{Variable}\"],[\"value\",\"@{value}\"]]},\"id\":\"3046\",\"type\":\"HoverTool\"},{\"attributes\":{\"bottom_units\":\"screen\",\"fill_alpha\":0.5,\"fill_color\":\"lightgrey\",\"left_units\":\"screen\",\"level\":\"overlay\",\"line_alpha\":1.0,\"line_color\":\"black\",\"line_dash\":[4,4],\"line_width\":2,\"right_units\":\"screen\",\"top_units\":\"screen\"},\"id\":\"3068\",\"type\":\"BoxAnnotation\"},{\"attributes\":{\"axis_label\":\"\",\"bounds\":\"auto\",\"formatter\":{\"id\":\"3030\"},\"major_label_orientation\":\"horizontal\",\"ticker\":{\"id\":\"3038\"}},\"id\":\"2999\",\"type\":\"LinearAxis\"},{\"attributes\":{\"axis_label\":\"\",\"bounds\":\"auto\",\"formatter\":{\"id\":\"3365\"},\"major_label_orientation\":\"horizontal\",\"ticker\":{\"id\":\"3337\"}},\"id\":\"3336\",\"type\":\"CategoricalAxis\"},{\"attributes\":{},\"id\":\"3054\",\"type\":\"CategoricalScale\"},{\"attributes\":{},\"id\":\"2550\",\"type\":\"CategoricalScale\"},{\"attributes\":{\"text\":\"data_types\",\"text_color\":{\"value\":\"black\"},\"text_font_size\":{\"value\":\"12pt\"}},\"id\":\"2934\",\"type\":\"Title\"},{\"attributes\":{\"axis\":{\"id\":\"3332\"},\"grid_line_color\":null,\"ticker\":null},\"id\":\"3335\",\"type\":\"Grid\"},{\"attributes\":{\"axis_label\":\"\",\"bounds\":\"auto\",\"formatter\":{\"id\":\"2583\"},\"major_label_orientation\":\"horizontal\",\"ticker\":{\"id\":\"2591\"}},\"id\":\"2552\",\"type\":\"LinearAxis\"},{\"attributes\":{\"text\":\"data_types\",\"text_color\":{\"value\":\"black\"},\"text_font_size\":{\"value\":\"12pt\"}},\"id\":\"3324\",\"type\":\"Title\"},{\"attributes\":{},\"id\":\"2997\",\"type\":\"CategoricalScale\"},{\"attributes\":{\"overlay\":{\"id\":\"3344\"}},\"id\":\"3342\",\"type\":\"BoxZoomTool\"},{\"attributes\":{\"below\":[{\"id\":\"2552\"}],\"center\":[{\"id\":\"2555\"},{\"id\":\"2558\"},{\"id\":\"2589\"}],\"left\":[{\"id\":\"2556\"}],\"margin\":null,\"min_border_bottom\":10,\"min_border_left\":10,\"min_border_right\":10,\"min_border_top\":10,\"plot_height\":100,\"plot_width\":700,\"renderers\":[{\"id\":\"2579\"}],\"right\":[{\"id\":\"2589\"}],\"sizing_mode\":\"fixed\",\"title\":{\"id\":\"2544\"},\"toolbar\":{\"id\":\"2565\"},\"toolbar_location\":null,\"x_range\":{\"id\":\"1760\"},\"x_scale\":{\"id\":\"2548\"},\"y_range\":{\"id\":\"1761\"},\"y_scale\":{\"id\":\"2550\"}},\"id\":\"2543\",\"subtype\":\"Figure\",\"type\":\"Plot\"},{\"attributes\":{\"label\":{\"field\":\"Variable\"},\"renderers\":[{\"id\":\"2969\"}]},\"id\":\"2980\",\"type\":\"LegendItem\"},{\"attributes\":{\"data\":{\"Variable\":[\"Numeric\",\"Others\"],\"bottom\":{\"__ndarray__\":\"AAAAAAAAAADbtm3btm3bPw==\",\"dtype\":\"float64\",\"order\":\"little\",\"shape\":[2]},\"index\":[\"values\",\"values\"],\"top\":{\"__ndarray__\":\"27Zt27Zt2z8AAAAAAADwPw==\",\"dtype\":\"float64\",\"order\":\"little\",\"shape\":[2]},\"value\":{\"__ndarray__\":\"27Zt27Zt2z+SJEmSJEniPw==\",\"dtype\":\"float64\",\"order\":\"little\",\"shape\":[2]}},\"selected\":{\"id\":\"1794\"},\"selection_policy\":{\"id\":\"1807\"}},\"id\":\"1793\",\"type\":\"ColumnDataSource\"},{\"attributes\":{},\"id\":\"2548\",\"type\":\"LinearScale\"},{\"attributes\":{},\"id\":\"3008\",\"type\":\"WheelZoomTool\"},{\"attributes\":{\"below\":[{\"id\":\"2942\"}],\"center\":[{\"id\":\"2945\"},{\"id\":\"2948\"},{\"id\":\"2979\"}],\"left\":[{\"id\":\"2946\"}],\"margin\":null,\"min_border_bottom\":10,\"min_border_left\":10,\"min_border_right\":10,\"min_border_top\":10,\"plot_height\":100,\"plot_width\":700,\"renderers\":[{\"id\":\"2969\"}],\"right\":[{\"id\":\"2979\"}],\"sizing_mode\":\"fixed\",\"title\":{\"id\":\"2934\"},\"toolbar\":{\"id\":\"2955\"},\"toolbar_location\":null,\"x_range\":{\"id\":\"1760\"},\"x_scale\":{\"id\":\"2938\"},\"y_range\":{\"id\":\"1761\"},\"y_scale\":{\"id\":\"2940\"}},\"id\":\"2933\",\"subtype\":\"Figure\",\"type\":\"Plot\"},{\"attributes\":{\"text\":\"data_types\",\"text_color\":{\"value\":\"black\"},\"text_font_size\":{\"value\":\"12pt\"}},\"id\":\"2544\",\"type\":\"Title\"},{\"attributes\":{\"callback\":null,\"renderers\":[{\"id\":\"3026\"}],\"tags\":[\"hv_created\"],\"tooltips\":[[\"index\",\"@{index}\"],[\"Variable\",\"@{Variable}\"],[\"value\",\"@{value}\"]]},\"id\":\"2989\",\"type\":\"HoverTool\"},{\"attributes\":{\"source\":{\"id\":\"2963\"}},\"id\":\"2970\",\"type\":\"CDSView\"},{\"attributes\":{\"data\":{\"Variable\":[\"Available\",\"Missing\"],\"bottom\":{\"__ndarray__\":\"V8hpUHUVEsAAAAAAAAAAAA==\",\"dtype\":\"float64\",\"order\":\"little\",\"shape\":[2]},\"index\":[\"values\",\"values\"],\"top\":{\"__ndarray__\":\"AAAAAAAAAABXyGlQdRUWQA==\",\"dtype\":\"float64\",\"order\":\"little\",\"shape\":[2]},\"value\":{\"__ndarray__\":\"V8hpUHUVEsBXyGlQdRUWQA==\",\"dtype\":\"float64\",\"order\":\"little\",\"shape\":[2]}},\"selected\":{\"id\":\"3021\"},\"selection_policy\":{\"id\":\"3034\"}},\"id\":\"3020\",\"type\":\"ColumnDataSource\"},{\"attributes\":{},\"id\":\"2973\",\"type\":\"BasicTickFormatter\"},{\"attributes\":{},\"id\":\"3330\",\"type\":\"CategoricalScale\"},{\"attributes\":{\"ticks\":[0]},\"id\":\"2648\",\"type\":\"FixedTicker\"},{\"attributes\":{\"children\":[{\"id\":\"2738\"},{\"id\":\"2736\"}]},\"id\":\"2739\",\"type\":\"Column\"},{\"attributes\":{\"text\":\"missing\",\"text_color\":{\"value\":\"black\"},\"text_font_size\":{\"value\":\"12pt\"}},\"id\":\"2991\",\"type\":\"Title\"},{\"attributes\":{\"axis_label\":\"\",\"bounds\":\"auto\",\"formatter\":{\"id\":\"3363\"},\"major_label_orientation\":\"horizontal\",\"ticker\":{\"id\":\"3371\"}},\"id\":\"3332\",\"type\":\"LinearAxis\"},{\"attributes\":{},\"id\":\"2250\",\"type\":\"BasicTickFormatter\"},{\"attributes\":{\"child\":{\"id\":\"2739\"},\"name\":\"booking_data\",\"title\":\"booking_data\"},\"id\":\"2929\",\"type\":\"Panel\"},{\"attributes\":{},\"id\":\"2940\",\"type\":\"CategoricalScale\"},{\"attributes\":{\"toolbar\":{\"id\":\"2737\"},\"toolbar_location\":\"above\"},\"id\":\"2738\",\"type\":\"ToolbarBox\"},{\"attributes\":{\"items\":[{\"id\":\"3037\"}],\"location\":[0,0]},\"id\":\"3036\",\"type\":\"Legend\"},{\"attributes\":{\"ticks\":[0]},\"id\":\"2981\",\"type\":\"FixedTicker\"},{\"attributes\":{\"child\":{\"id\":\"3129\"},\"name\":\"consumer_data\",\"title\":\"consumer_data\"},\"id\":\"3319\",\"type\":\"Panel\"},{\"attributes\":{\"callback\":null,\"renderers\":[{\"id\":\"2579\"}],\"tags\":[\"hv_created\"],\"tooltips\":[[\"index\",\"@{index}\"],[\"Variable\",\"@{Variable}\"],[\"value\",\"@{value}\"]]},\"id\":\"2542\",\"type\":\"HoverTool\"},{\"attributes\":{},\"id\":\"2620\",\"type\":\"ResetTool\"},{\"attributes\":{\"fill_alpha\":{\"value\":0.1},\"fill_color\":{\"field\":\"Variable\",\"transform\":{\"id\":\"3019\"}},\"height\":{\"value\":0.8},\"left\":{\"field\":\"bottom\"},\"line_alpha\":{\"value\":0.1},\"right\":{\"field\":\"top\"},\"y\":{\"field\":\"index\"}},\"id\":\"3024\",\"type\":\"HBar\"},{\"attributes\":{\"toolbar\":{\"id\":\"3127\"},\"toolbar_location\":\"above\"},\"id\":\"3128\",\"type\":\"ToolbarBox\"},{\"attributes\":{\"overlay\":{\"id\":\"3011\"}},\"id\":\"3009\",\"type\":\"BoxZoomTool\"},{\"attributes\":{\"data\":{\"Variable\":[\"Numeric\",\"Others\"],\"bottom\":{\"__ndarray__\":\"AAAAAAAAAAByHMdxHMfhPw==\",\"dtype\":\"float64\",\"order\":\"little\",\"shape\":[2]},\"index\":[\"values\",\"values\"],\"top\":{\"__ndarray__\":\"chzHcRzH4T8AAAAAAADwPw==\",\"dtype\":\"float64\",\"order\":\"little\",\"shape\":[2]},\"value\":{\"__ndarray__\":\"chzHcRzH4T8cx3Ecx3HcPw==\",\"dtype\":\"float64\",\"order\":\"little\",\"shape\":[2]}},\"selected\":{\"id\":\"3354\"},\"selection_policy\":{\"id\":\"3367\"}},\"id\":\"3353\",\"type\":\"ColumnDataSource\"},{\"attributes\":{\"axis_label\":\"\",\"bounds\":\"auto\",\"formatter\":{\"id\":\"2640\"},\"major_label_orientation\":\"horizontal\",\"ticker\":{\"id\":\"2648\"}},\"id\":\"2609\",\"type\":\"LinearAxis\"},{\"attributes\":{\"data_source\":{\"id\":\"3020\"},\"glyph\":{\"id\":\"3023\"},\"hover_glyph\":null,\"muted_glyph\":{\"id\":\"3025\"},\"nonselection_glyph\":{\"id\":\"3024\"},\"selection_glyph\":null,\"view\":{\"id\":\"3027\"}},\"id\":\"3026\",\"type\":\"GlyphRenderer\"},{\"attributes\":{\"factors\":[\"Unique\",\"Duplicated\"],\"palette\":[\"#1f77b3\",\"#ff7e0e\"]},\"id\":\"3076\",\"type\":\"CategoricalColorMapper\"},{\"attributes\":{\"factors\":[\"Numeric\",\"Others\"],\"palette\":[\"#1f77b3\",\"#ff7e0e\"]},\"id\":\"3352\",\"type\":\"CategoricalColorMapper\"},{\"attributes\":{},\"id\":\"2283\",\"type\":\"SaveTool\"},{\"attributes\":{\"active_drag\":\"auto\",\"active_inspect\":\"auto\",\"active_multi\":null,\"active_scroll\":\"auto\",\"active_tap\":\"auto\",\"tools\":[{\"id\":\"2599\"},{\"id\":\"2616\"},{\"id\":\"2617\"},{\"id\":\"2618\"},{\"id\":\"2619\"},{\"id\":\"2620\"}]},\"id\":\"2622\",\"type\":\"Toolbar\"},{\"attributes\":{},\"id\":\"3007\",\"type\":\"PanTool\"},{\"attributes\":{\"callback\":null,\"renderers\":[{\"id\":\"2693\"}],\"tags\":[\"hv_created\"],\"tooltips\":[[\"index\",\"@{index}\"],[\"Variable\",\"@{Variable}\"],[\"value\",\"@{value}\"]]},\"id\":\"2656\",\"type\":\"HoverTool\"},{\"attributes\":{},\"id\":\"3030\",\"type\":\"BasicTickFormatter\"},{\"attributes\":{\"axis_label\":\"\",\"bounds\":\"auto\",\"formatter\":{\"id\":\"2973\"},\"major_label_orientation\":\"horizontal\",\"ticker\":{\"id\":\"2981\"}},\"id\":\"2942\",\"type\":\"LinearAxis\"},{\"attributes\":{\"factors\":[\"Available\",\"Missing\"],\"palette\":[\"#1f77b3\",\"#ff7e0e\"]},\"id\":\"2629\",\"type\":\"CategoricalColorMapper\"},{\"attributes\":{\"overlay\":{\"id\":\"2621\"}},\"id\":\"2619\",\"type\":\"BoxZoomTool\"},{\"attributes\":{\"source\":{\"id\":\"3020\"}},\"id\":\"3027\",\"type\":\"CDSView\"},{\"attributes\":{\"active_drag\":\"auto\",\"active_inspect\":\"auto\",\"active_multi\":null,\"active_scroll\":\"auto\",\"active_tap\":\"auto\",\"tools\":[{\"id\":\"2656\"},{\"id\":\"2673\"},{\"id\":\"2674\"},{\"id\":\"2675\"},{\"id\":\"2676\"},{\"id\":\"2677\"}]},\"id\":\"2679\",\"type\":\"Toolbar\"},{\"attributes\":{\"ticks\":[0]},\"id\":\"2258\",\"type\":\"FixedTicker\"},{\"attributes\":{\"fill_alpha\":{\"value\":0.2},\"fill_color\":{\"field\":\"Variable\",\"transform\":{\"id\":\"2296\"}},\"height\":{\"value\":0.8},\"left\":{\"field\":\"bottom\"},\"line_alpha\":{\"value\":0.2},\"right\":{\"field\":\"top\"},\"y\":{\"field\":\"index\"}},\"id\":\"2302\",\"type\":\"HBar\"},{\"attributes\":{\"margin\":[0,0,0,0],\"tabs\":[{\"id\":\"2149\"},{\"id\":\"2539\"},{\"id\":\"2929\"},{\"id\":\"3319\"},{\"id\":\"3709\"}]},\"id\":\"1759\",\"type\":\"Tabs\"},{\"attributes\":{},\"id\":\"3010\",\"type\":\"ResetTool\"},{\"attributes\":{\"fill_alpha\":{\"value\":0.2},\"fill_color\":{\"field\":\"Variable\",\"transform\":{\"id\":\"3019\"}},\"height\":{\"value\":0.8},\"left\":{\"field\":\"bottom\"},\"line_alpha\":{\"value\":0.2},\"right\":{\"field\":\"top\"},\"y\":{\"field\":\"index\"}},\"id\":\"3025\",\"type\":\"HBar\"},{\"attributes\":{\"data\":{\"Variable\":[\"Available\",\"Missing\"],\"bottom\":{\"__ndarray__\":\"AAAAAAAAAACAXE8YZiGcPw==\",\"dtype\":\"float64\",\"order\":\"little\",\"shape\":[2]},\"index\":[\"values\",\"values\"],\"top\":{\"__ndarray__\":\"gFxPGGYhnD8AAAAAAADwPw==\",\"dtype\":\"float64\",\"order\":\"little\",\"shape\":[2]},\"value\":{\"__ndarray__\":\"gFxPGGYhnD8chT3P9B7vPw==\",\"dtype\":\"float64\",\"order\":\"little\",\"shape\":[2]}},\"selected\":{\"id\":\"2631\"},\"selection_policy\":{\"id\":\"2644\"}},\"id\":\"2630\",\"type\":\"ColumnDataSource\"},{\"attributes\":{\"fill_color\":{\"field\":\"Variable\",\"transform\":{\"id\":\"3019\"}},\"height\":{\"value\":0.8},\"left\":{\"field\":\"bottom\"},\"right\":{\"field\":\"top\"},\"y\":{\"field\":\"index\"}},\"id\":\"3023\",\"type\":\"HBar\"},{\"attributes\":{\"bottom_units\":\"screen\",\"fill_alpha\":0.5,\"fill_color\":\"lightgrey\",\"left_units\":\"screen\",\"level\":\"overlay\",\"line_alpha\":1.0,\"line_color\":\"black\",\"line_dash\":[4,4],\"line_width\":2,\"right_units\":\"screen\",\"top_units\":\"screen\"},\"id\":\"2621\",\"type\":\"BoxAnnotation\"},{\"attributes\":{},\"id\":\"2618\",\"type\":\"WheelZoomTool\"},{\"attributes\":{},\"id\":\"3087\",\"type\":\"BasicTickFormatter\"},{\"attributes\":{},\"id\":\"2241\",\"type\":\"Selection\"},{\"attributes\":{},\"id\":\"2285\",\"type\":\"WheelZoomTool\"},{\"attributes\":{\"fill_color\":{\"field\":\"Variable\",\"transform\":{\"id\":\"2239\"}},\"height\":{\"value\":0.8},\"left\":{\"field\":\"bottom\"},\"right\":{\"field\":\"top\"},\"y\":{\"field\":\"index\"}},\"id\":\"2243\",\"type\":\"HBar\"},{\"attributes\":{\"factors\":[\"Unique\",\"Duplicated\"],\"palette\":[\"#1f77b3\",\"#ff7e0e\"]},\"id\":\"2686\",\"type\":\"CategoricalColorMapper\"},{\"attributes\":{},\"id\":\"2977\",\"type\":\"UnionRenderers\"},{\"attributes\":{\"data_source\":{\"id\":\"2297\"},\"glyph\":{\"id\":\"2300\"},\"hover_glyph\":null,\"muted_glyph\":{\"id\":\"2302\"},\"nonselection_glyph\":{\"id\":\"2301\"},\"selection_glyph\":null,\"view\":{\"id\":\"2304\"}},\"id\":\"2303\",\"type\":\"GlyphRenderer\"},{\"attributes\":{\"client_comm_id\":\"04999816416a4285b07c7a47acccfd70\",\"comm_id\":\"2151f00aaaac4e88854e4934fc356a4e\",\"plot_id\":\"1759\"},\"id\":\"4025\",\"type\":\"panel.models.comm_manager.CommManager\"},{\"attributes\":{\"items\":[{\"id\":\"2980\"}],\"location\":[0,0]},\"id\":\"2979\",\"type\":\"Legend\"},{\"attributes\":{},\"id\":\"2938\",\"type\":\"LinearScale\"},{\"attributes\":{},\"id\":\"3052\",\"type\":\"LinearScale\"},{\"attributes\":{},\"id\":\"3328\",\"type\":\"LinearScale\"},{\"attributes\":{\"child\":{\"id\":\"1959\"},\"name\":\"call_data\",\"title\":\"call_data\"},\"id\":\"2149\",\"type\":\"Panel\"},{\"attributes\":{\"axis\":{\"id\":\"2280\"},\"dimension\":1,\"grid_line_color\":null,\"ticker\":null},\"id\":\"2282\",\"type\":\"Grid\"},{\"attributes\":{\"axis\":{\"id\":\"2999\"},\"grid_line_color\":null,\"ticker\":null},\"id\":\"3002\",\"type\":\"Grid\"},{\"attributes\":{\"axis_label\":\"\",\"bounds\":\"auto\",\"formatter\":{\"id\":\"3087\"},\"major_label_orientation\":\"horizontal\",\"ticker\":{\"id\":\"3095\"}},\"id\":\"3056\",\"type\":\"LinearAxis\"},{\"attributes\":{\"bottom_units\":\"screen\",\"fill_alpha\":0.5,\"fill_color\":\"lightgrey\",\"left_units\":\"screen\",\"level\":\"overlay\",\"line_alpha\":1.0,\"line_color\":\"black\",\"line_dash\":[4,4],\"line_width\":2,\"right_units\":\"screen\",\"top_units\":\"screen\"},\"id\":\"2678\",\"type\":\"BoxAnnotation\"},{\"attributes\":{},\"id\":\"2284\",\"type\":\"PanTool\"},{\"attributes\":{\"callback\":null,\"renderers\":[{\"id\":\"1913\"}],\"tags\":[\"hv_created\"],\"tooltips\":[[\"index\",\"@{index}\"],[\"Variable\",\"@{Variable}\"],[\"value\",\"@{value}\"]]},\"id\":\"1876\",\"type\":\"HoverTool\"},{\"attributes\":{\"axis_label\":\"\",\"bounds\":\"auto\",\"formatter\":{\"id\":\"3089\"},\"major_label_orientation\":\"horizontal\",\"ticker\":{\"id\":\"3061\"}},\"id\":\"3060\",\"type\":\"CategoricalAxis\"},{\"attributes\":{},\"id\":\"2975\",\"type\":\"CategoricalTickFormatter\"},{\"attributes\":{\"fill_alpha\":{\"value\":0.2},\"fill_color\":{\"field\":\"Variable\",\"transform\":{\"id\":\"1792\"}},\"height\":{\"value\":0.8},\"left\":{\"field\":\"bottom\"},\"line_alpha\":{\"value\":0.2},\"right\":{\"field\":\"top\"},\"y\":{\"field\":\"index\"}},\"id\":\"1798\",\"type\":\"HBar\"},{\"attributes\":{\"axis\":{\"id\":\"3056\"},\"grid_line_color\":null,\"ticker\":null},\"id\":\"3059\",\"type\":\"Grid\"},{\"attributes\":{\"children\":[{\"id\":\"3128\"},{\"id\":\"3126\"}]},\"id\":\"3129\",\"type\":\"Column\"},{\"attributes\":{\"bottom_units\":\"screen\",\"fill_alpha\":0.5,\"fill_color\":\"lightgrey\",\"left_units\":\"screen\",\"level\":\"overlay\",\"line_alpha\":1.0,\"line_color\":\"black\",\"line_dash\":[4,4],\"line_width\":2,\"right_units\":\"screen\",\"top_units\":\"screen\"},\"id\":\"3344\",\"type\":\"BoxAnnotation\"},{\"attributes\":{\"active_drag\":\"auto\",\"active_inspect\":\"auto\",\"active_multi\":null,\"active_scroll\":\"auto\",\"active_tap\":\"auto\",\"tools\":[{\"id\":\"3322\"},{\"id\":\"3339\"},{\"id\":\"3340\"},{\"id\":\"3341\"},{\"id\":\"3342\"},{\"id\":\"3343\"}]},\"id\":\"3345\",\"type\":\"Toolbar\"},{\"attributes\":{\"callback\":null,\"renderers\":[{\"id\":\"2969\"}],\"tags\":[\"hv_created\"],\"tooltips\":[[\"index\",\"@{index}\"],[\"Variable\",\"@{Variable}\"],[\"value\",\"@{value}\"]]},\"id\":\"2932\",\"type\":\"HoverTool\"},{\"attributes\":{\"ticks\":[0]},\"id\":\"3038\",\"type\":\"FixedTicker\"},{\"attributes\":{\"toolbars\":[{\"id\":\"3345\"},{\"id\":\"3402\"},{\"id\":\"3459\"}],\"tools\":[{\"id\":\"3322\"},{\"id\":\"3339\"},{\"id\":\"3340\"},{\"id\":\"3341\"},{\"id\":\"3342\"},{\"id\":\"3343\"},{\"id\":\"3379\"},{\"id\":\"3396\"},{\"id\":\"3397\"},{\"id\":\"3398\"},{\"id\":\"3399\"},{\"id\":\"3400\"},{\"id\":\"3436\"},{\"id\":\"3453\"},{\"id\":\"3454\"},{\"id\":\"3455\"},{\"id\":\"3456\"},{\"id\":\"3457\"}]},\"id\":\"3517\",\"type\":\"ProxyToolbar\"},{\"attributes\":{\"axis\":{\"id\":\"2162\"},\"grid_line_color\":null,\"ticker\":null},\"id\":\"2165\",\"type\":\"Grid\"},{\"attributes\":{\"fill_alpha\":{\"value\":0.2},\"fill_color\":{\"field\":\"Variable\",\"transform\":{\"id\":\"2182\"}},\"height\":{\"value\":0.8},\"left\":{\"field\":\"bottom\"},\"line_alpha\":{\"value\":0.2},\"right\":{\"field\":\"top\"},\"y\":{\"field\":\"index\"}},\"id\":\"2188\",\"type\":\"HBar\"},{\"attributes\":{\"fill_color\":{\"field\":\"Variable\",\"transform\":{\"id\":\"2182\"}},\"height\":{\"value\":0.8},\"left\":{\"field\":\"bottom\"},\"right\":{\"field\":\"top\"},\"y\":{\"field\":\"index\"}},\"id\":\"2186\",\"type\":\"HBar\"},{\"attributes\":{\"data\":{\"Variable\":[\"Numeric\",\"Others\"],\"bottom\":{\"__ndarray__\":\"AAAAAAAAAACXlpaWlpbGPw==\",\"dtype\":\"float64\",\"order\":\"little\",\"shape\":[2]},\"index\":[\"values\",\"values\"],\"top\":{\"__ndarray__\":\"l5aWlpaWxj8AAAAAAADwPw==\",\"dtype\":\"float64\",\"order\":\"little\",\"shape\":[2]},\"value\":{\"__ndarray__\":\"l5aWlpaWxj9aWlpaWlrqPw==\",\"dtype\":\"float64\",\"order\":\"little\",\"shape\":[2]}},\"selected\":{\"id\":\"2574\"},\"selection_policy\":{\"id\":\"2587\"}},\"id\":\"2573\",\"type\":\"ColumnDataSource\"},{\"attributes\":{\"fill_alpha\":{\"value\":0.1},\"fill_color\":{\"field\":\"Variable\",\"transform\":{\"id\":\"2182\"}},\"height\":{\"value\":0.8},\"left\":{\"field\":\"bottom\"},\"line_alpha\":{\"value\":0.1},\"right\":{\"field\":\"top\"},\"y\":{\"field\":\"index\"}},\"id\":\"2187\",\"type\":\"HBar\"},{\"attributes\":{\"toolbar\":{\"id\":\"3517\"},\"toolbar_location\":\"above\"},\"id\":\"3518\",\"type\":\"ToolbarBox\"},{\"attributes\":{\"source\":{\"id\":\"2183\"}},\"id\":\"2190\",\"type\":\"CDSView\"},{\"attributes\":{\"bottom_units\":\"screen\",\"fill_alpha\":0.5,\"fill_color\":\"lightgrey\",\"left_units\":\"screen\",\"level\":\"overlay\",\"line_alpha\":1.0,\"line_color\":\"black\",\"line_dash\":[4,4],\"line_width\":2,\"right_units\":\"screen\",\"top_units\":\"screen\"},\"id\":\"2564\",\"type\":\"BoxAnnotation\"},{\"attributes\":{\"data_source\":{\"id\":\"2183\"},\"glyph\":{\"id\":\"2186\"},\"hover_glyph\":null,\"muted_glyph\":{\"id\":\"2188\"},\"nonselection_glyph\":{\"id\":\"2187\"},\"selection_glyph\":null,\"view\":{\"id\":\"2190\"}},\"id\":\"2189\",\"type\":\"GlyphRenderer\"},{\"attributes\":{\"children\":[{\"id\":\"3518\"},{\"id\":\"3516\"}]},\"id\":\"3519\",\"type\":\"Column\"},{\"attributes\":{\"data\":{\"Variable\":[\"Unique\",\"Duplicated\"],\"bottom\":{\"__ndarray__\":\"AAAAAAAAAABLYRbz+f/vPw==\",\"dtype\":\"float64\",\"order\":\"little\",\"shape\":[2]},\"index\":[\"values\",\"values\"],\"top\":{\"__ndarray__\":\"S2EW8/n/7z8AAAAAAADwPw==\",\"dtype\":\"float64\",\"order\":\"little\",\"shape\":[2]},\"value\":{\"__ndarray__\":\"S2EW8/n/7z+mMNN6pjPIPg==\",\"dtype\":\"float64\",\"order\":\"little\",\"shape\":[2]}},\"selected\":{\"id\":\"1908\"},\"selection_policy\":{\"id\":\"1921\"}},\"id\":\"1907\",\"type\":\"ColumnDataSource\"},{\"attributes\":{},\"id\":\"2193\",\"type\":\"BasicTickFormatter\"},{\"attributes\":{\"fill_color\":{\"field\":\"Variable\",\"transform\":{\"id\":\"3409\"}},\"height\":{\"value\":0.8},\"left\":{\"field\":\"bottom\"},\"right\":{\"field\":\"top\"},\"y\":{\"field\":\"index\"}},\"id\":\"3413\",\"type\":\"HBar\"},{\"attributes\":{},\"id\":\"2964\",\"type\":\"Selection\"},{\"attributes\":{},\"id\":\"2160\",\"type\":\"CategoricalScale\"},{\"attributes\":{},\"id\":\"1864\",\"type\":\"UnionRenderers\"},{\"attributes\":{\"below\":[{\"id\":\"2219\"}],\"center\":[{\"id\":\"2222\"},{\"id\":\"2225\"},{\"id\":\"2256\"}],\"left\":[{\"id\":\"2223\"}],\"margin\":null,\"min_border_bottom\":10,\"min_border_left\":10,\"min_border_right\":10,\"min_border_top\":10,\"plot_height\":100,\"plot_width\":700,\"renderers\":[{\"id\":\"2246\"}],\"right\":[{\"id\":\"2256\"}],\"sizing_mode\":\"fixed\",\"title\":{\"id\":\"2211\"},\"toolbar\":{\"id\":\"2232\"},\"toolbar_location\":null,\"x_range\":{\"id\":\"1760\"},\"x_scale\":{\"id\":\"2215\"},\"y_range\":{\"id\":\"1761\"},\"y_scale\":{\"id\":\"2217\"}},\"id\":\"2210\",\"subtype\":\"Figure\",\"type\":\"Plot\"},{\"attributes\":{\"axis_label\":\"\",\"bounds\":\"auto\",\"formatter\":{\"id\":\"2193\"},\"major_label_orientation\":\"horizontal\",\"ticker\":{\"id\":\"2201\"}},\"id\":\"2162\",\"type\":\"LinearAxis\"},{\"attributes\":{},\"id\":\"2195\",\"type\":\"CategoricalTickFormatter\"},{\"attributes\":{\"factors\":[\"Numeric\",\"Others\"],\"palette\":[\"#1f77b3\",\"#ff7e0e\"]},\"id\":\"2572\",\"type\":\"CategoricalColorMapper\"},{\"attributes\":{},\"id\":\"3420\",\"type\":\"BasicTickFormatter\"},{\"attributes\":{\"below\":[{\"id\":\"1886\"}],\"center\":[{\"id\":\"1889\"},{\"id\":\"1892\"},{\"id\":\"1923\"}],\"left\":[{\"id\":\"1890\"}],\"margin\":null,\"min_border_bottom\":10,\"min_border_left\":10,\"min_border_right\":10,\"min_border_top\":10,\"plot_height\":100,\"plot_width\":700,\"renderers\":[{\"id\":\"1913\"}],\"right\":[{\"id\":\"1923\"}],\"sizing_mode\":\"fixed\",\"title\":{\"id\":\"1878\"},\"toolbar\":{\"id\":\"1899\"},\"toolbar_location\":null,\"x_range\":{\"id\":\"1760\"},\"x_scale\":{\"id\":\"1882\"},\"y_range\":{\"id\":\"1761\"},\"y_scale\":{\"id\":\"1884\"}},\"id\":\"1877\",\"subtype\":\"Figure\",\"type\":\"Plot\"},{\"attributes\":{},\"id\":\"2197\",\"type\":\"UnionRenderers\"},{\"attributes\":{},\"id\":\"3064\",\"type\":\"PanTool\"},{\"attributes\":{\"items\":[{\"id\":\"2200\"}],\"location\":[0,0]},\"id\":\"2199\",\"type\":\"Legend\"},{\"attributes\":{},\"id\":\"2563\",\"type\":\"ResetTool\"},{\"attributes\":{\"label\":{\"field\":\"Variable\"},\"renderers\":[{\"id\":\"2189\"}]},\"id\":\"2200\",\"type\":\"LegendItem\"},{\"attributes\":{},\"id\":\"1862\",\"type\":\"CategoricalTickFormatter\"},{\"attributes\":{\"axis_label\":\"\",\"bounds\":\"auto\",\"formatter\":{\"id\":\"2975\"},\"major_label_orientation\":\"horizontal\",\"ticker\":{\"id\":\"2947\"}},\"id\":\"2946\",\"type\":\"CategoricalAxis\"},{\"attributes\":{\"items\":[{\"id\":\"1867\"}],\"location\":[0,0]},\"id\":\"1866\",\"type\":\"Legend\"},{\"attributes\":{},\"id\":\"2158\",\"type\":\"LinearScale\"},{\"attributes\":{\"text\":\"missing\",\"text_color\":{\"value\":\"black\"},\"text_font_size\":{\"value\":\"12pt\"}},\"id\":\"2211\",\"type\":\"Title\"},{\"attributes\":{},\"id\":\"3065\",\"type\":\"WheelZoomTool\"},{\"attributes\":{\"ticks\":[0]},\"id\":\"1868\",\"type\":\"FixedTicker\"},{\"attributes\":{},\"id\":\"2561\",\"type\":\"WheelZoomTool\"},{\"attributes\":{\"text\":\"data_types\",\"text_color\":{\"value\":\"black\"},\"text_font_size\":{\"value\":\"12pt\"}},\"id\":\"2154\",\"type\":\"Title\"},{\"attributes\":{\"fill_alpha\":{\"value\":0.1},\"fill_color\":{\"field\":\"Variable\",\"transform\":{\"id\":\"3409\"}},\"height\":{\"value\":0.8},\"left\":{\"field\":\"bottom\"},\"line_alpha\":{\"value\":0.1},\"right\":{\"field\":\"top\"},\"y\":{\"field\":\"index\"}},\"id\":\"3414\",\"type\":\"HBar\"},{\"attributes\":{\"fill_alpha\":{\"value\":0.1},\"fill_color\":{\"field\":\"Variable\",\"transform\":{\"id\":\"1792\"}},\"height\":{\"value\":0.8},\"left\":{\"field\":\"bottom\"},\"line_alpha\":{\"value\":0.1},\"right\":{\"field\":\"top\"},\"y\":{\"field\":\"index\"}},\"id\":\"1797\",\"type\":\"HBar\"},{\"attributes\":{\"active_drag\":\"auto\",\"active_inspect\":\"auto\",\"active_multi\":null,\"active_scroll\":\"auto\",\"active_tap\":\"auto\",\"tools\":[{\"id\":\"1876\"},{\"id\":\"1893\"},{\"id\":\"1894\"},{\"id\":\"1895\"},{\"id\":\"1896\"},{\"id\":\"1897\"}]},\"id\":\"1899\",\"type\":\"Toolbar\"},{\"attributes\":{\"overlay\":{\"id\":\"2564\"}},\"id\":\"2562\",\"type\":\"BoxZoomTool\"},{\"attributes\":{\"factors\":[\"Unique\",\"Duplicated\"],\"palette\":[\"#1f77b3\",\"#ff7e0e\"]},\"id\":\"1906\",\"type\":\"CategoricalColorMapper\"},{\"attributes\":{},\"id\":\"2560\",\"type\":\"PanTool\"},{\"attributes\":{\"axis\":{\"id\":\"2552\"},\"grid_line_color\":null,\"ticker\":null},\"id\":\"2555\",\"type\":\"Grid\"},{\"attributes\":{\"overlay\":{\"id\":\"3068\"}},\"id\":\"3066\",\"type\":\"BoxZoomTool\"},{\"attributes\":{\"ticks\":[0]},\"id\":\"2201\",\"type\":\"FixedTicker\"},{\"attributes\":{\"fill_alpha\":{\"value\":0.2},\"fill_color\":{\"field\":\"Variable\",\"transform\":{\"id\":\"3409\"}},\"height\":{\"value\":0.8},\"left\":{\"field\":\"bottom\"},\"line_alpha\":{\"value\":0.2},\"right\":{\"field\":\"top\"},\"y\":{\"field\":\"index\"}},\"id\":\"3415\",\"type\":\"HBar\"},{\"attributes\":{\"axis\":{\"id\":\"2556\"},\"dimension\":1,\"grid_line_color\":null,\"ticker\":null},\"id\":\"2558\",\"type\":\"Grid\"},{\"attributes\":{\"axis\":{\"id\":\"2276\"},\"grid_line_color\":null,\"ticker\":null},\"id\":\"2279\",\"type\":\"Grid\"},{\"attributes\":{},\"id\":\"2559\",\"type\":\"SaveTool\"},{\"attributes\":{\"source\":{\"id\":\"3410\"}},\"id\":\"3417\",\"type\":\"CDSView\"},{\"attributes\":{},\"id\":\"3063\",\"type\":\"SaveTool\"},{\"attributes\":{\"axis_label\":\"\",\"bounds\":\"auto\",\"formatter\":{\"id\":\"2250\"},\"major_label_orientation\":\"horizontal\",\"ticker\":{\"id\":\"2258\"}},\"id\":\"2219\",\"type\":\"LinearAxis\"},{\"attributes\":{\"callback\":null,\"renderers\":[{\"id\":\"2246\"}],\"tags\":[\"hv_created\"],\"tooltips\":[[\"index\",\"@{index}\"],[\"Variable\",\"@{Variable}\"],[\"value\",\"@{value}\"]]},\"id\":\"2209\",\"type\":\"HoverTool\"},{\"attributes\":{\"below\":[{\"id\":\"2162\"}],\"center\":[{\"id\":\"2165\"},{\"id\":\"2168\"},{\"id\":\"2199\"}],\"left\":[{\"id\":\"2166\"}],\"margin\":null,\"min_border_bottom\":10,\"min_border_left\":10,\"min_border_right\":10,\"min_border_top\":10,\"plot_height\":100,\"plot_width\":700,\"renderers\":[{\"id\":\"2189\"}],\"right\":[{\"id\":\"2199\"}],\"sizing_mode\":\"fixed\",\"title\":{\"id\":\"2154\"},\"toolbar\":{\"id\":\"2175\"},\"toolbar_location\":null,\"x_range\":{\"id\":\"1760\"},\"x_scale\":{\"id\":\"2158\"},\"y_range\":{\"id\":\"1761\"},\"y_scale\":{\"id\":\"2160\"}},\"id\":\"2153\",\"subtype\":\"Figure\",\"type\":\"Plot\"},{\"attributes\":{},\"id\":\"2947\",\"type\":\"CategoricalTicker\"},{\"attributes\":{},\"id\":\"3411\",\"type\":\"Selection\"},{\"attributes\":{\"axis\":{\"id\":\"2609\"},\"grid_line_color\":null,\"ticker\":null},\"id\":\"2612\",\"type\":\"Grid\"},{\"attributes\":{\"axis_label\":\"\",\"bounds\":\"auto\",\"formatter\":{\"id\":\"2307\"},\"major_label_orientation\":\"horizontal\",\"ticker\":{\"id\":\"2315\"}},\"id\":\"2276\",\"type\":\"LinearAxis\"},{\"attributes\":{\"active_drag\":\"auto\",\"active_inspect\":\"auto\",\"active_multi\":null,\"active_scroll\":\"auto\",\"active_tap\":\"auto\",\"tools\":[{\"id\":\"2542\"},{\"id\":\"2559\"},{\"id\":\"2560\"},{\"id\":\"2561\"},{\"id\":\"2562\"},{\"id\":\"2563\"}]},\"id\":\"2565\",\"type\":\"Toolbar\"},{\"attributes\":{\"callback\":null,\"renderers\":[{\"id\":\"2636\"}],\"tags\":[\"hv_created\"],\"tooltips\":[[\"index\",\"@{index}\"],[\"Variable\",\"@{Variable}\"],[\"value\",\"@{value}\"]]},\"id\":\"2599\",\"type\":\"HoverTool\"},{\"attributes\":{},\"id\":\"2217\",\"type\":\"CategoricalScale\"},{\"attributes\":{},\"id\":\"3422\",\"type\":\"CategoricalTickFormatter\"},{\"attributes\":{\"data_source\":{\"id\":\"3410\"},\"glyph\":{\"id\":\"3413\"},\"hover_glyph\":null,\"muted_glyph\":{\"id\":\"3415\"},\"nonselection_glyph\":{\"id\":\"3414\"},\"selection_glyph\":null,\"view\":{\"id\":\"3417\"}},\"id\":\"3416\",\"type\":\"GlyphRenderer\"},{\"attributes\":{\"label\":{\"field\":\"Variable\"},\"renderers\":[{\"id\":\"1856\"}]},\"id\":\"1867\",\"type\":\"LegendItem\"},{\"attributes\":{},\"id\":\"2557\",\"type\":\"CategoricalTicker\"},{\"attributes\":{\"data_source\":{\"id\":\"1850\"},\"glyph\":{\"id\":\"1853\"},\"hover_glyph\":null,\"muted_glyph\":{\"id\":\"1855\"},\"nonselection_glyph\":{\"id\":\"1854\"},\"selection_glyph\":null,\"view\":{\"id\":\"1857\"}},\"id\":\"1856\",\"type\":\"GlyphRenderer\"},{\"attributes\":{},\"id\":\"1860\",\"type\":\"BasicTickFormatter\"},{\"attributes\":{\"fill_alpha\":{\"value\":0.1},\"fill_color\":{\"field\":\"Variable\",\"transform\":{\"id\":\"1849\"}},\"height\":{\"value\":0.8},\"left\":{\"field\":\"bottom\"},\"line_alpha\":{\"value\":0.1},\"right\":{\"field\":\"top\"},\"y\":{\"field\":\"index\"}},\"id\":\"1854\",\"type\":\"HBar\"},{\"attributes\":{\"fill_color\":{\"field\":\"Variable\",\"transform\":{\"id\":\"2296\"}},\"height\":{\"value\":0.8},\"left\":{\"field\":\"bottom\"},\"right\":{\"field\":\"top\"},\"y\":{\"field\":\"index\"}},\"id\":\"2300\",\"type\":\"HBar\"},{\"attributes\":{\"source\":{\"id\":\"1850\"}},\"id\":\"1857\",\"type\":\"CDSView\"},{\"attributes\":{\"axis_label\":\"\",\"bounds\":\"auto\",\"formatter\":{\"id\":\"2585\"},\"major_label_orientation\":\"horizontal\",\"ticker\":{\"id\":\"2557\"}},\"id\":\"2556\",\"type\":\"CategoricalAxis\"},{\"attributes\":{},\"id\":\"1851\",\"type\":\"Selection\"},{\"attributes\":{},\"id\":\"2215\",\"type\":\"LinearScale\"},{\"attributes\":{\"bottom_units\":\"screen\",\"fill_alpha\":0.5,\"fill_color\":\"lightgrey\",\"left_units\":\"screen\",\"level\":\"overlay\",\"line_alpha\":1.0,\"line_color\":\"black\",\"line_dash\":[4,4],\"line_width\":2,\"right_units\":\"screen\",\"top_units\":\"screen\"},\"id\":\"1898\",\"type\":\"BoxAnnotation\"},{\"attributes\":{\"children\":[[{\"id\":\"2153\"},0,0],[{\"id\":\"2210\"},1,0],[{\"id\":\"2267\"},2,0]]},\"id\":\"2346\",\"type\":\"GridBox\"},{\"attributes\":{\"fill_color\":{\"field\":\"Variable\",\"transform\":{\"id\":\"1849\"}},\"height\":{\"value\":0.8},\"left\":{\"field\":\"bottom\"},\"right\":{\"field\":\"top\"},\"y\":{\"field\":\"index\"}},\"id\":\"1853\",\"type\":\"HBar\"},{\"attributes\":{},\"id\":\"2298\",\"type\":\"Selection\"},{\"attributes\":{\"fill_alpha\":{\"value\":0.2},\"fill_color\":{\"field\":\"Variable\",\"transform\":{\"id\":\"1849\"}},\"height\":{\"value\":0.8},\"left\":{\"field\":\"bottom\"},\"line_alpha\":{\"value\":0.2},\"right\":{\"field\":\"top\"},\"y\":{\"field\":\"index\"}},\"id\":\"1855\",\"type\":\"HBar\"},{\"attributes\":{},\"id\":\"1779\",\"type\":\"SaveTool\"},{\"attributes\":{},\"id\":\"2642\",\"type\":\"CategoricalTickFormatter\"},{\"attributes\":{},\"id\":\"2699\",\"type\":\"CategoricalTickFormatter\"},{\"attributes\":{},\"id\":\"3363\",\"type\":\"BasicTickFormatter\"},{\"attributes\":{\"callback\":null,\"renderers\":[{\"id\":\"1856\"}],\"tags\":[\"hv_created\"],\"tooltips\":[[\"index\",\"@{index}\"],[\"Variable\",\"@{Variable}\"],[\"value\",\"@{value}\"]]},\"id\":\"1819\",\"type\":\"HoverTool\"},{\"attributes\":{\"factors\":[\"Numeric\",\"Others\"],\"palette\":[\"#1f77b3\",\"#ff7e0e\"]},\"id\":\"2962\",\"type\":\"CategoricalColorMapper\"},{\"attributes\":{\"fill_alpha\":{\"value\":0.1},\"fill_color\":{\"field\":\"Variable\",\"transform\":{\"id\":\"2296\"}},\"height\":{\"value\":0.8},\"left\":{\"field\":\"bottom\"},\"line_alpha\":{\"value\":0.1},\"right\":{\"field\":\"top\"},\"y\":{\"field\":\"index\"}},\"id\":\"2301\",\"type\":\"HBar\"},{\"attributes\":{},\"id\":\"3365\",\"type\":\"CategoricalTickFormatter\"},{\"attributes\":{},\"id\":\"2607\",\"type\":\"CategoricalScale\"},{\"attributes\":{\"active_drag\":\"auto\",\"active_inspect\":\"auto\",\"active_multi\":null,\"active_scroll\":\"auto\",\"active_tap\":\"auto\",\"tools\":[{\"id\":\"2932\"},{\"id\":\"2949\"},{\"id\":\"2950\"},{\"id\":\"2951\"},{\"id\":\"2952\"},{\"id\":\"2953\"}]},\"id\":\"2955\",\"type\":\"Toolbar\"},{\"attributes\":{},\"id\":\"1777\",\"type\":\"CategoricalTicker\"},{\"attributes\":{},\"id\":\"2605\",\"type\":\"LinearScale\"},{\"attributes\":{},\"id\":\"3367\",\"type\":\"UnionRenderers\"},{\"attributes\":{\"overlay\":{\"id\":\"2954\"}},\"id\":\"2952\",\"type\":\"BoxZoomTool\"},{\"attributes\":{\"below\":[{\"id\":\"3056\"}],\"center\":[{\"id\":\"3059\"},{\"id\":\"3062\"},{\"id\":\"3093\"}],\"left\":[{\"id\":\"3060\"}],\"margin\":null,\"min_border_bottom\":10,\"min_border_left\":10,\"min_border_right\":10,\"min_border_top\":10,\"plot_height\":100,\"plot_width\":700,\"renderers\":[{\"id\":\"3083\"}],\"right\":[{\"id\":\"3093\"}],\"sizing_mode\":\"fixed\",\"title\":{\"id\":\"3048\"},\"toolbar\":{\"id\":\"3069\"},\"toolbar_location\":null,\"x_range\":{\"id\":\"1760\"},\"x_scale\":{\"id\":\"3052\"},\"y_range\":{\"id\":\"1761\"},\"y_scale\":{\"id\":\"3054\"}},\"id\":\"3047\",\"subtype\":\"Figure\",\"type\":\"Plot\"},{\"attributes\":{\"axis\":{\"id\":\"1776\"},\"dimension\":1,\"grid_line_color\":null,\"ticker\":null},\"id\":\"1778\",\"type\":\"Grid\"},{\"attributes\":{\"active_drag\":\"auto\",\"active_inspect\":\"auto\",\"active_multi\":null,\"active_scroll\":\"auto\",\"active_tap\":\"auto\",\"tools\":[{\"id\":\"2989\"},{\"id\":\"3006\"},{\"id\":\"3007\"},{\"id\":\"3008\"},{\"id\":\"3009\"},{\"id\":\"3010\"}]},\"id\":\"3012\",\"type\":\"Toolbar\"},{\"attributes\":{},\"id\":\"3397\",\"type\":\"PanTool\"},{\"attributes\":{},\"id\":\"1807\",\"type\":\"UnionRenderers\"},{\"attributes\":{},\"id\":\"3396\",\"type\":\"SaveTool\"},{\"attributes\":{},\"id\":\"3004\",\"type\":\"CategoricalTicker\"},{\"attributes\":{\"axis_label\":\"\",\"bounds\":\"auto\",\"formatter\":{\"id\":\"2309\"},\"major_label_orientation\":\"horizontal\",\"ticker\":{\"id\":\"2281\"}},\"id\":\"2280\",\"type\":\"CategoricalAxis\"},{\"attributes\":{\"source\":{\"id\":\"2297\"}},\"id\":\"2304\",\"type\":\"CDSView\"},{\"attributes\":{\"fill_alpha\":{\"value\":0.1},\"fill_color\":{\"field\":\"Variable\",\"transform\":{\"id\":\"2686\"}},\"height\":{\"value\":0.8},\"left\":{\"field\":\"bottom\"},\"line_alpha\":{\"value\":0.1},\"right\":{\"field\":\"top\"},\"y\":{\"field\":\"index\"}},\"id\":\"2691\",\"type\":\"HBar\"},{\"attributes\":{\"children\":[{\"id\":\"2348\"},{\"id\":\"2346\"}]},\"id\":\"2349\",\"type\":\"Column\"},{\"attributes\":{\"axis_label\":\"\",\"bounds\":\"auto\",\"formatter\":{\"id\":\"1805\"},\"major_label_orientation\":\"horizontal\",\"ticker\":{\"id\":\"1777\"}},\"id\":\"1776\",\"type\":\"CategoricalAxis\"},{\"attributes\":{\"data\":{\"Variable\":[\"Numeric\",\"Others\"],\"bottom\":{\"__ndarray__\":\"AAAAAAAAAAB7Ce0ltJfgPw==\",\"dtype\":\"float64\",\"order\":\"little\",\"shape\":[2]},\"index\":[\"values\",\"values\"],\"top\":{\"__ndarray__\":\"ewntJbSX4D8AAAAAAADwPw==\",\"dtype\":\"float64\",\"order\":\"little\",\"shape\":[2]},\"value\":{\"__ndarray__\":\"ewntJbSX4D8J7SW0l9DePw==\",\"dtype\":\"float64\",\"order\":\"little\",\"shape\":[2]}},\"selected\":{\"id\":\"2964\"},\"selection_policy\":{\"id\":\"2977\"}},\"id\":\"2963\",\"type\":\"ColumnDataSource\"},{\"attributes\":{},\"id\":\"3021\",\"type\":\"Selection\"},{\"attributes\":{\"toolbar\":{\"id\":\"2347\"},\"toolbar_location\":\"above\"},\"id\":\"2348\",\"type\":\"ToolbarBox\"},{\"attributes\":{\"axis\":{\"id\":\"2666\"},\"grid_line_color\":null,\"ticker\":null},\"id\":\"2669\",\"type\":\"Grid\"},{\"attributes\":{\"toolbars\":[{\"id\":\"2175\"},{\"id\":\"2232\"},{\"id\":\"2289\"}],\"tools\":[{\"id\":\"2152\"},{\"id\":\"2169\"},{\"id\":\"2170\"},{\"id\":\"2171\"},{\"id\":\"2172\"},{\"id\":\"2173\"},{\"id\":\"2209\"},{\"id\":\"2226\"},{\"id\":\"2227\"},{\"id\":\"2228\"},{\"id\":\"2229\"},{\"id\":\"2230\"},{\"id\":\"2266\"},{\"id\":\"2283\"},{\"id\":\"2284\"},{\"id\":\"2285\"},{\"id\":\"2286\"},{\"id\":\"2287\"}]},\"id\":\"2347\",\"type\":\"ProxyToolbar\"},{\"attributes\":{\"axis\":{\"id\":\"1772\"},\"grid_line_color\":null,\"ticker\":null},\"id\":\"1775\",\"type\":\"Grid\"},{\"attributes\":{},\"id\":\"2173\",\"type\":\"ResetTool\"},{\"attributes\":{\"factors\":[\"Available\",\"Missing\"],\"palette\":[\"#1f77b3\",\"#ff7e0e\"]},\"id\":\"3019\",\"type\":\"CategoricalColorMapper\"},{\"attributes\":{},\"id\":\"2697\",\"type\":\"BasicTickFormatter\"},{\"attributes\":{},\"id\":\"2169\",\"type\":\"SaveTool\"},{\"attributes\":{\"axis\":{\"id\":\"2670\"},\"dimension\":1,\"grid_line_color\":null,\"ticker\":null},\"id\":\"2672\",\"type\":\"Grid\"},{\"attributes\":{\"axis_label\":\"\",\"bounds\":\"auto\",\"formatter\":{\"id\":\"3422\"},\"major_label_orientation\":\"horizontal\",\"ticker\":{\"id\":\"3394\"}},\"id\":\"3393\",\"type\":\"CategoricalAxis\"},{\"attributes\":{\"child\":{\"id\":\"2349\"},\"name\":\"last_activity_data\",\"title\":\"last_activity_data\"},\"id\":\"2539\",\"type\":\"Panel\"},{\"attributes\":{\"axis_label\":\"\",\"bounds\":\"auto\",\"formatter\":{\"id\":\"2699\"},\"major_label_orientation\":\"horizontal\",\"ticker\":{\"id\":\"2671\"}},\"id\":\"2670\",\"type\":\"CategoricalAxis\"},{\"attributes\":{},\"id\":\"3394\",\"type\":\"CategoricalTicker\"},{\"attributes\":{},\"id\":\"1908\",\"type\":\"Selection\"},{\"attributes\":{\"axis\":{\"id\":\"3393\"},\"dimension\":1,\"grid_line_color\":null,\"ticker\":null},\"id\":\"3395\",\"type\":\"Grid\"},{\"attributes\":{},\"id\":\"2671\",\"type\":\"CategoricalTicker\"},{\"attributes\":{\"axis\":{\"id\":\"1886\"},\"grid_line_color\":null,\"ticker\":null},\"id\":\"1889\",\"type\":\"Grid\"},{\"attributes\":{\"axis_label\":\"\",\"bounds\":\"auto\",\"formatter\":{\"id\":\"2195\"},\"major_label_orientation\":\"horizontal\",\"ticker\":{\"id\":\"2167\"}},\"id\":\"2166\",\"type\":\"CategoricalAxis\"},{\"attributes\":{\"axis_label\":\"\",\"bounds\":\"auto\",\"formatter\":{\"id\":\"2697\"},\"major_label_orientation\":\"horizontal\",\"ticker\":{\"id\":\"2705\"}},\"id\":\"2666\",\"type\":\"LinearAxis\"},{\"attributes\":{\"below\":[{\"id\":\"1772\"}],\"center\":[{\"id\":\"1775\"},{\"id\":\"1778\"},{\"id\":\"1809\"}],\"left\":[{\"id\":\"1776\"}],\"margin\":null,\"min_border_bottom\":10,\"min_border_left\":10,\"min_border_right\":10,\"min_border_top\":10,\"plot_height\":100,\"plot_width\":700,\"renderers\":[{\"id\":\"1799\"}],\"right\":[{\"id\":\"1809\"}],\"sizing_mode\":\"fixed\",\"title\":{\"id\":\"1764\"},\"toolbar\":{\"id\":\"1785\"},\"toolbar_location\":null,\"x_range\":{\"id\":\"1760\"},\"x_scale\":{\"id\":\"1768\"},\"y_range\":{\"id\":\"1761\"},\"y_scale\":{\"id\":\"1770\"}},\"id\":\"1763\",\"subtype\":\"Figure\",\"type\":\"Plot\"},{\"attributes\":{},\"id\":\"2167\",\"type\":\"CategoricalTicker\"},{\"attributes\":{\"axis_label\":\"\",\"bounds\":\"auto\",\"formatter\":{\"id\":\"1803\"},\"major_label_orientation\":\"horizontal\",\"ticker\":{\"id\":\"1811\"}},\"id\":\"1772\",\"type\":\"LinearAxis\"},{\"attributes\":{\"data_source\":{\"id\":\"2687\"},\"glyph\":{\"id\":\"2690\"},\"hover_glyph\":null,\"muted_glyph\":{\"id\":\"2692\"},\"nonselection_glyph\":{\"id\":\"2691\"},\"selection_glyph\":null,\"view\":{\"id\":\"2694\"}},\"id\":\"2693\",\"type\":\"GlyphRenderer\"},{\"attributes\":{\"fill_alpha\":{\"value\":0.2},\"fill_color\":{\"field\":\"Variable\",\"transform\":{\"id\":\"1906\"}},\"height\":{\"value\":0.8},\"left\":{\"field\":\"bottom\"},\"line_alpha\":{\"value\":0.2},\"right\":{\"field\":\"top\"},\"y\":{\"field\":\"index\"}},\"id\":\"1912\",\"type\":\"HBar\"},{\"attributes\":{\"fill_color\":{\"field\":\"Variable\",\"transform\":{\"id\":\"1906\"}},\"height\":{\"value\":0.8},\"left\":{\"field\":\"bottom\"},\"right\":{\"field\":\"top\"},\"y\":{\"field\":\"index\"}},\"id\":\"1910\",\"type\":\"HBar\"},{\"attributes\":{\"ticks\":[0]},\"id\":\"3485\",\"type\":\"FixedTicker\"},{\"attributes\":{\"callback\":null,\"renderers\":[{\"id\":\"3416\"}],\"tags\":[\"hv_created\"],\"tooltips\":[[\"index\",\"@{index}\"],[\"Variable\",\"@{Variable}\"],[\"value\",\"@{value}\"]]},\"id\":\"3379\",\"type\":\"HoverTool\"},{\"attributes\":{\"fill_alpha\":{\"value\":0.1},\"fill_color\":{\"field\":\"Variable\",\"transform\":{\"id\":\"1906\"}},\"height\":{\"value\":0.8},\"left\":{\"field\":\"bottom\"},\"line_alpha\":{\"value\":0.1},\"right\":{\"field\":\"top\"},\"y\":{\"field\":\"index\"}},\"id\":\"1911\",\"type\":\"HBar\"},{\"attributes\":{\"bottom_units\":\"screen\",\"fill_alpha\":0.5,\"fill_color\":\"lightgrey\",\"left_units\":\"screen\",\"level\":\"overlay\",\"line_alpha\":1.0,\"line_color\":\"black\",\"line_dash\":[4,4],\"line_width\":2,\"right_units\":\"screen\",\"top_units\":\"screen\"},\"id\":\"3011\",\"type\":\"BoxAnnotation\"},{\"attributes\":{},\"id\":\"2662\",\"type\":\"LinearScale\"},{\"attributes\":{},\"id\":\"3385\",\"type\":\"LinearScale\"},{\"attributes\":{\"source\":{\"id\":\"1907\"}},\"id\":\"1914\",\"type\":\"CDSView\"},{\"attributes\":{\"child\":{\"id\":\"3519\"},\"name\":\"web_data\",\"title\":\"web_data\"},\"id\":\"3709\",\"type\":\"Panel\"},{\"attributes\":{},\"id\":\"2953\",\"type\":\"ResetTool\"},{\"attributes\":{},\"id\":\"2170\",\"type\":\"PanTool\"},{\"attributes\":{},\"id\":\"2951\",\"type\":\"WheelZoomTool\"},{\"attributes\":{\"fill_alpha\":{\"value\":0.2},\"fill_color\":{\"field\":\"Variable\",\"transform\":{\"id\":\"2239\"}},\"height\":{\"value\":0.8},\"left\":{\"field\":\"bottom\"},\"line_alpha\":{\"value\":0.2},\"right\":{\"field\":\"top\"},\"y\":{\"field\":\"index\"}},\"id\":\"2245\",\"type\":\"HBar\"},{\"attributes\":{},\"id\":\"2664\",\"type\":\"CategoricalScale\"},{\"attributes\":{},\"id\":\"3387\",\"type\":\"CategoricalScale\"},{\"attributes\":{\"fill_alpha\":{\"value\":0.1},\"fill_color\":{\"field\":\"Variable\",\"transform\":{\"id\":\"2239\"}},\"height\":{\"value\":0.8},\"left\":{\"field\":\"bottom\"},\"line_alpha\":{\"value\":0.1},\"right\":{\"field\":\"top\"},\"y\":{\"field\":\"index\"}},\"id\":\"2244\",\"type\":\"HBar\"},{\"attributes\":{\"data_source\":{\"id\":\"1907\"},\"glyph\":{\"id\":\"1910\"},\"hover_glyph\":null,\"muted_glyph\":{\"id\":\"1912\"},\"nonselection_glyph\":{\"id\":\"1911\"},\"selection_glyph\":null,\"view\":{\"id\":\"1914\"}},\"id\":\"1913\",\"type\":\"GlyphRenderer\"},{\"attributes\":{\"fill_color\":{\"field\":\"Variable\",\"transform\":{\"id\":\"2686\"}},\"height\":{\"value\":0.8},\"left\":{\"field\":\"bottom\"},\"right\":{\"field\":\"top\"},\"y\":{\"field\":\"index\"}},\"id\":\"2690\",\"type\":\"HBar\"},{\"attributes\":{},\"id\":\"2701\",\"type\":\"UnionRenderers\"},{\"attributes\":{\"axis\":{\"id\":\"2166\"},\"dimension\":1,\"grid_line_color\":null,\"ticker\":null},\"id\":\"2168\",\"type\":\"Grid\"},{\"attributes\":{},\"id\":\"1917\",\"type\":\"BasicTickFormatter\"},{\"attributes\":{\"text\":\"duplicate_values\",\"text_color\":{\"value\":\"black\"},\"text_font_size\":{\"value\":\"12pt\"}},\"id\":\"2658\",\"type\":\"Title\"},{\"attributes\":{\"overlay\":{\"id\":\"2174\"}},\"id\":\"2172\",\"type\":\"BoxZoomTool\"},{\"attributes\":{\"label\":{\"field\":\"Variable\"},\"renderers\":[{\"id\":\"1799\"}]},\"id\":\"1810\",\"type\":\"LegendItem\"},{\"attributes\":{\"bottom_units\":\"screen\",\"fill_alpha\":0.5,\"fill_color\":\"lightgrey\",\"left_units\":\"screen\",\"level\":\"overlay\",\"line_alpha\":1.0,\"line_color\":\"black\",\"line_dash\":[4,4],\"line_width\":2,\"right_units\":\"screen\",\"top_units\":\"screen\"},\"id\":\"2954\",\"type\":\"BoxAnnotation\"},{\"attributes\":{\"axis\":{\"id\":\"3389\"},\"grid_line_color\":null,\"ticker\":null},\"id\":\"3392\",\"type\":\"Grid\"},{\"attributes\":{},\"id\":\"1884\",\"type\":\"CategoricalScale\"},{\"attributes\":{},\"id\":\"2281\",\"type\":\"CategoricalTicker\"},{\"attributes\":{\"axis_label\":\"\",\"bounds\":\"auto\",\"formatter\":{\"id\":\"3420\"},\"major_label_orientation\":\"horizontal\",\"ticker\":{\"id\":\"3428\"}},\"id\":\"3389\",\"type\":\"LinearAxis\"},{\"attributes\":{},\"id\":\"1770\",\"type\":\"CategoricalScale\"},{\"attributes\":{},\"id\":\"1919\",\"type\":\"CategoricalTickFormatter\"},{\"attributes\":{},\"id\":\"3061\",\"type\":\"CategoricalTicker\"},{\"attributes\":{\"text\":\"data_types\",\"text_color\":{\"value\":\"black\"},\"text_font_size\":{\"value\":\"12pt\"}},\"id\":\"1764\",\"type\":\"Title\"},{\"attributes\":{\"text\":\"missing\",\"text_color\":{\"value\":\"black\"},\"text_font_size\":{\"value\":\"12pt\"}},\"id\":\"3381\",\"type\":\"Title\"},{\"attributes\":{},\"id\":\"1921\",\"type\":\"UnionRenderers\"},{\"attributes\":{},\"id\":\"1768\",\"type\":\"LinearScale\"},{\"attributes\":{},\"id\":\"3468\",\"type\":\"Selection\"},{\"attributes\":{},\"id\":\"1891\",\"type\":\"CategoricalTicker\"},{\"attributes\":{\"items\":[{\"id\":\"1924\"}],\"location\":[0,0]},\"id\":\"1923\",\"type\":\"Legend\"},{\"attributes\":{\"data_source\":{\"id\":\"2240\"},\"glyph\":{\"id\":\"2243\"},\"hover_glyph\":null,\"muted_glyph\":{\"id\":\"2245\"},\"nonselection_glyph\":{\"id\":\"2244\"},\"selection_glyph\":null,\"view\":{\"id\":\"2247\"}},\"id\":\"2246\",\"type\":\"GlyphRenderer\"},{\"attributes\":{\"children\":[[{\"id\":\"3323\"},0,0],[{\"id\":\"3380\"},1,0],[{\"id\":\"3437\"},2,0]]},\"id\":\"3516\",\"type\":\"GridBox\"},{\"attributes\":{\"below\":[{\"id\":\"2666\"}],\"center\":[{\"id\":\"2669\"},{\"id\":\"2672\"},{\"id\":\"2703\"}],\"left\":[{\"id\":\"2670\"}],\"margin\":null,\"min_border_bottom\":10,\"min_border_left\":10,\"min_border_right\":10,\"min_border_top\":10,\"plot_height\":100,\"plot_width\":700,\"renderers\":[{\"id\":\"2693\"}],\"right\":[{\"id\":\"2703\"}],\"sizing_mode\":\"fixed\",\"title\":{\"id\":\"2658\"},\"toolbar\":{\"id\":\"2679\"},\"toolbar_location\":null,\"x_range\":{\"id\":\"1760\"},\"x_scale\":{\"id\":\"2662\"},\"y_range\":{\"id\":\"1761\"},\"y_scale\":{\"id\":\"2664\"}},\"id\":\"2657\",\"subtype\":\"Figure\",\"type\":\"Plot\"},{\"attributes\":{\"label\":{\"field\":\"Variable\"},\"renderers\":[{\"id\":\"1913\"}]},\"id\":\"1924\",\"type\":\"LegendItem\"},{\"attributes\":{\"axis_label\":\"\",\"bounds\":\"auto\",\"formatter\":{\"id\":\"1917\"},\"major_label_orientation\":\"horizontal\",\"ticker\":{\"id\":\"1925\"}},\"id\":\"1886\",\"type\":\"LinearAxis\"},{\"attributes\":{\"source\":{\"id\":\"2240\"}},\"id\":\"2247\",\"type\":\"CDSView\"},{\"attributes\":{\"fill_alpha\":{\"value\":0.2},\"fill_color\":{\"field\":\"Variable\",\"transform\":{\"id\":\"3466\"}},\"height\":{\"value\":0.8},\"left\":{\"field\":\"bottom\"},\"line_alpha\":{\"value\":0.2},\"right\":{\"field\":\"top\"},\"y\":{\"field\":\"index\"}},\"id\":\"3472\",\"type\":\"HBar\"},{\"attributes\":{\"source\":{\"id\":\"2687\"}},\"id\":\"2694\",\"type\":\"CDSView\"},{\"attributes\":{\"fill_color\":{\"field\":\"Variable\",\"transform\":{\"id\":\"3466\"}},\"height\":{\"value\":0.8},\"left\":{\"field\":\"bottom\"},\"right\":{\"field\":\"top\"},\"y\":{\"field\":\"index\"}},\"id\":\"3470\",\"type\":\"HBar\"},{\"attributes\":{\"below\":[{\"id\":\"3389\"}],\"center\":[{\"id\":\"3392\"},{\"id\":\"3395\"},{\"id\":\"3426\"}],\"left\":[{\"id\":\"3393\"}],\"margin\":null,\"min_border_bottom\":10,\"min_border_left\":10,\"min_border_right\":10,\"min_border_top\":10,\"plot_height\":100,\"plot_width\":700,\"renderers\":[{\"id\":\"3416\"}],\"right\":[{\"id\":\"3426\"}],\"sizing_mode\":\"fixed\",\"title\":{\"id\":\"3381\"},\"toolbar\":{\"id\":\"3402\"},\"toolbar_location\":null,\"x_range\":{\"id\":\"1760\"},\"x_scale\":{\"id\":\"3385\"},\"y_range\":{\"id\":\"1761\"},\"y_scale\":{\"id\":\"3387\"}},\"id\":\"3380\",\"subtype\":\"Figure\",\"type\":\"Plot\"},{\"attributes\":{},\"id\":\"2673\",\"type\":\"SaveTool\"},{\"attributes\":{},\"id\":\"2950\",\"type\":\"PanTool\"},{\"attributes\":{\"fill_alpha\":{\"value\":0.1},\"fill_color\":{\"field\":\"Variable\",\"transform\":{\"id\":\"3466\"}},\"height\":{\"value\":0.8},\"left\":{\"field\":\"bottom\"},\"line_alpha\":{\"value\":0.1},\"right\":{\"field\":\"top\"},\"y\":{\"field\":\"index\"}},\"id\":\"3471\",\"type\":\"HBar\"},{\"attributes\":{\"items\":[{\"id\":\"2704\"}],\"location\":[0,0]},\"id\":\"2703\",\"type\":\"Legend\"},{\"attributes\":{},\"id\":\"2674\",\"type\":\"PanTool\"},{\"attributes\":{\"ticks\":[0]},\"id\":\"2705\",\"type\":\"FixedTicker\"},{\"attributes\":{\"callback\":null,\"renderers\":[{\"id\":\"1799\"}],\"tags\":[\"hv_created\"],\"tooltips\":[[\"index\",\"@{index}\"],[\"Variable\",\"@{Variable}\"],[\"value\",\"@{value}\"]]},\"id\":\"1762\",\"type\":\"HoverTool\"},{\"attributes\":{},\"id\":\"2949\",\"type\":\"SaveTool\"},{\"attributes\":{\"source\":{\"id\":\"3467\"}},\"id\":\"3474\",\"type\":\"CDSView\"},{\"attributes\":{\"bottom_units\":\"screen\",\"fill_alpha\":0.5,\"fill_color\":\"lightgrey\",\"left_units\":\"screen\",\"level\":\"overlay\",\"line_alpha\":1.0,\"line_color\":\"black\",\"line_dash\":[4,4],\"line_width\":2,\"right_units\":\"screen\",\"top_units\":\"screen\"},\"id\":\"2288\",\"type\":\"BoxAnnotation\"},{\"attributes\":{\"factors\":[\"values\"],\"tags\":[[[\"index\",\"index\",null]]]},\"id\":\"1761\",\"type\":\"FactorRange\"},{\"attributes\":{\"label\":{\"field\":\"Variable\"},\"renderers\":[{\"id\":\"2693\"}]},\"id\":\"2704\",\"type\":\"LegendItem\"},{\"attributes\":{},\"id\":\"2675\",\"type\":\"WheelZoomTool\"},{\"attributes\":{\"data_source\":{\"id\":\"3467\"},\"glyph\":{\"id\":\"3470\"},\"hover_glyph\":null,\"muted_glyph\":{\"id\":\"3472\"},\"nonselection_glyph\":{\"id\":\"3471\"},\"selection_glyph\":null,\"view\":{\"id\":\"3474\"}},\"id\":\"3473\",\"type\":\"GlyphRenderer\"},{\"attributes\":{\"end\":6.525146396396396,\"reset_end\":1.0,\"reset_start\":0.0,\"start\":-5.525146396396396,\"tags\":[[[\"value\",\"value\",null]]]},\"id\":\"1760\",\"type\":\"Range1d\"},{\"attributes\":{},\"id\":\"3477\",\"type\":\"BasicTickFormatter\"},{\"attributes\":{},\"id\":\"2287\",\"type\":\"ResetTool\"},{\"attributes\":{\"overlay\":{\"id\":\"2678\"}},\"id\":\"2676\",\"type\":\"BoxZoomTool\"},{\"attributes\":{\"factors\":[\"Unique\",\"Duplicated\"],\"palette\":[\"#1f77b3\",\"#ff7e0e\"]},\"id\":\"2296\",\"type\":\"CategoricalColorMapper\"},{\"attributes\":{},\"id\":\"1780\",\"type\":\"PanTool\"},{\"attributes\":{},\"id\":\"2677\",\"type\":\"ResetTool\"},{\"attributes\":{\"fill_alpha\":{\"value\":0.2},\"fill_color\":{\"field\":\"Variable\",\"transform\":{\"id\":\"2686\"}},\"height\":{\"value\":0.8},\"left\":{\"field\":\"bottom\"},\"line_alpha\":{\"value\":0.2},\"right\":{\"field\":\"top\"},\"y\":{\"field\":\"index\"}},\"id\":\"2692\",\"type\":\"HBar\"},{\"attributes\":{},\"id\":\"1781\",\"type\":\"WheelZoomTool\"},{\"attributes\":{\"ticks\":[0]},\"id\":\"1925\",\"type\":\"FixedTicker\"},{\"attributes\":{\"data\":{\"Variable\":[\"Numeric\",\"Others\"],\"bottom\":{\"__ndarray__\":\"AAAAAAAAAABVVVVVVVW1Pw==\",\"dtype\":\"float64\",\"order\":\"little\",\"shape\":[2]},\"index\":[\"values\",\"values\"],\"top\":{\"__ndarray__\":\"VVVVVVVVtT8AAAAAAADwPw==\",\"dtype\":\"float64\",\"order\":\"little\",\"shape\":[2]},\"value\":{\"__ndarray__\":\"VVVVVVVVtT9VVVVVVVXtPw==\",\"dtype\":\"float64\",\"order\":\"little\",\"shape\":[2]}},\"selected\":{\"id\":\"2184\"},\"selection_policy\":{\"id\":\"2197\"}},\"id\":\"2183\",\"type\":\"ColumnDataSource\"},{\"attributes\":{},\"id\":\"3479\",\"type\":\"CategoricalTickFormatter\"},{\"attributes\":{},\"id\":\"2688\",\"type\":\"Selection\"},{\"attributes\":{\"toolbars\":[{\"id\":\"1785\"},{\"id\":\"1842\"},{\"id\":\"1899\"}],\"tools\":[{\"id\":\"1762\"},{\"id\":\"1779\"},{\"id\":\"1780\"},{\"id\":\"1781\"},{\"id\":\"1782\"},{\"id\":\"1783\"},{\"id\":\"1819\"},{\"id\":\"1836\"},{\"id\":\"1837\"},{\"id\":\"1838\"},{\"id\":\"1839\"},{\"id\":\"1840\"},{\"id\":\"1876\"},{\"id\":\"1893\"},{\"id\":\"1894\"},{\"id\":\"1895\"},{\"id\":\"1896\"},{\"id\":\"1897\"}]},\"id\":\"1957\",\"type\":\"ProxyToolbar\"},{\"attributes\":{\"active_drag\":\"auto\",\"active_inspect\":\"auto\",\"active_multi\":null,\"active_scroll\":\"auto\",\"active_tap\":\"auto\",\"tools\":[{\"id\":\"2152\"},{\"id\":\"2169\"},{\"id\":\"2170\"},{\"id\":\"2171\"},{\"id\":\"2172\"},{\"id\":\"2173\"}]},\"id\":\"2175\",\"type\":\"Toolbar\"},{\"attributes\":{},\"id\":\"1783\",\"type\":\"ResetTool\"},{\"attributes\":{\"items\":[{\"id\":\"1810\"}],\"location\":[0,0]},\"id\":\"1809\",\"type\":\"Legend\"},{\"attributes\":{},\"id\":\"3481\",\"type\":\"UnionRenderers\"},{\"attributes\":{\"data\":{\"Variable\":[\"Unique\",\"Duplicated\"],\"bottom\":{\"__ndarray__\":\"AAAAAAAAAAAAAAAAAADwPw==\",\"dtype\":\"float64\",\"order\":\"little\",\"shape\":[2]},\"index\":[\"values\",\"values\"],\"top\":{\"__ndarray__\":\"AAAAAAAA8D8AAAAAAADwPw==\",\"dtype\":\"float64\",\"order\":\"little\",\"shape\":[2]},\"value\":{\"__ndarray__\":\"AAAAAAAA8D8AAAAAAAAAAA==\",\"dtype\":\"float64\",\"order\":\"little\",\"shape\":[2]}},\"selected\":{\"id\":\"2688\"},\"selection_policy\":{\"id\":\"2701\"}},\"id\":\"2687\",\"type\":\"ColumnDataSource\"},{\"attributes\":{\"axis\":{\"id\":\"1890\"},\"dimension\":1,\"grid_line_color\":null,\"ticker\":null},\"id\":\"1892\",\"type\":\"Grid\"},{\"attributes\":{\"data\":{\"Variable\":[\"Available\",\"Missing\"],\"bottom\":{\"__ndarray__\":\"AAAAAAAAAAAAAAAAAADwPw==\",\"dtype\":\"float64\",\"order\":\"little\",\"shape\":[2]},\"index\":[\"values\",\"values\"],\"top\":{\"__ndarray__\":\"AAAAAAAA8D8AAAAAAADwPw==\",\"dtype\":\"float64\",\"order\":\"little\",\"shape\":[2]},\"value\":{\"__ndarray__\":\"AAAAAAAA8D8AAAAAAAAAAA==\",\"dtype\":\"float64\",\"order\":\"little\",\"shape\":[2]}},\"selected\":{\"id\":\"3411\"},\"selection_policy\":{\"id\":\"3424\"}},\"id\":\"3410\",\"type\":\"ColumnDataSource\"},{\"attributes\":{},\"id\":\"2631\",\"type\":\"Selection\"},{\"attributes\":{\"callback\":null,\"renderers\":[{\"id\":\"2303\"}],\"tags\":[\"hv_created\"],\"tooltips\":[[\"index\",\"@{index}\"],[\"Variable\",\"@{Variable}\"],[\"value\",\"@{value}\"]]},\"id\":\"2266\",\"type\":\"HoverTool\"},{\"attributes\":{\"items\":[{\"id\":\"3484\"}],\"location\":[0,0]},\"id\":\"3483\",\"type\":\"Legend\"},{\"attributes\":{},\"id\":\"2171\",\"type\":\"WheelZoomTool\"},{\"attributes\":{\"axis\":{\"id\":\"3060\"},\"dimension\":1,\"grid_line_color\":null,\"ticker\":null},\"id\":\"3062\",\"type\":\"Grid\"},{\"attributes\":{\"ticks\":[0]},\"id\":\"1811\",\"type\":\"FixedTicker\"},{\"attributes\":{\"toolbar\":{\"id\":\"1957\"},\"toolbar_location\":\"above\"},\"id\":\"1958\",\"type\":\"ToolbarBox\"},{\"attributes\":{\"label\":{\"field\":\"Variable\"},\"renderers\":[{\"id\":\"3473\"}]},\"id\":\"3484\",\"type\":\"LegendItem\"},{\"attributes\":{\"factors\":[\"Numeric\",\"Others\"],\"palette\":[\"#1f77b3\",\"#ff7e0e\"]},\"id\":\"1792\",\"type\":\"CategoricalColorMapper\"},{\"attributes\":{\"factors\":[\"Available\",\"Missing\"],\"palette\":[\"#1f77b3\",\"#ff7e0e\"]},\"id\":\"1849\",\"type\":\"CategoricalColorMapper\"},{\"attributes\":{},\"id\":\"2995\",\"type\":\"LinearScale\"},{\"attributes\":{\"bottom_units\":\"screen\",\"fill_alpha\":0.5,\"fill_color\":\"lightgrey\",\"left_units\":\"screen\",\"level\":\"overlay\",\"line_alpha\":1.0,\"line_color\":\"black\",\"line_dash\":[4,4],\"line_width\":2,\"right_units\":\"screen\",\"top_units\":\"screen\"},\"id\":\"1784\",\"type\":\"BoxAnnotation\"},{\"attributes\":{},\"id\":\"3398\",\"type\":\"WheelZoomTool\"},{\"attributes\":{\"overlay\":{\"id\":\"2288\"}},\"id\":\"2286\",\"type\":\"BoxZoomTool\"},{\"attributes\":{\"overlay\":{\"id\":\"3401\"}},\"id\":\"3399\",\"type\":\"BoxZoomTool\"},{\"attributes\":{\"fill_alpha\":{\"value\":0.2},\"fill_color\":{\"field\":\"Variable\",\"transform\":{\"id\":\"2629\"}},\"height\":{\"value\":0.8},\"left\":{\"field\":\"bottom\"},\"line_alpha\":{\"value\":0.2},\"right\":{\"field\":\"top\"},\"y\":{\"field\":\"index\"}},\"id\":\"2635\",\"type\":\"HBar\"},{\"attributes\":{\"axis\":{\"id\":\"2946\"},\"dimension\":1,\"grid_line_color\":null,\"ticker\":null},\"id\":\"2948\",\"type\":\"Grid\"},{\"attributes\":{\"children\":[{\"id\":\"1958\"},{\"id\":\"1956\"}]},\"id\":\"1959\",\"type\":\"Column\"},{\"attributes\":{\"fill_color\":{\"field\":\"Variable\",\"transform\":{\"id\":\"2629\"}},\"height\":{\"value\":0.8},\"left\":{\"field\":\"bottom\"},\"right\":{\"field\":\"top\"},\"y\":{\"field\":\"index\"}},\"id\":\"2633\",\"type\":\"HBar\"},{\"attributes\":{},\"id\":\"3400\",\"type\":\"ResetTool\"},{\"attributes\":{\"fill_alpha\":{\"value\":0.1},\"fill_color\":{\"field\":\"Variable\",\"transform\":{\"id\":\"2629\"}},\"height\":{\"value\":0.8},\"left\":{\"field\":\"bottom\"},\"line_alpha\":{\"value\":0.1},\"right\":{\"field\":\"top\"},\"y\":{\"field\":\"index\"}},\"id\":\"2634\",\"type\":\"HBar\"},{\"attributes\":{\"source\":{\"id\":\"2630\"}},\"id\":\"2637\",\"type\":\"CDSView\"},{\"attributes\":{\"factors\":[\"Numeric\",\"Others\"],\"palette\":[\"#1f77b3\",\"#ff7e0e\"]},\"id\":\"2182\",\"type\":\"CategoricalColorMapper\"},{\"attributes\":{\"data_source\":{\"id\":\"2630\"},\"glyph\":{\"id\":\"2633\"},\"hover_glyph\":null,\"muted_glyph\":{\"id\":\"2635\"},\"nonselection_glyph\":{\"id\":\"2634\"},\"selection_glyph\":null,\"view\":{\"id\":\"2637\"}},\"id\":\"2636\",\"type\":\"GlyphRenderer\"},{\"attributes\":{\"bottom_units\":\"screen\",\"fill_alpha\":0.5,\"fill_color\":\"lightgrey\",\"left_units\":\"screen\",\"level\":\"overlay\",\"line_alpha\":1.0,\"line_color\":\"black\",\"line_dash\":[4,4],\"line_width\":2,\"right_units\":\"screen\",\"top_units\":\"screen\"},\"id\":\"2174\",\"type\":\"BoxAnnotation\"},{\"attributes\":{},\"id\":\"2640\",\"type\":\"BasicTickFormatter\"},{\"attributes\":{\"bottom_units\":\"screen\",\"fill_alpha\":0.5,\"fill_color\":\"lightgrey\",\"left_units\":\"screen\",\"level\":\"overlay\",\"line_alpha\":1.0,\"line_color\":\"black\",\"line_dash\":[4,4],\"line_width\":2,\"right_units\":\"screen\",\"top_units\":\"screen\"},\"id\":\"3401\",\"type\":\"BoxAnnotation\"},{\"attributes\":{\"active_drag\":\"auto\",\"active_inspect\":\"auto\",\"active_multi\":null,\"active_scroll\":\"auto\",\"active_tap\":\"auto\",\"tools\":[{\"id\":\"1762\"},{\"id\":\"1779\"},{\"id\":\"1780\"},{\"id\":\"1781\"},{\"id\":\"1782\"},{\"id\":\"1783\"}]},\"id\":\"1785\",\"type\":\"Toolbar\"},{\"attributes\":{\"active_drag\":\"auto\",\"active_inspect\":\"auto\",\"active_multi\":null,\"active_scroll\":\"auto\",\"active_tap\":\"auto\",\"tools\":[{\"id\":\"2266\"},{\"id\":\"2283\"},{\"id\":\"2284\"},{\"id\":\"2285\"},{\"id\":\"2286\"},{\"id\":\"2287\"}]},\"id\":\"2289\",\"type\":\"Toolbar\"},{\"attributes\":{\"label\":{\"field\":\"Variable\"},\"renderers\":[{\"id\":\"2246\"}]},\"id\":\"2257\",\"type\":\"LegendItem\"},{\"attributes\":{},\"id\":\"2307\",\"type\":\"BasicTickFormatter\"},{\"attributes\":{\"axis_label\":\"\",\"bounds\":\"auto\",\"formatter\":{\"id\":\"1919\"},\"major_label_orientation\":\"horizontal\",\"ticker\":{\"id\":\"1891\"}},\"id\":\"1890\",\"type\":\"CategoricalAxis\"},{\"attributes\":{\"label\":{\"field\":\"Variable\"},\"renderers\":[{\"id\":\"2579\"}]},\"id\":\"2590\",\"type\":\"LegendItem\"}],\"root_ids\":[\"1759\",\"4025\"]},\"title\":\"Bokeh Application\",\"version\":\"2.2.3\"}};\n",
       "    var render_items = [{\"docid\":\"bb7bdc41-ba10-4f23-a33f-a4bff7e831d5\",\"root_ids\":[\"1759\"],\"roots\":{\"1759\":\"b38e5d92-6284-4d6c-8e05-2d9055246c3e\"}}];\n",
       "    root.Bokeh.embed.embed_items_notebook(docs_json, render_items);\n",
       "  }\n",
       "  if (root.Bokeh !== undefined && root.Bokeh.Panel !== undefined) {\n",
       "    embed_document(root);\n",
       "  } else {\n",
       "    var attempts = 0;\n",
       "    var timer = setInterval(function(root) {\n",
       "      if (root.Bokeh !== undefined && root.Bokeh.Panel !== undefined) {\n",
       "        clearInterval(timer);\n",
       "        embed_document(root);\n",
       "      } else if (document.readyState == \"complete\") {\n",
       "        attempts++;\n",
       "        if (attempts > 100) {\n",
       "          clearInterval(timer);\n",
       "          console.log(\"Bokeh: ERROR: Unable to run BokehJS code because BokehJS library is missing\");\n",
       "        }\n",
       "      }\n",
       "    }, 10, root)\n",
       "  }\n",
       "})(window);</script>"
      ],
      "text/plain": [
       "Tabs\n",
       "    [0] HoloViews(Layout, name='call_data')\n",
       "    [1] HoloViews(Layout, name='last_activity_data')\n",
       "    [2] HoloViews(Layout, name='booking_data')\n",
       "    [3] HoloViews(Layout, name='consumer_data')\n",
       "    [4] HoloViews(Layout, name='web_data')"
      ]
     },
     "execution_count": 20,
     "metadata": {
      "application/vnd.holoviews_exec.v0+json": {
       "id": "1759"
      }
     },
     "output_type": "execute_result"
    }
   ],
   "source": [
    "%%time\n",
    "utils.display_as_tabs([(k, eda.plot_health(v)) for k,v in data.items()])"
   ]
  },
  {
   "cell_type": "markdown",
   "metadata": {},
   "source": [
    "# Missing values Plot"
   ]
  },
  {
   "cell_type": "code",
   "execution_count": 21,
   "metadata": {},
   "outputs": [
    {
     "name": "stdout",
     "output_type": "stream",
     "text": [
      "Wall time: 38.9 s\n"
     ]
    },
    {
     "data": {},
     "metadata": {},
     "output_type": "display_data"
    },
    {
     "data": {},
     "metadata": {},
     "output_type": "display_data"
    },
    {
     "data": {
      "application/vnd.holoviews_exec.v0+json": "",
      "text/html": [
       "<div id='4551'>\n",
       "\n",
       "\n",
       "\n",
       "\n",
       "\n",
       "  <div class=\"bk-root\" id=\"5dc3a62c-665b-44cf-b2ac-4ad6bb282f24\" data-root-id=\"4551\"></div>\n",
       "</div>\n",
       "<script type=\"application/javascript\">(function(root) {\n",
       "  function embed_document(root) {\n",
       "    var docs_json = {\"d3cf7ad6-59ba-478e-9f2a-3663aa8d9892\":{\"roots\":{\"references\":[{\"attributes\":{\"callback\":null,\"renderers\":[{\"id\":\"4590\"}],\"tags\":[\"hv_created\"],\"tooltips\":[[\"index\",\"@{index}\"],[\"0\",\"@{A_0}\"]]},\"id\":\"4554\",\"type\":\"HoverTool\"},{\"attributes\":{\"below\":[{\"id\":\"4686\"}],\"center\":[{\"id\":\"4688\"},{\"id\":\"4692\"}],\"left\":[{\"id\":\"4689\"}],\"margin\":[5,5,5,5],\"min_border_bottom\":10,\"min_border_left\":10,\"min_border_right\":10,\"min_border_top\":10,\"plot_height\":300,\"plot_width\":700,\"renderers\":[{\"id\":\"4712\"}],\"sizing_mode\":\"fixed\",\"title\":{\"id\":\"4678\"},\"toolbar\":{\"id\":\"4699\"},\"x_range\":{\"id\":\"4552\"},\"x_scale\":{\"id\":\"4682\"},\"y_range\":{\"id\":\"4553\"},\"y_scale\":{\"id\":\"4684\"}},\"id\":\"4677\",\"subtype\":\"Figure\",\"type\":\"Plot\"},{\"attributes\":{\"axis_label\":\"# of missing observations\",\"bounds\":\"auto\",\"formatter\":{\"id\":\"4714\"},\"major_label_orientation\":\"horizontal\",\"ticker\":{\"id\":\"4687\"}},\"id\":\"4686\",\"type\":\"CategoricalAxis\"},{\"attributes\":{\"fill_color\":{\"value\":\"#1f77b3\"},\"top\":{\"field\":\"A_0\"},\"width\":{\"value\":0.8},\"x\":{\"field\":\"index\"}},\"id\":\"4648\",\"type\":\"VBar\"},{\"attributes\":{\"data\":{\"A_0\":[13,2,1,0,0,0,0,1],\"index\":[\"No Missing\",\"0-5%\",\"5-10%\",\"10-20%\",\"20-30%\",\"30-40%\",\"40-50%\",\"50-100%\"]},\"selected\":{\"id\":\"4707\"},\"selection_policy\":{\"id\":\"4724\"}},\"id\":\"4706\",\"type\":\"ColumnDataSource\"},{\"attributes\":{\"source\":{\"id\":\"4645\"}},\"id\":\"4652\",\"type\":\"CDSView\"},{\"attributes\":{},\"id\":\"4714\",\"type\":\"CategoricalTickFormatter\"},{\"attributes\":{\"fill_alpha\":{\"value\":0.2},\"fill_color\":{\"value\":\"#1f77b3\"},\"line_alpha\":{\"value\":0.2},\"top\":{\"field\":\"A_0\"},\"width\":{\"value\":0.8},\"x\":{\"field\":\"index\"}},\"id\":\"4650\",\"type\":\"VBar\"},{\"attributes\":{\"axis\":{\"id\":\"4625\"},\"grid_line_color\":null,\"ticker\":null},\"id\":\"4627\",\"type\":\"Grid\"},{\"attributes\":{\"fill_alpha\":{\"value\":0.1},\"fill_color\":{\"value\":\"#1f77b3\"},\"line_alpha\":{\"value\":0.1},\"top\":{\"field\":\"A_0\"},\"width\":{\"value\":0.8},\"x\":{\"field\":\"index\"}},\"id\":\"4649\",\"type\":\"VBar\"},{\"attributes\":{\"fill_alpha\":{\"value\":0.2},\"fill_color\":{\"value\":\"#1f77b3\"},\"line_alpha\":{\"value\":0.2},\"top\":{\"field\":\"A_0\"},\"width\":{\"value\":0.8},\"x\":{\"field\":\"index\"}},\"id\":\"4711\",\"type\":\"VBar\"},{\"attributes\":{\"callback\":null,\"renderers\":[{\"id\":\"4834\"}],\"tags\":[\"hv_created\"],\"tooltips\":[[\"index\",\"@{index}\"],[\"0\",\"@{A_0}\"]]},\"id\":\"4798\",\"type\":\"HoverTool\"},{\"attributes\":{\"axis_label\":\"# of missing observations\",\"bounds\":\"auto\",\"formatter\":{\"id\":\"4653\"},\"major_label_orientation\":\"horizontal\",\"ticker\":{\"id\":\"4626\"}},\"id\":\"4625\",\"type\":\"CategoricalAxis\"},{\"attributes\":{\"data_source\":{\"id\":\"4645\"},\"glyph\":{\"id\":\"4648\"},\"hover_glyph\":null,\"muted_glyph\":{\"id\":\"4650\"},\"nonselection_glyph\":{\"id\":\"4649\"},\"selection_glyph\":null,\"view\":{\"id\":\"4652\"}},\"id\":\"4651\",\"type\":\"GlyphRenderer\"},{\"attributes\":{\"data_source\":{\"id\":\"4767\"},\"glyph\":{\"id\":\"4770\"},\"hover_glyph\":null,\"muted_glyph\":{\"id\":\"4772\"},\"nonselection_glyph\":{\"id\":\"4771\"},\"selection_glyph\":null,\"view\":{\"id\":\"4774\"}},\"id\":\"4773\",\"type\":\"GlyphRenderer\"},{\"attributes\":{},\"id\":\"4758\",\"type\":\"ResetTool\"},{\"attributes\":{},\"id\":\"4602\",\"type\":\"UnionRenderers\"},{\"attributes\":{},\"id\":\"4626\",\"type\":\"CategoricalTicker\"},{\"attributes\":{},\"id\":\"4623\",\"type\":\"LinearScale\"},{\"attributes\":{\"below\":[{\"id\":\"4808\"}],\"center\":[{\"id\":\"4810\"},{\"id\":\"4814\"}],\"left\":[{\"id\":\"4811\"}],\"margin\":[5,5,5,5],\"min_border_bottom\":10,\"min_border_left\":10,\"min_border_right\":10,\"min_border_top\":10,\"plot_height\":300,\"plot_width\":700,\"renderers\":[{\"id\":\"4834\"}],\"sizing_mode\":\"fixed\",\"title\":{\"id\":\"4800\"},\"toolbar\":{\"id\":\"4821\"},\"x_range\":{\"id\":\"4552\"},\"x_scale\":{\"id\":\"4804\"},\"y_range\":{\"id\":\"4553\"},\"y_scale\":{\"id\":\"4806\"}},\"id\":\"4799\",\"subtype\":\"Figure\",\"type\":\"Plot\"},{\"attributes\":{\"text\":\"Missing Variables\",\"text_color\":{\"value\":\"black\"},\"text_font_size\":{\"value\":\"12pt\"}},\"id\":\"4617\",\"type\":\"Title\"},{\"attributes\":{\"active_drag\":\"auto\",\"active_inspect\":\"auto\",\"active_multi\":null,\"active_scroll\":\"auto\",\"active_tap\":\"auto\",\"tools\":[{\"id\":\"4737\"},{\"id\":\"4754\"},{\"id\":\"4755\"},{\"id\":\"4756\"},{\"id\":\"4757\"},{\"id\":\"4758\"}]},\"id\":\"4760\",\"type\":\"Toolbar\"},{\"attributes\":{},\"id\":\"4621\",\"type\":\"CategoricalScale\"},{\"attributes\":{\"data\":{\"A_0\":[6,1,0,0,0,0,0,0],\"index\":[\"No Missing\",\"0-5%\",\"5-10%\",\"10-20%\",\"20-30%\",\"30-40%\",\"40-50%\",\"50-100%\"]},\"selected\":{\"id\":\"4585\"},\"selection_policy\":{\"id\":\"4602\"}},\"id\":\"4584\",\"type\":\"ColumnDataSource\"},{\"attributes\":{\"below\":[{\"id\":\"4564\"}],\"center\":[{\"id\":\"4566\"},{\"id\":\"4570\"}],\"left\":[{\"id\":\"4567\"}],\"margin\":[5,5,5,5],\"min_border_bottom\":10,\"min_border_left\":10,\"min_border_right\":10,\"min_border_top\":10,\"plot_height\":300,\"plot_width\":700,\"renderers\":[{\"id\":\"4590\"}],\"sizing_mode\":\"fixed\",\"title\":{\"id\":\"4556\"},\"toolbar\":{\"id\":\"4577\"},\"x_range\":{\"id\":\"4552\"},\"x_scale\":{\"id\":\"4560\"},\"y_range\":{\"id\":\"4553\"},\"y_scale\":{\"id\":\"4562\"}},\"id\":\"4555\",\"subtype\":\"Figure\",\"type\":\"Plot\"},{\"attributes\":{\"text\":\"Missing Variables\",\"text_color\":{\"value\":\"black\"},\"text_font_size\":{\"value\":\"12pt\"}},\"id\":\"4800\",\"type\":\"Title\"},{\"attributes\":{},\"id\":\"4716\",\"type\":\"BasicTickFormatter\"},{\"attributes\":{\"overlay\":{\"id\":\"4759\"}},\"id\":\"4757\",\"type\":\"BoxZoomTool\"},{\"attributes\":{},\"id\":\"4687\",\"type\":\"CategoricalTicker\"},{\"attributes\":{\"source\":{\"id\":\"4706\"}},\"id\":\"4713\",\"type\":\"CDSView\"},{\"attributes\":{},\"id\":\"4694\",\"type\":\"PanTool\"},{\"attributes\":{\"text\":\"Missing Variables\",\"text_color\":{\"value\":\"black\"},\"text_font_size\":{\"value\":\"12pt\"}},\"id\":\"4556\",\"type\":\"Title\"},{\"attributes\":{},\"id\":\"4804\",\"type\":\"CategoricalScale\"},{\"attributes\":{},\"id\":\"4653\",\"type\":\"CategoricalTickFormatter\"},{\"attributes\":{\"bottom_units\":\"screen\",\"fill_alpha\":0.5,\"fill_color\":\"lightgrey\",\"left_units\":\"screen\",\"level\":\"overlay\",\"line_alpha\":1.0,\"line_color\":\"black\",\"line_dash\":[4,4],\"line_width\":2,\"right_units\":\"screen\",\"top_units\":\"screen\"},\"id\":\"4759\",\"type\":\"BoxAnnotation\"},{\"attributes\":{},\"id\":\"4806\",\"type\":\"LinearScale\"},{\"attributes\":{},\"id\":\"4655\",\"type\":\"BasicTickFormatter\"},{\"attributes\":{\"data\":{\"A_0\":[10,1,0,1,0,0,0,0],\"index\":[\"No Missing\",\"0-5%\",\"5-10%\",\"10-20%\",\"20-30%\",\"30-40%\",\"40-50%\",\"50-100%\"]},\"selected\":{\"id\":\"4646\"},\"selection_policy\":{\"id\":\"4663\"}},\"id\":\"4645\",\"type\":\"ColumnDataSource\"},{\"attributes\":{\"below\":[{\"id\":\"4625\"}],\"center\":[{\"id\":\"4627\"},{\"id\":\"4631\"}],\"left\":[{\"id\":\"4628\"}],\"margin\":[5,5,5,5],\"min_border_bottom\":10,\"min_border_left\":10,\"min_border_right\":10,\"min_border_top\":10,\"plot_height\":300,\"plot_width\":700,\"renderers\":[{\"id\":\"4651\"}],\"sizing_mode\":\"fixed\",\"title\":{\"id\":\"4617\"},\"toolbar\":{\"id\":\"4638\"},\"x_range\":{\"id\":\"4552\"},\"x_scale\":{\"id\":\"4621\"},\"y_range\":{\"id\":\"4553\"},\"y_scale\":{\"id\":\"4623\"}},\"id\":\"4616\",\"subtype\":\"Figure\",\"type\":\"Plot\"},{\"attributes\":{},\"id\":\"4560\",\"type\":\"CategoricalScale\"},{\"attributes\":{},\"id\":\"4562\",\"type\":\"LinearScale\"},{\"attributes\":{\"axis_label\":\"# of missing observations\",\"bounds\":\"auto\",\"formatter\":{\"id\":\"4836\"},\"major_label_orientation\":\"horizontal\",\"ticker\":{\"id\":\"4809\"}},\"id\":\"4808\",\"type\":\"CategoricalAxis\"},{\"attributes\":{\"axis_label\":\"# of missing observations\",\"bounds\":\"auto\",\"formatter\":{\"id\":\"4592\"},\"major_label_orientation\":\"horizontal\",\"ticker\":{\"id\":\"4565\"}},\"id\":\"4564\",\"type\":\"CategoricalAxis\"},{\"attributes\":{},\"id\":\"4809\",\"type\":\"CategoricalTicker\"},{\"attributes\":{\"axis\":{\"id\":\"4808\"},\"grid_line_color\":null,\"ticker\":null},\"id\":\"4810\",\"type\":\"Grid\"},{\"attributes\":{},\"id\":\"4565\",\"type\":\"CategoricalTicker\"},{\"attributes\":{},\"id\":\"4768\",\"type\":\"Selection\"},{\"attributes\":{\"child\":{\"id\":\"4799\"},\"name\":\"web_data\",\"title\":\"web_data\"},\"id\":\"4856\",\"type\":\"Panel\"},{\"attributes\":{\"axis\":{\"id\":\"4564\"},\"grid_line_color\":null,\"ticker\":null},\"id\":\"4566\",\"type\":\"Grid\"},{\"attributes\":{\"axis_label\":\"# of variables\",\"bounds\":\"auto\",\"formatter\":{\"id\":\"4838\"},\"major_label_orientation\":\"horizontal\",\"ticker\":{\"id\":\"4812\"}},\"id\":\"4811\",\"type\":\"LinearAxis\"},{\"attributes\":{\"axis_label\":\"# of variables\",\"bounds\":\"auto\",\"formatter\":{\"id\":\"4594\"},\"major_label_orientation\":\"horizontal\",\"ticker\":{\"id\":\"4568\"}},\"id\":\"4567\",\"type\":\"LinearAxis\"},{\"attributes\":{},\"id\":\"4812\",\"type\":\"BasicTicker\"},{\"attributes\":{\"callback\":null,\"renderers\":[{\"id\":\"4651\"}],\"tags\":[\"hv_created\"],\"tooltips\":[[\"index\",\"@{index}\"],[\"0\",\"@{A_0}\"]]},\"id\":\"4615\",\"type\":\"HoverTool\"},{\"attributes\":{\"axis\":{\"id\":\"4811\"},\"dimension\":1,\"grid_line_color\":null,\"ticker\":null},\"id\":\"4814\",\"type\":\"Grid\"},{\"attributes\":{},\"id\":\"4568\",\"type\":\"BasicTicker\"},{\"attributes\":{},\"id\":\"4695\",\"type\":\"WheelZoomTool\"},{\"attributes\":{\"axis\":{\"id\":\"4567\"},\"dimension\":1,\"grid_line_color\":null,\"ticker\":null},\"id\":\"4570\",\"type\":\"Grid\"},{\"attributes\":{},\"id\":\"4785\",\"type\":\"UnionRenderers\"},{\"attributes\":{\"child\":{\"id\":\"4555\"},\"name\":\"call_data\",\"title\":\"call_data\"},\"id\":\"4612\",\"type\":\"Panel\"},{\"attributes\":{},\"id\":\"4684\",\"type\":\"LinearScale\"},{\"attributes\":{\"child\":{\"id\":\"4677\"},\"name\":\"booking_data\",\"title\":\"booking_data\"},\"id\":\"4734\",\"type\":\"Panel\"},{\"attributes\":{\"axis_label\":\"# of variables\",\"bounds\":\"auto\",\"formatter\":{\"id\":\"4655\"},\"major_label_orientation\":\"horizontal\",\"ticker\":{\"id\":\"4629\"}},\"id\":\"4628\",\"type\":\"LinearAxis\"},{\"attributes\":{\"axis\":{\"id\":\"4686\"},\"grid_line_color\":null,\"ticker\":null},\"id\":\"4688\",\"type\":\"Grid\"},{\"attributes\":{},\"id\":\"4755\",\"type\":\"PanTool\"},{\"attributes\":{},\"id\":\"4756\",\"type\":\"WheelZoomTool\"},{\"attributes\":{},\"id\":\"4815\",\"type\":\"SaveTool\"},{\"attributes\":{\"axis\":{\"id\":\"4689\"},\"dimension\":1,\"grid_line_color\":null,\"ticker\":null},\"id\":\"4692\",\"type\":\"Grid\"},{\"attributes\":{},\"id\":\"4571\",\"type\":\"SaveTool\"},{\"attributes\":{},\"id\":\"4816\",\"type\":\"PanTool\"},{\"attributes\":{},\"id\":\"4690\",\"type\":\"BasicTicker\"},{\"attributes\":{},\"id\":\"4572\",\"type\":\"PanTool\"},{\"attributes\":{},\"id\":\"4629\",\"type\":\"BasicTicker\"},{\"attributes\":{},\"id\":\"4817\",\"type\":\"WheelZoomTool\"},{\"attributes\":{\"axis\":{\"id\":\"4628\"},\"dimension\":1,\"grid_line_color\":null,\"ticker\":null},\"id\":\"4631\",\"type\":\"Grid\"},{\"attributes\":{},\"id\":\"4573\",\"type\":\"WheelZoomTool\"},{\"attributes\":{\"overlay\":{\"id\":\"4820\"}},\"id\":\"4818\",\"type\":\"BoxZoomTool\"},{\"attributes\":{\"overlay\":{\"id\":\"4576\"}},\"id\":\"4574\",\"type\":\"BoxZoomTool\"},{\"attributes\":{\"source\":{\"id\":\"4767\"}},\"id\":\"4774\",\"type\":\"CDSView\"},{\"attributes\":{\"callback\":null,\"renderers\":[{\"id\":\"4773\"}],\"tags\":[\"hv_created\"],\"tooltips\":[[\"index\",\"@{index}\"],[\"0\",\"@{A_0}\"]]},\"id\":\"4737\",\"type\":\"HoverTool\"},{\"attributes\":{},\"id\":\"4819\",\"type\":\"ResetTool\"},{\"attributes\":{\"callback\":null,\"renderers\":[{\"id\":\"4712\"}],\"tags\":[\"hv_created\"],\"tooltips\":[[\"index\",\"@{index}\"],[\"0\",\"@{A_0}\"]]},\"id\":\"4676\",\"type\":\"HoverTool\"},{\"attributes\":{\"bottom_units\":\"screen\",\"fill_alpha\":0.5,\"fill_color\":\"lightgrey\",\"left_units\":\"screen\",\"level\":\"overlay\",\"line_alpha\":1.0,\"line_color\":\"black\",\"line_dash\":[4,4],\"line_width\":2,\"right_units\":\"screen\",\"top_units\":\"screen\"},\"id\":\"4820\",\"type\":\"BoxAnnotation\"},{\"attributes\":{},\"id\":\"4575\",\"type\":\"ResetTool\"},{\"attributes\":{},\"id\":\"4663\",\"type\":\"UnionRenderers\"},{\"attributes\":{},\"id\":\"4632\",\"type\":\"SaveTool\"},{\"attributes\":{},\"id\":\"4754\",\"type\":\"SaveTool\"},{\"attributes\":{\"active_drag\":\"auto\",\"active_inspect\":\"auto\",\"active_multi\":null,\"active_scroll\":\"auto\",\"active_tap\":\"auto\",\"tools\":[{\"id\":\"4554\"},{\"id\":\"4571\"},{\"id\":\"4572\"},{\"id\":\"4573\"},{\"id\":\"4574\"},{\"id\":\"4575\"}]},\"id\":\"4577\",\"type\":\"Toolbar\"},{\"attributes\":{},\"id\":\"4633\",\"type\":\"PanTool\"},{\"attributes\":{\"data\":{\"A_0\":[9,0,0,0,0,0,0,0],\"index\":[\"No Missing\",\"0-5%\",\"5-10%\",\"10-20%\",\"20-30%\",\"30-40%\",\"40-50%\",\"50-100%\"]},\"selected\":{\"id\":\"4829\"},\"selection_policy\":{\"id\":\"4846\"}},\"id\":\"4828\",\"type\":\"ColumnDataSource\"},{\"attributes\":{\"bottom_units\":\"screen\",\"fill_alpha\":0.5,\"fill_color\":\"lightgrey\",\"left_units\":\"screen\",\"level\":\"overlay\",\"line_alpha\":1.0,\"line_color\":\"black\",\"line_dash\":[4,4],\"line_width\":2,\"right_units\":\"screen\",\"top_units\":\"screen\"},\"id\":\"4576\",\"type\":\"BoxAnnotation\"},{\"attributes\":{},\"id\":\"4846\",\"type\":\"UnionRenderers\"},{\"attributes\":{},\"id\":\"4634\",\"type\":\"WheelZoomTool\"},{\"attributes\":{},\"id\":\"4585\",\"type\":\"Selection\"},{\"attributes\":{\"overlay\":{\"id\":\"4637\"}},\"id\":\"4635\",\"type\":\"BoxZoomTool\"},{\"attributes\":{},\"id\":\"4777\",\"type\":\"BasicTickFormatter\"},{\"attributes\":{\"text\":\"Missing Variables\",\"text_color\":{\"value\":\"black\"},\"text_font_size\":{\"value\":\"12pt\"}},\"id\":\"4678\",\"type\":\"Title\"},{\"attributes\":{},\"id\":\"4751\",\"type\":\"BasicTicker\"},{\"attributes\":{\"axis\":{\"id\":\"4750\"},\"dimension\":1,\"grid_line_color\":null,\"ticker\":null},\"id\":\"4753\",\"type\":\"Grid\"},{\"attributes\":{},\"id\":\"4636\",\"type\":\"ResetTool\"},{\"attributes\":{},\"id\":\"4682\",\"type\":\"CategoricalScale\"},{\"attributes\":{\"data\":{\"A_0\":[7,7,0,4,0,2,3,4],\"index\":[\"No Missing\",\"0-5%\",\"5-10%\",\"10-20%\",\"20-30%\",\"30-40%\",\"40-50%\",\"50-100%\"]},\"selected\":{\"id\":\"4768\"},\"selection_policy\":{\"id\":\"4785\"}},\"id\":\"4767\",\"type\":\"ColumnDataSource\"},{\"attributes\":{\"child\":{\"id\":\"4616\"},\"name\":\"last_activity_data\",\"title\":\"last_activity_data\"},\"id\":\"4673\",\"type\":\"Panel\"},{\"attributes\":{\"below\":[{\"id\":\"4747\"}],\"center\":[{\"id\":\"4749\"},{\"id\":\"4753\"}],\"left\":[{\"id\":\"4750\"}],\"margin\":[5,5,5,5],\"min_border_bottom\":10,\"min_border_left\":10,\"min_border_right\":10,\"min_border_top\":10,\"plot_height\":300,\"plot_width\":700,\"renderers\":[{\"id\":\"4773\"}],\"sizing_mode\":\"fixed\",\"title\":{\"id\":\"4739\"},\"toolbar\":{\"id\":\"4760\"},\"x_range\":{\"id\":\"4552\"},\"x_scale\":{\"id\":\"4743\"},\"y_range\":{\"id\":\"4553\"},\"y_scale\":{\"id\":\"4745\"}},\"id\":\"4738\",\"subtype\":\"Figure\",\"type\":\"Plot\"},{\"attributes\":{\"data_source\":{\"id\":\"4706\"},\"glyph\":{\"id\":\"4709\"},\"hover_glyph\":null,\"muted_glyph\":{\"id\":\"4711\"},\"nonselection_glyph\":{\"id\":\"4710\"},\"selection_glyph\":null,\"view\":{\"id\":\"4713\"}},\"id\":\"4712\",\"type\":\"GlyphRenderer\"},{\"attributes\":{},\"id\":\"4646\",\"type\":\"Selection\"},{\"attributes\":{\"active_drag\":\"auto\",\"active_inspect\":\"auto\",\"active_multi\":null,\"active_scroll\":\"auto\",\"active_tap\":\"auto\",\"tools\":[{\"id\":\"4615\"},{\"id\":\"4632\"},{\"id\":\"4633\"},{\"id\":\"4634\"},{\"id\":\"4635\"},{\"id\":\"4636\"}]},\"id\":\"4638\",\"type\":\"Toolbar\"},{\"attributes\":{},\"id\":\"4775\",\"type\":\"CategoricalTickFormatter\"},{\"attributes\":{\"text\":\"Missing Variables\",\"text_color\":{\"value\":\"black\"},\"text_font_size\":{\"value\":\"12pt\"}},\"id\":\"4739\",\"type\":\"Title\"},{\"attributes\":{\"bottom_units\":\"screen\",\"fill_alpha\":0.5,\"fill_color\":\"lightgrey\",\"left_units\":\"screen\",\"level\":\"overlay\",\"line_alpha\":1.0,\"line_color\":\"black\",\"line_dash\":[4,4],\"line_width\":2,\"right_units\":\"screen\",\"top_units\":\"screen\"},\"id\":\"4637\",\"type\":\"BoxAnnotation\"},{\"attributes\":{},\"id\":\"4743\",\"type\":\"CategoricalScale\"},{\"attributes\":{\"fill_alpha\":{\"value\":0.2},\"fill_color\":{\"value\":\"#1f77b3\"},\"line_alpha\":{\"value\":0.2},\"top\":{\"field\":\"A_0\"},\"width\":{\"value\":0.8},\"x\":{\"field\":\"index\"}},\"id\":\"4589\",\"type\":\"VBar\"},{\"attributes\":{},\"id\":\"4745\",\"type\":\"LinearScale\"},{\"attributes\":{},\"id\":\"4724\",\"type\":\"UnionRenderers\"},{\"attributes\":{\"fill_color\":{\"value\":\"#1f77b3\"},\"top\":{\"field\":\"A_0\"},\"width\":{\"value\":0.8},\"x\":{\"field\":\"index\"}},\"id\":\"4587\",\"type\":\"VBar\"},{\"attributes\":{\"fill_alpha\":{\"value\":0.2},\"fill_color\":{\"value\":\"#1f77b3\"},\"line_alpha\":{\"value\":0.2},\"top\":{\"field\":\"A_0\"},\"width\":{\"value\":0.8},\"x\":{\"field\":\"index\"}},\"id\":\"4772\",\"type\":\"VBar\"},{\"attributes\":{\"axis_label\":\"# of variables\",\"bounds\":\"auto\",\"formatter\":{\"id\":\"4716\"},\"major_label_orientation\":\"horizontal\",\"ticker\":{\"id\":\"4690\"}},\"id\":\"4689\",\"type\":\"LinearAxis\"},{\"attributes\":{\"axis_label\":\"# of missing observations\",\"bounds\":\"auto\",\"formatter\":{\"id\":\"4775\"},\"major_label_orientation\":\"horizontal\",\"ticker\":{\"id\":\"4748\"}},\"id\":\"4747\",\"type\":\"CategoricalAxis\"},{\"attributes\":{\"fill_alpha\":{\"value\":0.1},\"fill_color\":{\"value\":\"#1f77b3\"},\"line_alpha\":{\"value\":0.1},\"top\":{\"field\":\"A_0\"},\"width\":{\"value\":0.8},\"x\":{\"field\":\"index\"}},\"id\":\"4588\",\"type\":\"VBar\"},{\"attributes\":{\"fill_alpha\":{\"value\":0.1},\"fill_color\":{\"value\":\"#1f77b3\"},\"line_alpha\":{\"value\":0.1},\"top\":{\"field\":\"A_0\"},\"width\":{\"value\":0.8},\"x\":{\"field\":\"index\"}},\"id\":\"4771\",\"type\":\"VBar\"},{\"attributes\":{},\"id\":\"4748\",\"type\":\"CategoricalTicker\"},{\"attributes\":{\"axis\":{\"id\":\"4747\"},\"grid_line_color\":null,\"ticker\":null},\"id\":\"4749\",\"type\":\"Grid\"},{\"attributes\":{\"axis_label\":\"# of variables\",\"bounds\":\"auto\",\"formatter\":{\"id\":\"4777\"},\"major_label_orientation\":\"horizontal\",\"ticker\":{\"id\":\"4751\"}},\"id\":\"4750\",\"type\":\"LinearAxis\"},{\"attributes\":{},\"id\":\"4707\",\"type\":\"Selection\"},{\"attributes\":{\"active_drag\":\"auto\",\"active_inspect\":\"auto\",\"active_multi\":null,\"active_scroll\":\"auto\",\"active_tap\":\"auto\",\"tools\":[{\"id\":\"4676\"},{\"id\":\"4693\"},{\"id\":\"4694\"},{\"id\":\"4695\"},{\"id\":\"4696\"},{\"id\":\"4697\"}]},\"id\":\"4699\",\"type\":\"Toolbar\"},{\"attributes\":{},\"id\":\"4697\",\"type\":\"ResetTool\"},{\"attributes\":{\"bottom_units\":\"screen\",\"fill_alpha\":0.5,\"fill_color\":\"lightgrey\",\"left_units\":\"screen\",\"level\":\"overlay\",\"line_alpha\":1.0,\"line_color\":\"black\",\"line_dash\":[4,4],\"line_width\":2,\"right_units\":\"screen\",\"top_units\":\"screen\"},\"id\":\"4698\",\"type\":\"BoxAnnotation\"},{\"attributes\":{},\"id\":\"4838\",\"type\":\"BasicTickFormatter\"},{\"attributes\":{},\"id\":\"4836\",\"type\":\"CategoricalTickFormatter\"},{\"attributes\":{\"client_comm_id\":\"5a716f3a80d6416380ad94707e14e3a1\",\"comm_id\":\"88890e2e6f68492d9dbe89872b9e1a87\",\"plot_id\":\"4551\"},\"id\":\"4977\",\"type\":\"panel.models.comm_manager.CommManager\"},{\"attributes\":{\"fill_alpha\":{\"value\":0.1},\"fill_color\":{\"value\":\"#1f77b3\"},\"line_alpha\":{\"value\":0.1},\"top\":{\"field\":\"A_0\"},\"width\":{\"value\":0.8},\"x\":{\"field\":\"index\"}},\"id\":\"4710\",\"type\":\"VBar\"},{\"attributes\":{\"margin\":[0,0,0,0],\"tabs\":[{\"id\":\"4612\"},{\"id\":\"4673\"},{\"id\":\"4734\"},{\"id\":\"4795\"},{\"id\":\"4856\"}]},\"id\":\"4551\",\"type\":\"Tabs\"},{\"attributes\":{\"fill_color\":{\"value\":\"#1f77b3\"},\"top\":{\"field\":\"A_0\"},\"width\":{\"value\":0.8},\"x\":{\"field\":\"index\"}},\"id\":\"4831\",\"type\":\"VBar\"},{\"attributes\":{\"fill_color\":{\"value\":\"#1f77b3\"},\"top\":{\"field\":\"A_0\"},\"width\":{\"value\":0.8},\"x\":{\"field\":\"index\"}},\"id\":\"4709\",\"type\":\"VBar\"},{\"attributes\":{\"source\":{\"id\":\"4828\"}},\"id\":\"4835\",\"type\":\"CDSView\"},{\"attributes\":{\"fill_alpha\":{\"value\":0.1},\"fill_color\":{\"value\":\"#1f77b3\"},\"line_alpha\":{\"value\":0.1},\"top\":{\"field\":\"A_0\"},\"width\":{\"value\":0.8},\"x\":{\"field\":\"index\"}},\"id\":\"4832\",\"type\":\"VBar\"},{\"attributes\":{\"fill_alpha\":{\"value\":0.2},\"fill_color\":{\"value\":\"#1f77b3\"},\"line_alpha\":{\"value\":0.2},\"top\":{\"field\":\"A_0\"},\"width\":{\"value\":0.8},\"x\":{\"field\":\"index\"}},\"id\":\"4833\",\"type\":\"VBar\"},{\"attributes\":{\"data_source\":{\"id\":\"4828\"},\"glyph\":{\"id\":\"4831\"},\"hover_glyph\":null,\"muted_glyph\":{\"id\":\"4833\"},\"nonselection_glyph\":{\"id\":\"4832\"},\"selection_glyph\":null,\"view\":{\"id\":\"4835\"}},\"id\":\"4834\",\"type\":\"GlyphRenderer\"},{\"attributes\":{},\"id\":\"4594\",\"type\":\"BasicTickFormatter\"},{\"attributes\":{},\"id\":\"4592\",\"type\":\"CategoricalTickFormatter\"},{\"attributes\":{},\"id\":\"4693\",\"type\":\"SaveTool\"},{\"attributes\":{\"child\":{\"id\":\"4738\"},\"name\":\"consumer_data\",\"title\":\"consumer_data\"},\"id\":\"4795\",\"type\":\"Panel\"},{\"attributes\":{\"end\":14.3,\"reset_end\":6.6,\"reset_start\":0.0,\"tags\":[[[\"0\",\"0\",null]]]},\"id\":\"4553\",\"type\":\"Range1d\"},{\"attributes\":{},\"id\":\"4829\",\"type\":\"Selection\"},{\"attributes\":{\"fill_color\":{\"value\":\"#1f77b3\"},\"top\":{\"field\":\"A_0\"},\"width\":{\"value\":0.8},\"x\":{\"field\":\"index\"}},\"id\":\"4770\",\"type\":\"VBar\"},{\"attributes\":{\"overlay\":{\"id\":\"4698\"}},\"id\":\"4696\",\"type\":\"BoxZoomTool\"},{\"attributes\":{\"active_drag\":\"auto\",\"active_inspect\":\"auto\",\"active_multi\":null,\"active_scroll\":\"auto\",\"active_tap\":\"auto\",\"tools\":[{\"id\":\"4798\"},{\"id\":\"4815\"},{\"id\":\"4816\"},{\"id\":\"4817\"},{\"id\":\"4818\"},{\"id\":\"4819\"}]},\"id\":\"4821\",\"type\":\"Toolbar\"},{\"attributes\":{\"data_source\":{\"id\":\"4584\"},\"glyph\":{\"id\":\"4587\"},\"hover_glyph\":null,\"muted_glyph\":{\"id\":\"4589\"},\"nonselection_glyph\":{\"id\":\"4588\"},\"selection_glyph\":null,\"view\":{\"id\":\"4591\"}},\"id\":\"4590\",\"type\":\"GlyphRenderer\"},{\"attributes\":{\"source\":{\"id\":\"4584\"}},\"id\":\"4591\",\"type\":\"CDSView\"},{\"attributes\":{\"factors\":[\"No Missing\",\"0-5%\",\"5-10%\",\"10-20%\",\"20-30%\",\"30-40%\",\"40-50%\",\"50-100%\"],\"tags\":[[[\"index\",\"index\",null]]]},\"id\":\"4552\",\"type\":\"FactorRange\"}],\"root_ids\":[\"4551\",\"4977\"]},\"title\":\"Bokeh Application\",\"version\":\"2.2.3\"}};\n",
       "    var render_items = [{\"docid\":\"d3cf7ad6-59ba-478e-9f2a-3663aa8d9892\",\"root_ids\":[\"4551\"],\"roots\":{\"4551\":\"5dc3a62c-665b-44cf-b2ac-4ad6bb282f24\"}}];\n",
       "    root.Bokeh.embed.embed_items_notebook(docs_json, render_items);\n",
       "  }\n",
       "  if (root.Bokeh !== undefined && root.Bokeh.Panel !== undefined) {\n",
       "    embed_document(root);\n",
       "  } else {\n",
       "    var attempts = 0;\n",
       "    var timer = setInterval(function(root) {\n",
       "      if (root.Bokeh !== undefined && root.Bokeh.Panel !== undefined) {\n",
       "        clearInterval(timer);\n",
       "        embed_document(root);\n",
       "      } else if (document.readyState == \"complete\") {\n",
       "        attempts++;\n",
       "        if (attempts > 100) {\n",
       "          clearInterval(timer);\n",
       "          console.log(\"Bokeh: ERROR: Unable to run BokehJS code because BokehJS library is missing\");\n",
       "        }\n",
       "      }\n",
       "    }, 10, root)\n",
       "  }\n",
       "})(window);</script>"
      ],
      "text/plain": [
       "Tabs\n",
       "    [0] HoloViews(Bars, name='call_data')\n",
       "    [1] HoloViews(Bars, name='last_activity_data')\n",
       "    [2] HoloViews(Bars, name='booking_data')\n",
       "    [3] HoloViews(Bars, name='consumer_data')\n",
       "    [4] HoloViews(Bars, name='web_data')"
      ]
     },
     "execution_count": 21,
     "metadata": {
      "application/vnd.holoviews_exec.v0+json": {
       "id": "4551"
      }
     },
     "output_type": "execute_result"
    }
   ],
   "source": [
    "%%time\n",
    "utils.display_as_tabs([(k, eda.missing_plot(v)) for k,v in data.items()])"
   ]
  },
  {
   "cell_type": "markdown",
   "metadata": {},
   "source": [
    "## Missing data summary"
   ]
  },
  {
   "cell_type": "code",
   "execution_count": 22,
   "metadata": {},
   "outputs": [
    {
     "name": "stdout",
     "output_type": "stream",
     "text": [
      "Wall time: 37.6 s\n"
     ]
    },
    {
     "data": {},
     "metadata": {},
     "output_type": "display_data"
    },
    {
     "data": {
      "application/vnd.holoviews_exec.v0+json": "",
      "text/html": [
       "<div id='5178'>\n",
       "\n",
       "\n",
       "\n",
       "\n",
       "\n",
       "  <div class=\"bk-root\" id=\"7f5da4a8-6279-4c30-aa56-326f8505fc64\" data-root-id=\"5178\"></div>\n",
       "</div>\n",
       "<script type=\"application/javascript\">(function(root) {\n",
       "  function embed_document(root) {\n",
       "    var docs_json = {\"9eda888f-c428-4335-8eb2-ec11e9e443eb\":{\"roots\":{\"references\":[{\"attributes\":{},\"id\":\"5246\",\"type\":\"CellEditor\"},{\"attributes\":{\"editor\":{\"id\":\"5230\"},\"field\":\"No of Missing\",\"formatter\":{\"id\":\"5229\"},\"title\":\"No of Missing\"},\"id\":\"5231\",\"type\":\"TableColumn\"},{\"attributes\":{},\"id\":\"5197\",\"type\":\"NumberFormatter\"},{\"attributes\":{},\"id\":\"5261\",\"type\":\"NumberFormatter\"},{\"attributes\":{\"editor\":{\"id\":\"5198\"},\"field\":\"No of Missing\",\"formatter\":{\"id\":\"5197\"},\"title\":\"No of Missing\"},\"id\":\"5199\",\"type\":\"TableColumn\"},{\"attributes\":{\"editor\":{\"id\":\"5278\"},\"field\":\"index\",\"formatter\":{\"id\":\"5276\"},\"title\":\"index\"},\"id\":\"5279\",\"type\":\"TableColumn\"},{\"attributes\":{},\"id\":\"5198\",\"type\":\"IntEditor\"},{\"attributes\":{},\"id\":\"5250\",\"type\":\"NumberFormatter\"},{\"attributes\":{},\"id\":\"5257\",\"type\":\"StringEditor\"},{\"attributes\":{\"source\":{\"id\":\"5243\"}},\"id\":\"5272\",\"type\":\"CDSView\"},{\"attributes\":{},\"id\":\"5203\",\"type\":\"NumberEditor\"},{\"attributes\":{\"editor\":{\"id\":\"5262\"},\"field\":\"No of Missing\",\"formatter\":{\"id\":\"5261\"},\"title\":\"No of Missing\"},\"id\":\"5263\",\"type\":\"TableColumn\"},{\"attributes\":{},\"id\":\"5218\",\"type\":\"NumberFormatter\"},{\"attributes\":{\"columns\":[{\"id\":\"5215\"},{\"id\":\"5221\"},{\"id\":\"5226\"},{\"id\":\"5231\"},{\"id\":\"5236\"}],\"editable\":true,\"height\":300,\"index_position\":null,\"margin\":[5,10,5,10],\"name\":\"last_activity_data\",\"sizing_mode\":\"fixed\",\"source\":{\"id\":\"5211\"},\"view\":{\"id\":\"5240\"},\"width\":300},\"id\":\"5239\",\"type\":\"DataTable\"},{\"attributes\":{},\"id\":\"5294\",\"type\":\"IntEditor\"},{\"attributes\":{\"editor\":{\"id\":\"5246\"},\"field\":\"index\",\"formatter\":{\"id\":\"5244\"},\"title\":\"index\"},\"id\":\"5247\",\"type\":\"TableColumn\"},{\"attributes\":{\"format\":\"0,0.0[00000]\"},\"id\":\"5298\",\"type\":\"NumberFormatter\"},{\"attributes\":{},\"id\":\"5282\",\"type\":\"NumberFormatter\"},{\"attributes\":{\"editor\":{\"id\":\"5299\"},\"field\":\"Percentage Missing\",\"formatter\":{\"id\":\"5298\"},\"title\":\"Percentage Missing\"},\"id\":\"5300\",\"type\":\"TableColumn\"},{\"attributes\":{},\"id\":\"5262\",\"type\":\"IntEditor\"},{\"attributes\":{\"child\":{\"id\":\"5239\"},\"name\":\"last_activity_data\",\"title\":\"last_activity_data\"},\"id\":\"5242\",\"type\":\"Panel\"},{\"attributes\":{},\"id\":\"5180\",\"type\":\"NumberFormatter\"},{\"attributes\":{\"editor\":{\"id\":\"5284\"},\"field\":\"index\",\"formatter\":{\"id\":\"5282\"},\"title\":\"index\"},\"id\":\"5285\",\"type\":\"TableColumn\"},{\"attributes\":{},\"id\":\"5273\",\"type\":\"Selection\"},{\"attributes\":{\"editor\":{\"id\":\"5193\"},\"field\":\"Variable Name\",\"formatter\":{\"id\":\"5192\"},\"title\":\"Variable Name\"},\"id\":\"5194\",\"type\":\"TableColumn\"},{\"attributes\":{},\"id\":\"5299\",\"type\":\"NumberEditor\"},{\"attributes\":{},\"id\":\"5316\",\"type\":\"UnionRenderers\"},{\"attributes\":{},\"id\":\"5278\",\"type\":\"CellEditor\"},{\"attributes\":{},\"id\":\"5244\",\"type\":\"NumberFormatter\"},{\"attributes\":{},\"id\":\"5284\",\"type\":\"CellEditor\"},{\"attributes\":{\"columns\":[{\"id\":\"5247\"},{\"id\":\"5253\"},{\"id\":\"5258\"},{\"id\":\"5263\"},{\"id\":\"5268\"}],\"editable\":true,\"height\":300,\"index_position\":null,\"margin\":[5,10,5,10],\"name\":\"booking_data\",\"sizing_mode\":\"fixed\",\"source\":{\"id\":\"5243\"},\"view\":{\"id\":\"5272\"},\"width\":300},\"id\":\"5271\",\"type\":\"DataTable\"},{\"attributes\":{\"editor\":{\"id\":\"5267\"},\"field\":\"Percentage Missing\",\"formatter\":{\"id\":\"5266\"},\"title\":\"Percentage Missing\"},\"id\":\"5268\",\"type\":\"TableColumn\"},{\"attributes\":{},\"id\":\"5192\",\"type\":\"StringFormatter\"},{\"attributes\":{\"source\":{\"id\":\"5275\"}},\"id\":\"5304\",\"type\":\"CDSView\"},{\"attributes\":{\"editor\":{\"id\":\"5182\"},\"field\":\"index\",\"formatter\":{\"id\":\"5180\"},\"title\":\"index\"},\"id\":\"5183\",\"type\":\"TableColumn\"},{\"attributes\":{\"data\":{\"No of Missing\":[66627,345,1573,30,43164,42811,35701,561,14547,30,4477,69702,13854,84717,34688,19162,49123,4411,88475,14315],\"Percentage Missing\":{\"__ndarray__\":\"tG4wRT5DT0CICzUngbjUP+apL8pdnvc/Q81JIC7UnD8Opshn3UBEQOif8GN2FkRAhxV0jWjAQECN7Xf0ytjgP9l+R6+MTStAQ81JIC7UnD/kOI7jOM4QQCUQF2pOWlBACcSFmpMAKkDBFPmsG+BTQGxEwwq6RkBAt9WSxXv7MUBLmw4hqQxHQO38E37MjhBAXSMaVtDBVEDix+z8E94qQA==\",\"dtype\":\"float64\",\"order\":\"little\",\"shape\":[20]},\"Variable Name\":[\"high_value_zip_desc\",\"et_active_flag\",\"jm_hml_segment_code\",\"last_cruise_months_ago\",\"click_to_open\",\"click_pct\",\"open_pct\",\"max_event_date\",\"cel_dma_desc\",\"cel_first_cruise_date\",\"cc_current_loyalty_tier_code\",\"booked_flag\",\"beach_relax_cruise_intention\",\"luxury_relax_cruise_intention\",\"natural_wonders_cruise_intenti\",\"new_metro_cruise_intention\",\"old_metro_cruise_intention\",\"sea_cruise_intention\",\"town_cruise_intention\",\"state_code\"],\"index\":[4,5,6,7,8,9,10,11,12,13,14,15,16,17,18,19,20,21,22,24],\"level_0\":[0,1,2,3,4,5,6,7,8,9,10,11,12,13,14,15,16,17,18,19]},\"selected\":{\"id\":\"5305\"},\"selection_policy\":{\"id\":\"5316\"}},\"id\":\"5275\",\"type\":\"ColumnDataSource\"},{\"attributes\":{},\"id\":\"5314\",\"type\":\"UnionRenderers\"},{\"attributes\":{\"editor\":{\"id\":\"5252\"},\"field\":\"index\",\"formatter\":{\"id\":\"5250\"},\"title\":\"index\"},\"id\":\"5253\",\"type\":\"TableColumn\"},{\"attributes\":{\"columns\":[{\"id\":\"5279\"},{\"id\":\"5285\"},{\"id\":\"5290\"},{\"id\":\"5295\"},{\"id\":\"5300\"}],\"editable\":true,\"height\":300,\"index_position\":null,\"margin\":[5,10,5,10],\"name\":\"consumer_data\",\"sizing_mode\":\"fixed\",\"source\":{\"id\":\"5275\"},\"view\":{\"id\":\"5304\"},\"width\":300},\"id\":\"5303\",\"type\":\"DataTable\"},{\"attributes\":{},\"id\":\"5229\",\"type\":\"NumberFormatter\"},{\"attributes\":{\"source\":{\"id\":\"5211\"}},\"id\":\"5240\",\"type\":\"CDSView\"},{\"attributes\":{},\"id\":\"5209\",\"type\":\"Selection\"},{\"attributes\":{},\"id\":\"5214\",\"type\":\"CellEditor\"},{\"attributes\":{\"editor\":{\"id\":\"5294\"},\"field\":\"No of Missing\",\"formatter\":{\"id\":\"5293\"},\"title\":\"No of Missing\"},\"id\":\"5295\",\"type\":\"TableColumn\"},{\"attributes\":{},\"id\":\"5312\",\"type\":\"UnionRenderers\"},{\"attributes\":{\"child\":{\"id\":\"5307\"},\"name\":\"web_data\",\"title\":\"web_data\"},\"id\":\"5308\",\"type\":\"Panel\"},{\"attributes\":{},\"id\":\"5252\",\"type\":\"CellEditor\"},{\"attributes\":{},\"id\":\"5305\",\"type\":\"Selection\"},{\"attributes\":{},\"id\":\"5256\",\"type\":\"StringFormatter\"},{\"attributes\":{\"columns\":[{\"id\":\"5183\"},{\"id\":\"5189\"},{\"id\":\"5194\"},{\"id\":\"5199\"},{\"id\":\"5204\"}],\"editable\":true,\"height\":300,\"index_position\":null,\"margin\":[5,10,5,10],\"name\":\"call_data\",\"sizing_mode\":\"fixed\",\"source\":{\"id\":\"5179\"},\"view\":{\"id\":\"5208\"},\"width\":300},\"id\":\"5207\",\"type\":\"DataTable\"},{\"attributes\":{\"editor\":{\"id\":\"5257\"},\"field\":\"Variable Name\",\"formatter\":{\"id\":\"5256\"},\"title\":\"Variable Name\"},\"id\":\"5258\",\"type\":\"TableColumn\"},{\"attributes\":{},\"id\":\"5193\",\"type\":\"StringEditor\"},{\"attributes\":{},\"id\":\"5288\",\"type\":\"StringFormatter\"},{\"attributes\":{},\"id\":\"5225\",\"type\":\"StringEditor\"},{\"attributes\":{},\"id\":\"5220\",\"type\":\"CellEditor\"},{\"attributes\":{\"source\":{\"id\":\"5179\"}},\"id\":\"5208\",\"type\":\"CDSView\"},{\"attributes\":{},\"id\":\"5276\",\"type\":\"NumberFormatter\"},{\"attributes\":{},\"id\":\"5186\",\"type\":\"NumberFormatter\"},{\"attributes\":{\"css_classes\":[\"markdown\"],\"margin\":[5,5,5,5],\"name\":\"web_data\",\"text\":\"&lt;p&gt;No Missing Values&lt;/p&gt;\"},\"id\":\"5307\",\"type\":\"panel.models.markup.HTML\"},{\"attributes\":{\"editor\":{\"id\":\"5225\"},\"field\":\"Variable Name\",\"formatter\":{\"id\":\"5224\"},\"title\":\"Variable Name\"},\"id\":\"5226\",\"type\":\"TableColumn\"},{\"attributes\":{},\"id\":\"5188\",\"type\":\"CellEditor\"},{\"attributes\":{\"editor\":{\"id\":\"5203\"},\"field\":\"Percentage Missing\",\"formatter\":{\"id\":\"5202\"},\"title\":\"Percentage Missing\"},\"id\":\"5204\",\"type\":\"TableColumn\"},{\"attributes\":{},\"id\":\"5310\",\"type\":\"UnionRenderers\"},{\"attributes\":{\"format\":\"0,0.0[00000]\"},\"id\":\"5202\",\"type\":\"NumberFormatter\"},{\"attributes\":{},\"id\":\"5224\",\"type\":\"StringFormatter\"},{\"attributes\":{\"margin\":[0,0,0,0],\"tabs\":[{\"id\":\"5210\"},{\"id\":\"5242\"},{\"id\":\"5274\"},{\"id\":\"5306\"},{\"id\":\"5308\"}]},\"id\":\"5178\",\"type\":\"Tabs\"},{\"attributes\":{\"editor\":{\"id\":\"5235\"},\"field\":\"Percentage Missing\",\"formatter\":{\"id\":\"5234\"},\"title\":\"Percentage Missing\"},\"id\":\"5236\",\"type\":\"TableColumn\"},{\"attributes\":{\"client_comm_id\":\"a7d34584551e4766b016f2804dae780e\",\"comm_id\":\"04df4c775f064891992d51dd259c76d8\",\"plot_id\":\"5178\"},\"id\":\"5333\",\"type\":\"panel.models.comm_manager.CommManager\"},{\"attributes\":{\"child\":{\"id\":\"5207\"},\"name\":\"call_data\",\"title\":\"call_data\"},\"id\":\"5210\",\"type\":\"Panel\"},{\"attributes\":{\"child\":{\"id\":\"5271\"},\"name\":\"booking_data\",\"title\":\"booking_data\"},\"id\":\"5274\",\"type\":\"Panel\"},{\"attributes\":{\"child\":{\"id\":\"5303\"},\"name\":\"consumer_data\",\"title\":\"consumer_data\"},\"id\":\"5306\",\"type\":\"Panel\"},{\"attributes\":{},\"id\":\"5241\",\"type\":\"Selection\"},{\"attributes\":{\"format\":\"0,0.0[00000]\"},\"id\":\"5266\",\"type\":\"NumberFormatter\"},{\"attributes\":{\"data\":{\"No of Missing\":[35,39486],\"Percentage Missing\":{\"__ndarray__\":\"H/nhyyvgiT+umjUjDIIsQA==\",\"dtype\":\"float64\",\"order\":\"little\",\"shape\":[2]},\"Variable Name\":[\"country_code\",\"state_code\"],\"index\":[5,6],\"level_0\":[0,1]},\"selected\":{\"id\":\"5241\"},\"selection_policy\":{\"id\":\"5312\"}},\"id\":\"5211\",\"type\":\"ColumnDataSource\"},{\"attributes\":{},\"id\":\"5182\",\"type\":\"CellEditor\"},{\"attributes\":{},\"id\":\"5267\",\"type\":\"NumberEditor\"},{\"attributes\":{},\"id\":\"5235\",\"type\":\"NumberEditor\"},{\"attributes\":{\"data\":{\"No of Missing\":[21],\"Percentage Missing\":{\"__ndarray__\":\"Yo3xNPbQaD8=\",\"dtype\":\"float64\",\"order\":\"little\",\"shape\":[1]},\"Variable Name\":[\"country_code\"],\"index\":[3],\"level_0\":[0]},\"selected\":{\"id\":\"5209\"},\"selection_policy\":{\"id\":\"5310\"}},\"id\":\"5179\",\"type\":\"ColumnDataSource\"},{\"attributes\":{\"editor\":{\"id\":\"5188\"},\"field\":\"index\",\"formatter\":{\"id\":\"5186\"},\"title\":\"index\"},\"id\":\"5189\",\"type\":\"TableColumn\"},{\"attributes\":{\"data\":{\"No of Missing\":[82215,4270442,189,245850],\"Percentage Missing\":{\"__ndarray__\":\"KwV2up7R+z+0+vRO55NWQJMQ80MdX3A/j9ZCuf/LFEA=\",\"dtype\":\"float64\",\"order\":\"little\",\"shape\":[4]},\"Variable Name\":[\"cabin_class_sailed\",\"choice_air_flag\",\"gender_code\",\"dma\"],\"index\":[5,7,10,11],\"level_0\":[0,1,2,3]},\"selected\":{\"id\":\"5273\"},\"selection_policy\":{\"id\":\"5314\"}},\"id\":\"5243\",\"type\":\"ColumnDataSource\"},{\"attributes\":{\"editor\":{\"id\":\"5214\"},\"field\":\"index\",\"formatter\":{\"id\":\"5212\"},\"title\":\"index\"},\"id\":\"5215\",\"type\":\"TableColumn\"},{\"attributes\":{},\"id\":\"5293\",\"type\":\"NumberFormatter\"},{\"attributes\":{\"editor\":{\"id\":\"5220\"},\"field\":\"index\",\"formatter\":{\"id\":\"5218\"},\"title\":\"index\"},\"id\":\"5221\",\"type\":\"TableColumn\"},{\"attributes\":{},\"id\":\"5289\",\"type\":\"StringEditor\"},{\"attributes\":{\"editor\":{\"id\":\"5289\"},\"field\":\"Variable Name\",\"formatter\":{\"id\":\"5288\"},\"title\":\"Variable Name\"},\"id\":\"5290\",\"type\":\"TableColumn\"},{\"attributes\":{},\"id\":\"5230\",\"type\":\"IntEditor\"},{\"attributes\":{},\"id\":\"5212\",\"type\":\"NumberFormatter\"},{\"attributes\":{\"format\":\"0,0.0[00000]\"},\"id\":\"5234\",\"type\":\"NumberFormatter\"}],\"root_ids\":[\"5178\",\"5333\"]},\"title\":\"Bokeh Application\",\"version\":\"2.2.3\"}};\n",
       "    var render_items = [{\"docid\":\"9eda888f-c428-4335-8eb2-ec11e9e443eb\",\"root_ids\":[\"5178\"],\"roots\":{\"5178\":\"7f5da4a8-6279-4c30-aa56-326f8505fc64\"}}];\n",
       "    root.Bokeh.embed.embed_items_notebook(docs_json, render_items);\n",
       "  }\n",
       "  if (root.Bokeh !== undefined && root.Bokeh.Panel !== undefined) {\n",
       "    embed_document(root);\n",
       "  } else {\n",
       "    var attempts = 0;\n",
       "    var timer = setInterval(function(root) {\n",
       "      if (root.Bokeh !== undefined && root.Bokeh.Panel !== undefined) {\n",
       "        clearInterval(timer);\n",
       "        embed_document(root);\n",
       "      } else if (document.readyState == \"complete\") {\n",
       "        attempts++;\n",
       "        if (attempts > 100) {\n",
       "          clearInterval(timer);\n",
       "          console.log(\"Bokeh: ERROR: Unable to run BokehJS code because BokehJS library is missing\");\n",
       "        }\n",
       "      }\n",
       "    }, 10, root)\n",
       "  }\n",
       "})(window);</script>"
      ],
      "text/plain": [
       "Tabs\n",
       "    [0] DataFrame(height=300, name='call_data', sizing_mode='fixed', value=   index Variable N..., width=300)\n",
       "    [1] DataFrame(height=300, name='last_activity_data', sizing_mode='fixed', value=   index Variable N..., width=300)\n",
       "    [2] DataFrame(height=300, name='booking_data', sizing_mode='fixed', value=   index      ..., width=300)\n",
       "    [3] DataFrame(height=300, name='consumer_data', sizing_mode='fixed', value=    index     ..., width=300)\n",
       "    [4] Markdown(str, name='web_data')"
      ]
     },
     "execution_count": 22,
     "metadata": {
      "application/vnd.holoviews_exec.v0+json": {
       "id": "5178"
      }
     },
     "output_type": "execute_result"
    }
   ],
   "source": [
    "%%time\n",
    "utils.display_as_tabs([(k, eda.missing_value_summary(v)) for k,v in data.items()])"
   ]
  },
  {
   "cell_type": "markdown",
   "metadata": {},
   "source": [
    "## Cardinality check of tables wrt consumer data"
   ]
  },
  {
   "cell_type": "code",
   "execution_count": 23,
   "metadata": {},
   "outputs": [
    {
     "name": "stdout",
     "output_type": "stream",
     "text": [
      "Wall time: 1min 59s\n"
     ]
    },
    {
     "data": {},
     "metadata": {},
     "output_type": "display_data"
    },
    {
     "data": {
      "application/vnd.holoviews_exec.v0+json": "",
      "text/html": [
       "<div id='5374'>\n",
       "\n",
       "\n",
       "\n",
       "\n",
       "\n",
       "  <div class=\"bk-root\" id=\"7f1b10e0-9375-424d-9323-e875afb3725f\" data-root-id=\"5374\"></div>\n",
       "</div>\n",
       "<script type=\"application/javascript\">(function(root) {\n",
       "  function embed_document(root) {\n",
       "    var docs_json = {\"d21efe81-ffaa-4106-b62a-e5d6c5d533c0\":{\"roots\":{\"references\":[{\"attributes\":{\"margin\":[5,20,5,5],\"name\":\"booking_data\",\"text\":\"{\\\"A-B\\\": 5682, \\\"B-A\\\": 2312126, \\\"AuB\\\": 2418686, \\\"A^B\\\": 100878}\"},\"id\":\"5379\",\"type\":\"panel.models.markup.JSON\"},{\"attributes\":{\"child\":{\"id\":\"5381\"},\"name\":\"consumer_data\",\"title\":\"consumer_data\"},\"id\":\"5382\",\"type\":\"Panel\"},{\"attributes\":{\"margin\":[5,20,5,5],\"name\":\"call_data\",\"text\":\"{\\\"A-B\\\": 0, \\\"B-A\\\": 0, \\\"AuB\\\": 106560, \\\"A^B\\\": 106560}\"},\"id\":\"5375\",\"type\":\"panel.models.markup.JSON\"},{\"attributes\":{\"child\":{\"id\":\"5379\"},\"name\":\"booking_data\",\"title\":\"booking_data\"},\"id\":\"5380\",\"type\":\"Panel\"},{\"attributes\":{\"child\":{\"id\":\"5377\"},\"name\":\"last_activity_data\",\"title\":\"last_activity_data\"},\"id\":\"5378\",\"type\":\"Panel\"},{\"attributes\":{\"margin\":[0,0,0,0],\"tabs\":[{\"id\":\"5376\"},{\"id\":\"5378\"},{\"id\":\"5380\"},{\"id\":\"5382\"},{\"id\":\"5384\"}]},\"id\":\"5374\",\"type\":\"Tabs\"},{\"attributes\":{\"child\":{\"id\":\"5375\"},\"name\":\"call_data\",\"title\":\"call_data\"},\"id\":\"5376\",\"type\":\"Panel\"},{\"attributes\":{\"margin\":[5,20,5,5],\"name\":\"last_activity_data\",\"text\":\"{\\\"A-B\\\": 0, \\\"B-A\\\": 0, \\\"AuB\\\": 106560, \\\"A^B\\\": 106560}\"},\"id\":\"5377\",\"type\":\"panel.models.markup.JSON\"},{\"attributes\":{\"margin\":[5,20,5,5],\"name\":\"web_data\",\"text\":\"{\\\"A-B\\\": 0, \\\"B-A\\\": 0, \\\"AuB\\\": 106560, \\\"A^B\\\": 106560}\"},\"id\":\"5383\",\"type\":\"panel.models.markup.JSON\"},{\"attributes\":{\"margin\":[5,20,5,5],\"name\":\"consumer_data\",\"text\":\"{\\\"A-B\\\": 0, \\\"B-A\\\": 0, \\\"AuB\\\": 106560, \\\"A^B\\\": 106560}\"},\"id\":\"5381\",\"type\":\"panel.models.markup.JSON\"},{\"attributes\":{\"client_comm_id\":\"dd726f7214bf4bb4ba31e65db91e2f4f\",\"comm_id\":\"181b0d17256e48d59f8e6afa02f86d10\",\"plot_id\":\"5374\"},\"id\":\"5385\",\"type\":\"panel.models.comm_manager.CommManager\"},{\"attributes\":{\"child\":{\"id\":\"5383\"},\"name\":\"web_data\",\"title\":\"web_data\"},\"id\":\"5384\",\"type\":\"Panel\"}],\"root_ids\":[\"5374\",\"5385\"]},\"title\":\"Bokeh Application\",\"version\":\"2.2.3\"}};\n",
       "    var render_items = [{\"docid\":\"d21efe81-ffaa-4106-b62a-e5d6c5d533c0\",\"root_ids\":[\"5374\"],\"roots\":{\"5374\":\"7f1b10e0-9375-424d-9323-e875afb3725f\"}}];\n",
       "    root.Bokeh.embed.embed_items_notebook(docs_json, render_items);\n",
       "  }\n",
       "  if (root.Bokeh !== undefined && root.Bokeh.Panel !== undefined) {\n",
       "    embed_document(root);\n",
       "  } else {\n",
       "    var attempts = 0;\n",
       "    var timer = setInterval(function(root) {\n",
       "      if (root.Bokeh !== undefined && root.Bokeh.Panel !== undefined) {\n",
       "        clearInterval(timer);\n",
       "        embed_document(root);\n",
       "      } else if (document.readyState == \"complete\") {\n",
       "        attempts++;\n",
       "        if (attempts > 100) {\n",
       "          clearInterval(timer);\n",
       "          console.log(\"Bokeh: ERROR: Unable to run BokehJS code because BokehJS library is missing\");\n",
       "        }\n",
       "      }\n",
       "    }, 10, root)\n",
       "  }\n",
       "})(window);</script>"
      ],
      "text/plain": [
       "Tabs\n",
       "    [0] JSON(dict, name='call_data')\n",
       "    [1] JSON(dict, name='last_activity_data')\n",
       "    [2] JSON(dict, name='booking_data')\n",
       "    [3] JSON(dict, name='consumer_data')\n",
       "    [4] JSON(dict, name='web_data')"
      ]
     },
     "execution_count": 23,
     "metadata": {
      "application/vnd.holoviews_exec.v0+json": {
       "id": "5374"
      }
     },
     "output_type": "execute_result"
    }
   ],
   "source": [
    "%%time\n",
    "utils.display_as_tabs([(k, eda.setanalyse(df_consumer_data, v,\"customer_id\")) for k,v in data.items()])"
   ]
  }
 ],
 "metadata": {
  "kernelspec": {
   "display_name": "Python 3",
   "language": "python",
   "name": "python3"
  },
  "language_info": {
   "codemirror_mode": {
    "name": "ipython",
    "version": 3
   },
   "file_extension": ".py",
   "mimetype": "text/x-python",
   "name": "python",
   "nbconvert_exporter": "python",
   "pygments_lexer": "ipython3",
   "version": "3.7.3"
  }
 },
 "nbformat": 4,
 "nbformat_minor": 4
}
